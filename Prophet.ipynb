{
 "cells": [
  {
   "cell_type": "code",
   "execution_count": 2,
   "metadata": {},
   "outputs": [],
   "source": [
    "from fbprophet import Prophet\n",
    "import pandas as pd\n",
    "import numpy as np"
   ]
  },
  {
   "cell_type": "code",
   "execution_count": 3,
   "metadata": {},
   "outputs": [],
   "source": [
    "import matplotlib.pyplot as plt\n",
    "%matplotlib inline\n",
    "from matplotlib.pylab import rcParams\n",
    "rcParams['figure.figsize'] = 15, 6\n",
    "rcParams['axes.labelsize'] = 12\n",
    "rcParams['xtick.labelsize'] = 10\n",
    "rcParams['ytick.labelsize'] = 10\n",
    "plt.style.use('fivethirtyeight')\n",
    "rcParams['text.color'] = 'k'"
   ]
  },
  {
   "cell_type": "code",
   "execution_count": 5,
   "metadata": {},
   "outputs": [],
   "source": [
    "data = pd.read_csv('/home/prodigalson/J Files/Project - Time Series/data.csv',sep=';')"
   ]
  },
  {
   "cell_type": "code",
   "execution_count": 6,
   "metadata": {},
   "outputs": [
    {
     "data": {
      "text/html": [
       "<div>\n",
       "<style scoped>\n",
       "    .dataframe tbody tr th:only-of-type {\n",
       "        vertical-align: middle;\n",
       "    }\n",
       "\n",
       "    .dataframe tbody tr th {\n",
       "        vertical-align: top;\n",
       "    }\n",
       "\n",
       "    .dataframe thead th {\n",
       "        text-align: right;\n",
       "    }\n",
       "</style>\n",
       "<table border=\"1\" class=\"dataframe\">\n",
       "  <thead>\n",
       "    <tr style=\"text-align: right;\">\n",
       "      <th></th>\n",
       "      <th>Name</th>\n",
       "      <th>Sex</th>\n",
       "      <th>Age</th>\n",
       "      <th>Area</th>\n",
       "      <th>DOR</th>\n",
       "    </tr>\n",
       "  </thead>\n",
       "  <tbody>\n",
       "    <tr>\n",
       "      <th>0</th>\n",
       "      <td>UNNIKRISHNAN</td>\n",
       "      <td>M</td>\n",
       "      <td>17.0</td>\n",
       "      <td>CORPORATION</td>\n",
       "      <td>2013-01-01</td>\n",
       "    </tr>\n",
       "    <tr>\n",
       "      <th>1</th>\n",
       "      <td>MURAMMIL</td>\n",
       "      <td>M</td>\n",
       "      <td>6.0</td>\n",
       "      <td>ANDOORKONAM</td>\n",
       "      <td>2013-01-01</td>\n",
       "    </tr>\n",
       "    <tr>\n",
       "      <th>2</th>\n",
       "      <td>RAJAMMA</td>\n",
       "      <td>F</td>\n",
       "      <td>50.0</td>\n",
       "      <td>BALARAMAPURAM</td>\n",
       "      <td>2013-01-01</td>\n",
       "    </tr>\n",
       "    <tr>\n",
       "      <th>3</th>\n",
       "      <td>ANJU</td>\n",
       "      <td>F</td>\n",
       "      <td>15.0</td>\n",
       "      <td>CORPORATION</td>\n",
       "      <td>2013-01-01</td>\n",
       "    </tr>\n",
       "    <tr>\n",
       "      <th>4</th>\n",
       "      <td>THANKAMANI</td>\n",
       "      <td>F</td>\n",
       "      <td>43.0</td>\n",
       "      <td>POOZHANAD</td>\n",
       "      <td>2013-01-01</td>\n",
       "    </tr>\n",
       "  </tbody>\n",
       "</table>\n",
       "</div>"
      ],
      "text/plain": [
       "           Name Sex   Age           Area        DOR\n",
       "0  UNNIKRISHNAN   M  17.0    CORPORATION 2013-01-01\n",
       "1      MURAMMIL   M   6.0    ANDOORKONAM 2013-01-01\n",
       "2       RAJAMMA   F  50.0  BALARAMAPURAM 2013-01-01\n",
       "3          ANJU   F  15.0    CORPORATION 2013-01-01\n",
       "4    THANKAMANI   F  43.0      POOZHANAD 2013-01-01"
      ]
     },
     "execution_count": 6,
     "metadata": {},
     "output_type": "execute_result"
    }
   ],
   "source": [
    "data['DOR'] = pd.to_datetime(data['DOR'])\n",
    "data.head()"
   ]
  },
  {
   "cell_type": "code",
   "execution_count": 7,
   "metadata": {},
   "outputs": [],
   "source": [
    "data['MnthWse'] = data['DOR'].map(lambda x: x.strftime('%Y-%m'))\n",
    "sumry = pd.DataFrame(data.MnthWse.value_counts().sort_index()).reset_index()\n",
    "sumry.columns = ['MnthWse', 'Cnt']\n",
    "# sumry['MnthWse'] = pd.to_datetime(sumry['MnthWse'], format='%Y-%m')\n",
    "# sumry['MnthWse'] = sumry['MnthWse'].map(lambda x: x.strftime('%Y-%m'))\n",
    "sumry['MnthWse'] = pd.to_datetime(sumry.MnthWse)\n",
    "sumry = sumry.set_index(sumry.MnthWse)\n",
    "sumry.drop('MnthWse', axis = 1, inplace = True)"
   ]
  },
  {
   "cell_type": "code",
   "execution_count": 8,
   "metadata": {},
   "outputs": [
    {
     "data": {
      "text/html": [
       "<div>\n",
       "<style scoped>\n",
       "    .dataframe tbody tr th:only-of-type {\n",
       "        vertical-align: middle;\n",
       "    }\n",
       "\n",
       "    .dataframe tbody tr th {\n",
       "        vertical-align: top;\n",
       "    }\n",
       "\n",
       "    .dataframe thead th {\n",
       "        text-align: right;\n",
       "    }\n",
       "</style>\n",
       "<table border=\"1\" class=\"dataframe\">\n",
       "  <thead>\n",
       "    <tr style=\"text-align: right;\">\n",
       "      <th></th>\n",
       "      <th>Cnt</th>\n",
       "    </tr>\n",
       "    <tr>\n",
       "      <th>MnthWse</th>\n",
       "      <th></th>\n",
       "    </tr>\n",
       "  </thead>\n",
       "  <tbody>\n",
       "    <tr>\n",
       "      <th>2013-01-01</th>\n",
       "      <td>224</td>\n",
       "    </tr>\n",
       "    <tr>\n",
       "      <th>2013-02-01</th>\n",
       "      <td>217</td>\n",
       "    </tr>\n",
       "    <tr>\n",
       "      <th>2013-03-01</th>\n",
       "      <td>238</td>\n",
       "    </tr>\n",
       "    <tr>\n",
       "      <th>2013-04-01</th>\n",
       "      <td>324</td>\n",
       "    </tr>\n",
       "    <tr>\n",
       "      <th>2013-05-01</th>\n",
       "      <td>456</td>\n",
       "    </tr>\n",
       "  </tbody>\n",
       "</table>\n",
       "</div>"
      ],
      "text/plain": [
       "            Cnt\n",
       "MnthWse        \n",
       "2013-01-01  224\n",
       "2013-02-01  217\n",
       "2013-03-01  238\n",
       "2013-04-01  324\n",
       "2013-05-01  456"
      ]
     },
     "execution_count": 8,
     "metadata": {},
     "output_type": "execute_result"
    }
   ],
   "source": [
    "sumry.head()"
   ]
  },
  {
   "cell_type": "code",
   "execution_count": 9,
   "metadata": {},
   "outputs": [],
   "source": [
    "sumry = sumry.rename_axis('MnthWse').reset_index()"
   ]
  },
  {
   "cell_type": "code",
   "execution_count": 10,
   "metadata": {},
   "outputs": [],
   "source": [
    "ts = sumry.rename(columns={'MnthWse': 'ds', 'Cnt': 'y'})"
   ]
  },
  {
   "cell_type": "code",
   "execution_count": 11,
   "metadata": {},
   "outputs": [
    {
     "data": {
      "text/html": [
       "<div>\n",
       "<style scoped>\n",
       "    .dataframe tbody tr th:only-of-type {\n",
       "        vertical-align: middle;\n",
       "    }\n",
       "\n",
       "    .dataframe tbody tr th {\n",
       "        vertical-align: top;\n",
       "    }\n",
       "\n",
       "    .dataframe thead th {\n",
       "        text-align: right;\n",
       "    }\n",
       "</style>\n",
       "<table border=\"1\" class=\"dataframe\">\n",
       "  <thead>\n",
       "    <tr style=\"text-align: right;\">\n",
       "      <th></th>\n",
       "      <th>ds</th>\n",
       "      <th>y</th>\n",
       "    </tr>\n",
       "  </thead>\n",
       "  <tbody>\n",
       "    <tr>\n",
       "      <th>0</th>\n",
       "      <td>2013-01-01</td>\n",
       "      <td>224</td>\n",
       "    </tr>\n",
       "    <tr>\n",
       "      <th>1</th>\n",
       "      <td>2013-02-01</td>\n",
       "      <td>217</td>\n",
       "    </tr>\n",
       "    <tr>\n",
       "      <th>2</th>\n",
       "      <td>2013-03-01</td>\n",
       "      <td>238</td>\n",
       "    </tr>\n",
       "    <tr>\n",
       "      <th>3</th>\n",
       "      <td>2013-04-01</td>\n",
       "      <td>324</td>\n",
       "    </tr>\n",
       "    <tr>\n",
       "      <th>4</th>\n",
       "      <td>2013-05-01</td>\n",
       "      <td>456</td>\n",
       "    </tr>\n",
       "    <tr>\n",
       "      <th>...</th>\n",
       "      <td>...</td>\n",
       "      <td>...</td>\n",
       "    </tr>\n",
       "    <tr>\n",
       "      <th>67</th>\n",
       "      <td>2018-08-01</td>\n",
       "      <td>27</td>\n",
       "    </tr>\n",
       "    <tr>\n",
       "      <th>68</th>\n",
       "      <td>2018-09-01</td>\n",
       "      <td>24</td>\n",
       "    </tr>\n",
       "    <tr>\n",
       "      <th>69</th>\n",
       "      <td>2018-10-01</td>\n",
       "      <td>23</td>\n",
       "    </tr>\n",
       "    <tr>\n",
       "      <th>70</th>\n",
       "      <td>2018-11-01</td>\n",
       "      <td>32</td>\n",
       "    </tr>\n",
       "    <tr>\n",
       "      <th>71</th>\n",
       "      <td>2018-12-01</td>\n",
       "      <td>29</td>\n",
       "    </tr>\n",
       "  </tbody>\n",
       "</table>\n",
       "<p>72 rows × 2 columns</p>\n",
       "</div>"
      ],
      "text/plain": [
       "           ds    y\n",
       "0  2013-01-01  224\n",
       "1  2013-02-01  217\n",
       "2  2013-03-01  238\n",
       "3  2013-04-01  324\n",
       "4  2013-05-01  456\n",
       "..        ...  ...\n",
       "67 2018-08-01   27\n",
       "68 2018-09-01   24\n",
       "69 2018-10-01   23\n",
       "70 2018-11-01   32\n",
       "71 2018-12-01   29\n",
       "\n",
       "[72 rows x 2 columns]"
      ]
     },
     "execution_count": 11,
     "metadata": {},
     "output_type": "execute_result"
    }
   ],
   "source": [
    "ts"
   ]
  },
  {
   "cell_type": "code",
   "execution_count": 33,
   "metadata": {},
   "outputs": [
    {
     "name": "stderr",
     "output_type": "stream",
     "text": [
      "INFO:fbprophet:Disabling weekly seasonality. Run prophet with weekly_seasonality=True to override this.\n",
      "INFO:fbprophet:Disabling daily seasonality. Run prophet with daily_seasonality=True to override this.\n"
     ]
    },
    {
     "data": {
      "text/plain": [
       "<fbprophet.forecaster.Prophet at 0x7ffb64af21d0>"
      ]
     },
     "execution_count": 33,
     "metadata": {},
     "output_type": "execute_result"
    }
   ],
   "source": [
    "ts_model = Prophet(interval_width=0.95)\n",
    "ts_model.fit(ts)"
   ]
  },
  {
   "cell_type": "code",
   "execution_count": 34,
   "metadata": {},
   "outputs": [],
   "source": [
    "ts__forecast = ts_model.make_future_dataframe(periods=36, freq='MS')\n",
    "ts_forecast = ts_model.predict(ts__forecast)"
   ]
  },
  {
   "cell_type": "code",
   "execution_count": 35,
   "metadata": {},
   "outputs": [
    {
     "data": {
      "image/png": "[encoded data removed]",
      "text/plain": [
       "<Figure size 720x432 with 1 Axes>"
      ]
     },
     "metadata": {},
     "output_type": "display_data"
    }
   ],
   "source": [
    "ts_model.plot(ts_forecast, xlabel = 'Date', ylabel = 'Cases')\n",
    "plt.title('Dengue Cases');"
   ]
  },
  {
   "cell_type": "code",
   "execution_count": 36,
   "metadata": {},
   "outputs": [
    {
     "data": {
      "image/png": "[encoded data removed]",
      "text/plain": [
       "<Figure size 648x432 with 2 Axes>"
      ]
     },
     "metadata": {},
     "output_type": "display_data"
    }
   ],
   "source": [
    "fig = ts_model.plot_components(forecast)"
   ]
  },
  {
   "cell_type": "code",
   "execution_count": 37,
   "metadata": {},
   "outputs": [
    {
     "data": {
      "text/html": [
       "<div>\n",
       "<style scoped>\n",
       "    .dataframe tbody tr th:only-of-type {\n",
       "        vertical-align: middle;\n",
       "    }\n",
       "\n",
       "    .dataframe tbody tr th {\n",
       "        vertical-align: top;\n",
       "    }\n",
       "\n",
       "    .dataframe thead th {\n",
       "        text-align: right;\n",
       "    }\n",
       "</style>\n",
       "<table border=\"1\" class=\"dataframe\">\n",
       "  <thead>\n",
       "    <tr style=\"text-align: right;\">\n",
       "      <th></th>\n",
       "      <th>ds</th>\n",
       "      <th>yhat</th>\n",
       "      <th>yhat_lower</th>\n",
       "      <th>yhat_upper</th>\n",
       "    </tr>\n",
       "  </thead>\n",
       "  <tbody>\n",
       "    <tr>\n",
       "      <th>103</th>\n",
       "      <td>2021-08-01</td>\n",
       "      <td>369.188300</td>\n",
       "      <td>-260.477346</td>\n",
       "      <td>952.344954</td>\n",
       "    </tr>\n",
       "    <tr>\n",
       "      <th>104</th>\n",
       "      <td>2021-09-01</td>\n",
       "      <td>224.204436</td>\n",
       "      <td>-373.992474</td>\n",
       "      <td>837.591820</td>\n",
       "    </tr>\n",
       "    <tr>\n",
       "      <th>105</th>\n",
       "      <td>2021-10-01</td>\n",
       "      <td>226.039761</td>\n",
       "      <td>-340.837046</td>\n",
       "      <td>840.519181</td>\n",
       "    </tr>\n",
       "    <tr>\n",
       "      <th>106</th>\n",
       "      <td>2021-11-01</td>\n",
       "      <td>215.507871</td>\n",
       "      <td>-376.544689</td>\n",
       "      <td>774.158393</td>\n",
       "    </tr>\n",
       "    <tr>\n",
       "      <th>107</th>\n",
       "      <td>2021-12-01</td>\n",
       "      <td>247.203915</td>\n",
       "      <td>-314.465317</td>\n",
       "      <td>820.410641</td>\n",
       "    </tr>\n",
       "  </tbody>\n",
       "</table>\n",
       "</div>"
      ],
      "text/plain": [
       "            ds        yhat  yhat_lower  yhat_upper\n",
       "103 2021-08-01  369.188300 -260.477346  952.344954\n",
       "104 2021-09-01  224.204436 -373.992474  837.591820\n",
       "105 2021-10-01  226.039761 -340.837046  840.519181\n",
       "106 2021-11-01  215.507871 -376.544689  774.158393\n",
       "107 2021-12-01  247.203915 -314.465317  820.410641"
      ]
     },
     "execution_count": 37,
     "metadata": {},
     "output_type": "execute_result"
    }
   ],
   "source": [
    "ts_forecast[['ds', 'yhat', 'yhat_lower', 'yhat_upper']].tail()"
   ]
  },
  {
   "cell_type": "code",
   "execution_count": 38,
   "metadata": {},
   "outputs": [],
   "source": [
    "from fbprophet.plot import plot_plotly, plot_components_plotly"
   ]
  },
  {
   "cell_type": "code",
   "execution_count": 39,
   "metadata": {},
   "outputs": [
    {
     "data": {
      "application/vnd.plotly.v1+json": {
       "config": {
        "plotlyServerURL": "https://plot.ly"
       },
       "data": [
        {
         "marker": {
          "color": "black",
          "size": 4
         },
         "mode": "markers",
         "name": "Actual",
         "type": "scatter",
         "x": [
          "2013-01-01T00:00:00",
          "2013-02-01T00:00:00",
          "2013-03-01T00:00:00",
          "2013-04-01T00:00:00",
          "2013-05-01T00:00:00",
          "2013-06-01T00:00:00",
          "2013-07-01T00:00:00",
          "2013-08-01T00:00:00",
          "2013-09-01T00:00:00",
          "2013-10-01T00:00:00",
          "2013-11-01T00:00:00",
          "2013-12-01T00:00:00",
          "2014-01-01T00:00:00",
          "2014-02-01T00:00:00",
          "2014-03-01T00:00:00",
          "2014-04-01T00:00:00",
          "2014-05-01T00:00:00",
          "2014-06-01T00:00:00",
          "2014-07-01T00:00:00",
          "2014-08-01T00:00:00",
          "2014-09-01T00:00:00",
          "2014-10-01T00:00:00",
          "2014-11-01T00:00:00",
          "2014-12-01T00:00:00",
          "2015-01-01T00:00:00",
          "2015-02-01T00:00:00",
          "2015-03-01T00:00:00",
          "2015-04-01T00:00:00",
          "2015-05-01T00:00:00",
          "2015-06-01T00:00:00",
          "2015-07-01T00:00:00",
          "2015-08-01T00:00:00",
          "2015-09-01T00:00:00",
          "2015-10-01T00:00:00",
          "2015-11-01T00:00:00",
          "2015-12-01T00:00:00",
          "2016-01-01T00:00:00",
          "2016-02-01T00:00:00",
          "2016-03-01T00:00:00",
          "2016-04-01T00:00:00",
          "2016-05-01T00:00:00",
          "2016-06-01T00:00:00",
          "2016-07-01T00:00:00",
          "2016-08-01T00:00:00",
          "2016-09-01T00:00:00",
          "2016-10-01T00:00:00",
          "2016-11-01T00:00:00",
          "2016-12-01T00:00:00",
          "2017-01-01T00:00:00",
          "2017-02-01T00:00:00",
          "2017-03-01T00:00:00",
          "2017-04-01T00:00:00",
          "2017-05-01T00:00:00",
          "2017-06-01T00:00:00",
          "2017-07-01T00:00:00",
          "2017-08-01T00:00:00",
          "2017-09-01T00:00:00",
          "2017-10-01T00:00:00",
          "2017-11-01T00:00:00",
          "2017-12-01T00:00:00",
          "2018-01-01T00:00:00",
          "2018-02-01T00:00:00",
          "2018-03-01T00:00:00",
          "2018-04-01T00:00:00",
          "2018-05-01T00:00:00",
          "2018-06-01T00:00:00",
          "2018-07-01T00:00:00",
          "2018-08-01T00:00:00",
          "2018-09-01T00:00:00",
          "2018-10-01T00:00:00",
          "2018-11-01T00:00:00",
          "2018-12-01T00:00:00"
         ],
         "y": [
          224,
          217,
          238,
          324,
          456,
          660,
          784,
          410,
          199,
          180,
          224,
          266,
          65,
          72,
          60,
          75,
          96,
          134,
          118,
          142,
          134,
          189,
          144,
          107,
          63,
          45,
          58,
          40,
          54,
          97,
          170,
          94,
          66,
          113,
          66,
          122,
          135,
          112,
          127,
          77,
          114,
          156,
          201,
          389,
          241,
          206,
          141,
          164,
          558,
          316,
          587,
          778,
          1295,
          1605,
          1627,
          718,
          412,
          372,
          323,
          366,
          28,
          9,
          32,
          18,
          20,
          38,
          31,
          27,
          24,
          23,
          32,
          29
         ]
        },
        {
         "hoverinfo": "skip",
         "line": {
          "width": 0
         },
         "mode": "lines",
         "type": "scatter",
         "x": [
          "2013-01-01T00:00:00",
          "2013-02-01T00:00:00",
          "2013-03-01T00:00:00",
          "2013-04-01T00:00:00",
          "2013-05-01T00:00:00",
          "2013-06-01T00:00:00",
          "2013-07-01T00:00:00",
          "2013-08-01T00:00:00",
          "2013-09-01T00:00:00",
          "2013-10-01T00:00:00",
          "2013-11-01T00:00:00",
          "2013-12-01T00:00:00",
          "2014-01-01T00:00:00",
          "2014-02-01T00:00:00",
          "2014-03-01T00:00:00",
          "2014-04-01T00:00:00",
          "2014-05-01T00:00:00",
          "2014-06-01T00:00:00",
          "2014-07-01T00:00:00",
          "2014-08-01T00:00:00",
          "2014-09-01T00:00:00",
          "2014-10-01T00:00:00",
          "2014-11-01T00:00:00",
          "2014-12-01T00:00:00",
          "2015-01-01T00:00:00",
          "2015-02-01T00:00:00",
          "2015-03-01T00:00:00",
          "2015-04-01T00:00:00",
          "2015-05-01T00:00:00",
          "2015-06-01T00:00:00",
          "2015-07-01T00:00:00",
          "2015-08-01T00:00:00",
          "2015-09-01T00:00:00",
          "2015-10-01T00:00:00",
          "2015-11-01T00:00:00",
          "2015-12-01T00:00:00",
          "2016-01-01T00:00:00",
          "2016-02-01T00:00:00",
          "2016-03-01T00:00:00",
          "2016-04-01T00:00:00",
          "2016-05-01T00:00:00",
          "2016-06-01T00:00:00",
          "2016-07-01T00:00:00",
          "2016-08-01T00:00:00",
          "2016-09-01T00:00:00",
          "2016-10-01T00:00:00",
          "2016-11-01T00:00:00",
          "2016-12-01T00:00:00",
          "2017-01-01T00:00:00",
          "2017-02-01T00:00:00",
          "2017-03-01T00:00:00",
          "2017-04-01T00:00:00",
          "2017-05-01T00:00:00",
          "2017-06-01T00:00:00",
          "2017-07-01T00:00:00",
          "2017-08-01T00:00:00",
          "2017-09-01T00:00:00",
          "2017-10-01T00:00:00",
          "2017-11-01T00:00:00",
          "2017-12-01T00:00:00",
          "2018-01-01T00:00:00",
          "2018-02-01T00:00:00",
          "2018-03-01T00:00:00",
          "2018-04-01T00:00:00",
          "2018-05-01T00:00:00",
          "2018-06-01T00:00:00",
          "2018-07-01T00:00:00",
          "2018-08-01T00:00:00",
          "2018-09-01T00:00:00",
          "2018-10-01T00:00:00",
          "2018-11-01T00:00:00",
          "2018-12-01T00:00:00",
          "2019-01-01T00:00:00",
          "2019-02-01T00:00:00",
          "2019-03-01T00:00:00",
          "2019-04-01T00:00:00",
          "2019-05-01T00:00:00",
          "2019-06-01T00:00:00",
          "2019-07-01T00:00:00",
          "2019-08-01T00:00:00",
          "2019-09-01T00:00:00",
          "2019-10-01T00:00:00",
          "2019-11-01T00:00:00",
          "2019-12-01T00:00:00",
          "2020-01-01T00:00:00",
          "2020-02-01T00:00:00",
          "2020-03-01T00:00:00",
          "2020-04-01T00:00:00",
          "2020-05-01T00:00:00",
          "2020-06-01T00:00:00",
          "2020-07-01T00:00:00",
          "2020-08-01T00:00:00",
          "2020-09-01T00:00:00",
          "2020-10-01T00:00:00",
          "2020-11-01T00:00:00",
          "2020-12-01T00:00:00",
          "2021-01-01T00:00:00",
          "2021-02-01T00:00:00",
          "2021-03-01T00:00:00",
          "2021-04-01T00:00:00",
          "2021-05-01T00:00:00",
          "2021-06-01T00:00:00",
          "2021-07-01T00:00:00",
          "2021-08-01T00:00:00",
          "2021-09-01T00:00:00",
          "2021-10-01T00:00:00",
          "2021-11-01T00:00:00",
          "2021-12-01T00:00:00"
         ],
         "y": [
          -342.0708725721624,
          -468.5372256598903,
          -431.6855943614916,
          -413.4847958185901,
          -265.48038177432517,
          -165.87652404636282,
          -97.53098385405151,
          -315.37580918479256,
          -477.9531008611369,
          -455.8921175661214,
          -467.3093892134607,
          -433.38646872581876,
          -445.69838590431885,
          -511.20073552816547,
          -420.1046698516457,
          -399.07949418113503,
          -261.96091564417634,
          -172.33172048001904,
          -127.25443952532864,
          -308.9668073649894,
          -408.9195852664926,
          -407.26038629509713,
          -442.81532404288487,
          -424.2253736259641,
          -448.7757977980627,
          -521.1273197109571,
          -352.354241096077,
          -278.4710927265878,
          -311.0678791245171,
          -223.87637874194056,
          -176.25637637501194,
          -340.276363237453,
          -385.09052482193573,
          -355.5978214160328,
          -436.81773836827875,
          -459.04201672878304,
          -548.4646646824623,
          -448.5181517815094,
          -448.81172840652675,
          -388.5808657502881,
          -251.66242020898662,
          -108.71277667663652,
          -64.72419528989602,
          -273.89840886036666,
          -450.4240045125376,
          -524.967995712491,
          -470.42531432594103,
          -377.7220976306806,
          -326.7139841561057,
          -471.1813148360528,
          -359.5915753713528,
          -385.40127355107217,
          -238.70661515727204,
          -93.24775483459631,
          -34.727115419897075,
          -229.28266219173634,
          -397.9952228672889,
          -397.63733937476815,
          -475.67311944566165,
          -396.3528786722762,
          -368.3964750706401,
          -419.4432640109292,
          -339.7524315080283,
          -307.9476537498492,
          -239.49505352143683,
          -92.52011759952681,
          -76.03971246839126,
          -256.9619461477597,
          -317.799093818389,
          -310.8415106399323,
          -337.11186358506916,
          -384.654369243518,
          -424.4988051658893,
          -396.34097939526896,
          -318.36257513443456,
          -262.1614260961487,
          -170.58263537951336,
          -101.97021675744944,
          -182.44766561707561,
          -258.08128156045785,
          -284.0268490545944,
          -298.4412371577748,
          -406.34579279747857,
          -386.7125044449174,
          -434.6733940464514,
          -408.4543630165755,
          -387.14118748415706,
          -366.2790287638087,
          -178.5305631328492,
          -38.37220859296361,
          48.74856624597295,
          -212.8182143632535,
          -419.57496907464036,
          -422.48975948596154,
          -413.4906304436979,
          -338.4885274885728,
          -254.96477420120402,
          -361.3633361668394,
          -387.57105607123873,
          -286.00539927196934,
          -215.83416229171291,
          -121.31839386638832,
          14.286439989716301,
          -260.47734599077614,
          -373.99247415045244,
          -340.83704578923016,
          -376.5446892318056,
          -314.4653166722346
         ]
        },
        {
         "fill": "tonexty",
         "fillcolor": "rgba(0, 114, 178, 0.2)",
         "line": {
          "color": "#0072B2",
          "width": 2
         },
         "mode": "lines",
         "name": "Predicted",
         "type": "scatter",
         "x": [
          "2013-01-01T00:00:00",
          "2013-02-01T00:00:00",
          "2013-03-01T00:00:00",
          "2013-04-01T00:00:00",
          "2013-05-01T00:00:00",
          "2013-06-01T00:00:00",
          "2013-07-01T00:00:00",
          "2013-08-01T00:00:00",
          "2013-09-01T00:00:00",
          "2013-10-01T00:00:00",
          "2013-11-01T00:00:00",
          "2013-12-01T00:00:00",
          "2014-01-01T00:00:00",
          "2014-02-01T00:00:00",
          "2014-03-01T00:00:00",
          "2014-04-01T00:00:00",
          "2014-05-01T00:00:00",
          "2014-06-01T00:00:00",
          "2014-07-01T00:00:00",
          "2014-08-01T00:00:00",
          "2014-09-01T00:00:00",
          "2014-10-01T00:00:00",
          "2014-11-01T00:00:00",
          "2014-12-01T00:00:00",
          "2015-01-01T00:00:00",
          "2015-02-01T00:00:00",
          "2015-03-01T00:00:00",
          "2015-04-01T00:00:00",
          "2015-05-01T00:00:00",
          "2015-06-01T00:00:00",
          "2015-07-01T00:00:00",
          "2015-08-01T00:00:00",
          "2015-09-01T00:00:00",
          "2015-10-01T00:00:00",
          "2015-11-01T00:00:00",
          "2015-12-01T00:00:00",
          "2016-01-01T00:00:00",
          "2016-02-01T00:00:00",
          "2016-03-01T00:00:00",
          "2016-04-01T00:00:00",
          "2016-05-01T00:00:00",
          "2016-06-01T00:00:00",
          "2016-07-01T00:00:00",
          "2016-08-01T00:00:00",
          "2016-09-01T00:00:00",
          "2016-10-01T00:00:00",
          "2016-11-01T00:00:00",
          "2016-12-01T00:00:00",
          "2017-01-01T00:00:00",
          "2017-02-01T00:00:00",
          "2017-03-01T00:00:00",
          "2017-04-01T00:00:00",
          "2017-05-01T00:00:00",
          "2017-06-01T00:00:00",
          "2017-07-01T00:00:00",
          "2017-08-01T00:00:00",
          "2017-09-01T00:00:00",
          "2017-10-01T00:00:00",
          "2017-11-01T00:00:00",
          "2017-12-01T00:00:00",
          "2018-01-01T00:00:00",
          "2018-02-01T00:00:00",
          "2018-03-01T00:00:00",
          "2018-04-01T00:00:00",
          "2018-05-01T00:00:00",
          "2018-06-01T00:00:00",
          "2018-07-01T00:00:00",
          "2018-08-01T00:00:00",
          "2018-09-01T00:00:00",
          "2018-10-01T00:00:00",
          "2018-11-01T00:00:00",
          "2018-12-01T00:00:00",
          "2019-01-01T00:00:00",
          "2019-02-01T00:00:00",
          "2019-03-01T00:00:00",
          "2019-04-01T00:00:00",
          "2019-05-01T00:00:00",
          "2019-06-01T00:00:00",
          "2019-07-01T00:00:00",
          "2019-08-01T00:00:00",
          "2019-09-01T00:00:00",
          "2019-10-01T00:00:00",
          "2019-11-01T00:00:00",
          "2019-12-01T00:00:00",
          "2020-01-01T00:00:00",
          "2020-02-01T00:00:00",
          "2020-03-01T00:00:00",
          "2020-04-01T00:00:00",
          "2020-05-01T00:00:00",
          "2020-06-01T00:00:00",
          "2020-07-01T00:00:00",
          "2020-08-01T00:00:00",
          "2020-09-01T00:00:00",
          "2020-10-01T00:00:00",
          "2020-11-01T00:00:00",
          "2020-12-01T00:00:00",
          "2021-01-01T00:00:00",
          "2021-02-01T00:00:00",
          "2021-03-01T00:00:00",
          "2021-04-01T00:00:00",
          "2021-05-01T00:00:00",
          "2021-06-01T00:00:00",
          "2021-07-01T00:00:00",
          "2021-08-01T00:00:00",
          "2021-09-01T00:00:00",
          "2021-10-01T00:00:00",
          "2021-11-01T00:00:00",
          "2021-12-01T00:00:00"
         ],
         "y": [
          221.22307288296722,
          101.63351813485555,
          141.3991463679843,
          170.07740319578838,
          309.2578682526908,
          432.1638592354873,
          478.9689506942604,
          276.1824722952163,
          131.19860820721823,
          133.0339339147248,
          122.50204368725902,
          154.19808817376946,
          171.3618425816214,
          110.19399740198229,
          178.76072990855553,
          220.40393738187112,
          323.3003645068719,
          418.27651709375766,
          451.6728943136304,
          269.9948207011269,
          180.61147511895453,
          182.55338766300315,
          142.29549162295612,
          151.81189548485378,
          121.69595159356513,
          120.17759802198306,
          216.78821560083796,
          270.278211769736,
          336.00566760024026,
          403.45423837768567,
          424.7280492624009,
          265.35565685253016,
          231.17562909915566,
          231.54481189771795,
          160.86954193326562,
          148.24230103321258,
          72.30514124212058,
          131.60193556929448,
          151.2542237158105,
          165.86078844680344,
          340.38796603288824,
          491.5780947264649,
          553.0572011342904,
          330.39763552473784,
          129.49024247512415,
          129.55012666334034,
          148.0111443913302,
          201.8687725831358,
          267.72598951350534,
          148.13643472462454,
          187.9020629062829,
          216.58031967762986,
          355.76078467934894,
          478.6667755795356,
          525.4718669592598,
          322.6853884588452,
          177.7015242600204,
          179.53684984058054,
          169.0049594701441,
          200.701003818628,
          217.86475808334768,
          156.69691275936395,
          225.26364514028242,
          266.90685247510794,
          369.8032794652198,
          464.77943192765053,
          498.1758090270547,
          316.4977352921879,
          227.11438958759896,
          229.0563020271713,
          188.798405879129,
          198.31480964057747,
          168.19886564513428,
          166.6805119700798,
          263.2911294576613,
          316.78112552499067,
          382.5085812691767,
          449.957151957478,
          471.2309627595965,
          311.8585702639346,
          277.67854240621045,
          278.04772510372345,
          207.37245503494086,
          194.74521404750817,
          118.80805416672365,
          178.1048484049859,
          197.7571364684805,
          212.36370110019664,
          386.8908785908125,
          538.0810071963949,
          599.560113519226,
          376.9005478225481,
          175.99315467171073,
          176.0530387619226,
          194.51405640292978,
          248.3716845104965,
          314.2289013623034,
          194.63934649582856,
          234.4049746217855,
          263.083231331231,
          402.26369627376795,
          525.1696871355166,
          571.9747784772908,
          369.18829995678556,
          224.204435738128,
          226.03976131830336,
          215.50787094800532,
          247.20391529614088
         ]
        },
        {
         "fill": "tonexty",
         "fillcolor": "rgba(0, 114, 178, 0.2)",
         "hoverinfo": "skip",
         "line": {
          "width": 0
         },
         "mode": "lines",
         "type": "scatter",
         "x": [
          "2013-01-01T00:00:00",
          "2013-02-01T00:00:00",
          "2013-03-01T00:00:00",
          "2013-04-01T00:00:00",
          "2013-05-01T00:00:00",
          "2013-06-01T00:00:00",
          "2013-07-01T00:00:00",
          "2013-08-01T00:00:00",
          "2013-09-01T00:00:00",
          "2013-10-01T00:00:00",
          "2013-11-01T00:00:00",
          "2013-12-01T00:00:00",
          "2014-01-01T00:00:00",
          "2014-02-01T00:00:00",
          "2014-03-01T00:00:00",
          "2014-04-01T00:00:00",
          "2014-05-01T00:00:00",
          "2014-06-01T00:00:00",
          "2014-07-01T00:00:00",
          "2014-08-01T00:00:00",
          "2014-09-01T00:00:00",
          "2014-10-01T00:00:00",
          "2014-11-01T00:00:00",
          "2014-12-01T00:00:00",
          "2015-01-01T00:00:00",
          "2015-02-01T00:00:00",
          "2015-03-01T00:00:00",
          "2015-04-01T00:00:00",
          "2015-05-01T00:00:00",
          "2015-06-01T00:00:00",
          "2015-07-01T00:00:00",
          "2015-08-01T00:00:00",
          "2015-09-01T00:00:00",
          "2015-10-01T00:00:00",
          "2015-11-01T00:00:00",
          "2015-12-01T00:00:00",
          "2016-01-01T00:00:00",
          "2016-02-01T00:00:00",
          "2016-03-01T00:00:00",
          "2016-04-01T00:00:00",
          "2016-05-01T00:00:00",
          "2016-06-01T00:00:00",
          "2016-07-01T00:00:00",
          "2016-08-01T00:00:00",
          "2016-09-01T00:00:00",
          "2016-10-01T00:00:00",
          "2016-11-01T00:00:00",
          "2016-12-01T00:00:00",
          "2017-01-01T00:00:00",
          "2017-02-01T00:00:00",
          "2017-03-01T00:00:00",
          "2017-04-01T00:00:00",
          "2017-05-01T00:00:00",
          "2017-06-01T00:00:00",
          "2017-07-01T00:00:00",
          "2017-08-01T00:00:00",
          "2017-09-01T00:00:00",
          "2017-10-01T00:00:00",
          "2017-11-01T00:00:00",
          "2017-12-01T00:00:00",
          "2018-01-01T00:00:00",
          "2018-02-01T00:00:00",
          "2018-03-01T00:00:00",
          "2018-04-01T00:00:00",
          "2018-05-01T00:00:00",
          "2018-06-01T00:00:00",
          "2018-07-01T00:00:00",
          "2018-08-01T00:00:00",
          "2018-09-01T00:00:00",
          "2018-10-01T00:00:00",
          "2018-11-01T00:00:00",
          "2018-12-01T00:00:00",
          "2019-01-01T00:00:00",
          "2019-02-01T00:00:00",
          "2019-03-01T00:00:00",
          "2019-04-01T00:00:00",
          "2019-05-01T00:00:00",
          "2019-06-01T00:00:00",
          "2019-07-01T00:00:00",
          "2019-08-01T00:00:00",
          "2019-09-01T00:00:00",
          "2019-10-01T00:00:00",
          "2019-11-01T00:00:00",
          "2019-12-01T00:00:00",
          "2020-01-01T00:00:00",
          "2020-02-01T00:00:00",
          "2020-03-01T00:00:00",
          "2020-04-01T00:00:00",
          "2020-05-01T00:00:00",
          "2020-06-01T00:00:00",
          "2020-07-01T00:00:00",
          "2020-08-01T00:00:00",
          "2020-09-01T00:00:00",
          "2020-10-01T00:00:00",
          "2020-11-01T00:00:00",
          "2020-12-01T00:00:00",
          "2021-01-01T00:00:00",
          "2021-02-01T00:00:00",
          "2021-03-01T00:00:00",
          "2021-04-01T00:00:00",
          "2021-05-01T00:00:00",
          "2021-06-01T00:00:00",
          "2021-07-01T00:00:00",
          "2021-08-01T00:00:00",
          "2021-09-01T00:00:00",
          "2021-10-01T00:00:00",
          "2021-11-01T00:00:00",
          "2021-12-01T00:00:00"
         ],
         "y": [
          786.2982521082404,
          693.8510622734926,
          706.3091103315045,
          773.8044302906216,
          864.8477671997862,
          995.0053907978404,
          1064.2572746254068,
          867.5409710234428,
          731.2059486139709,
          736.9155050475861,
          672.6807082348112,
          729.1241655413439,
          746.8711423307751,
          681.5786632233308,
          703.3768429045693,
          795.4272080543182,
          906.7600693040738,
          998.2802312587086,
          1026.7853161987039,
          854.5012492892492,
          792.9735762472236,
          768.7522152306966,
          736.8705919220849,
          752.3364089653298,
          712.142369167193,
          706.7997631925866,
          818.6051638229828,
          846.0196410825974,
          930.0935667068758,
          1010.9941602264189,
          1000.3013735950968,
          826.1447587328304,
          813.825836080577,
          838.0139744677015,
          781.2451304391083,
          753.0837522917311,
          657.1802363397132,
          728.5251792858783,
          722.1276351382264,
          750.5280347847224,
          898.7221495802108,
          1082.401079351499,
          1154.7203445445198,
          870.6620863915166,
          681.817088687917,
          701.0848769664609,
          742.1787878874817,
          843.6956405305839,
          885.4727406256474,
          722.1430505332085,
          776.185913190939,
          797.1865300490756,
          947.1985323270774,
          1039.5179693899931,
          1043.7266857331701,
          911.1125548540999,
          753.1453219935528,
          731.8033411887901,
          730.1740672167618,
          807.2490773619875,
          777.0296071842205,
          746.7687525349916,
          827.1021033330996,
          847.3779053776913,
          964.5961561738028,
          1082.5928389175476,
          1066.3881856689293,
          878.6932333411683,
          752.9980536155634,
          838.693068709117,
          764.9078890065128,
          782.9952126382135,
          774.8694997872045,
          729.3801344284162,
          844.1733257840143,
          906.6702526754032,
          940.7247082062435,
          1064.9599410717874,
          1009.5858901362254,
          875.0490484754855,
          867.3421908571013,
          876.843397346955,
          819.4101843745381,
          754.8894303081496,
          705.3030810455555,
          743.4919495201722,
          783.2233027170296,
          789.7983281642111,
          995.5230426430066,
          1092.3419491066943,
          1165.6153983014285,
          981.6441238937964,
          775.1204018006288,
          774.5076410635734,
          807.8880757985025,
          850.238486987591,
          909.672747908646,
          795.6866954711755,
          835.995187107141,
          853.6779694761123,
          1003.0240097674491,
          1100.2095663805692,
          1165.8037906691775,
          952.3449543111498,
          837.5918200162871,
          840.5191807714638,
          774.1583930401652,
          820.4106413837173
         ]
        }
       ],
       "layout": {
        "height": 600,
        "showlegend": false,
        "template": {
         "data": {
          "bar": [
           {
            "error_x": {
             "color": "#2a3f5f"
            },
            "error_y": {
             "color": "#2a3f5f"
            },
            "marker": {
             "line": {
              "color": "#E5ECF6",
              "width": 0.5
             }
            },
            "type": "bar"
           }
          ],
          "barpolar": [
           {
            "marker": {
             "line": {
              "color": "#E5ECF6",
              "width": 0.5
             }
            },
            "type": "barpolar"
           }
          ],
          "carpet": [
           {
            "aaxis": {
             "endlinecolor": "#2a3f5f",
             "gridcolor": "white",
             "linecolor": "white",
             "minorgridcolor": "white",
             "startlinecolor": "#2a3f5f"
            },
            "baxis": {
             "endlinecolor": "#2a3f5f",
             "gridcolor": "white",
             "linecolor": "white",
             "minorgridcolor": "white",
             "startlinecolor": "#2a3f5f"
            },
            "type": "carpet"
           }
          ],
          "choropleth": [
           {
            "colorbar": {
             "outlinewidth": 0,
             "ticks": ""
            },
            "type": "choropleth"
           }
          ],
          "contour": [
           {
            "colorbar": {
             "outlinewidth": 0,
             "ticks": ""
            },
            "colorscale": [
             [
              0,
              "#0d0887"
             ],
             [
              0.1111111111111111,
              "#46039f"
             ],
             [
              0.2222222222222222,
              "#7201a8"
             ],
             [
              0.3333333333333333,
              "#9c179e"
             ],
             [
              0.4444444444444444,
              "#bd3786"
             ],
             [
              0.5555555555555556,
              "#d8576b"
             ],
             [
              0.6666666666666666,
              "#ed7953"
             ],
             [
              0.7777777777777778,
              "#fb9f3a"
             ],
             [
              0.8888888888888888,
              "#fdca26"
             ],
             [
              1,
              "#f0f921"
             ]
            ],
            "type": "contour"
           }
          ],
          "contourcarpet": [
           {
            "colorbar": {
             "outlinewidth": 0,
             "ticks": ""
            },
            "type": "contourcarpet"
           }
          ],
          "heatmap": [
           {
            "colorbar": {
             "outlinewidth": 0,
             "ticks": ""
            },
            "colorscale": [
             [
              0,
              "#0d0887"
             ],
             [
              0.1111111111111111,
              "#46039f"
             ],
             [
              0.2222222222222222,
              "#7201a8"
             ],
             [
              0.3333333333333333,
              "#9c179e"
             ],
             [
              0.4444444444444444,
              "#bd3786"
             ],
             [
              0.5555555555555556,
              "#d8576b"
             ],
             [
              0.6666666666666666,
              "#ed7953"
             ],
             [
              0.7777777777777778,
              "#fb9f3a"
             ],
             [
              0.8888888888888888,
              "#fdca26"
             ],
             [
              1,
              "#f0f921"
             ]
            ],
            "type": "heatmap"
           }
          ],
          "heatmapgl": [
           {
            "colorbar": {
             "outlinewidth": 0,
             "ticks": ""
            },
            "colorscale": [
             [
              0,
              "#0d0887"
             ],
             [
              0.1111111111111111,
              "#46039f"
             ],
             [
              0.2222222222222222,
              "#7201a8"
             ],
             [
              0.3333333333333333,
              "#9c179e"
             ],
             [
              0.4444444444444444,
              "#bd3786"
             ],
             [
              0.5555555555555556,
              "#d8576b"
             ],
             [
              0.6666666666666666,
              "#ed7953"
             ],
             [
              0.7777777777777778,
              "#fb9f3a"
             ],
             [
              0.8888888888888888,
              "#fdca26"
             ],
             [
              1,
              "#f0f921"
             ]
            ],
            "type": "heatmapgl"
           }
          ],
          "histogram": [
           {
            "marker": {
             "colorbar": {
              "outlinewidth": 0,
              "ticks": ""
             }
            },
            "type": "histogram"
           }
          ],
          "histogram2d": [
           {
            "colorbar": {
             "outlinewidth": 0,
             "ticks": ""
            },
            "colorscale": [
             [
              0,
              "#0d0887"
             ],
             [
              0.1111111111111111,
              "#46039f"
             ],
             [
              0.2222222222222222,
              "#7201a8"
             ],
             [
              0.3333333333333333,
              "#9c179e"
             ],
             [
              0.4444444444444444,
              "#bd3786"
             ],
             [
              0.5555555555555556,
              "#d8576b"
             ],
             [
              0.6666666666666666,
              "#ed7953"
             ],
             [
              0.7777777777777778,
              "#fb9f3a"
             ],
             [
              0.8888888888888888,
              "#fdca26"
             ],
             [
              1,
              "#f0f921"
             ]
            ],
            "type": "histogram2d"
           }
          ],
          "histogram2dcontour": [
           {
            "colorbar": {
             "outlinewidth": 0,
             "ticks": ""
            },
            "colorscale": [
             [
              0,
              "#0d0887"
             ],
             [
              0.1111111111111111,
              "#46039f"
             ],
             [
              0.2222222222222222,
              "#7201a8"
             ],
             [
              0.3333333333333333,
              "#9c179e"
             ],
             [
              0.4444444444444444,
              "#bd3786"
             ],
             [
              0.5555555555555556,
              "#d8576b"
             ],
             [
              0.6666666666666666,
              "#ed7953"
             ],
             [
              0.7777777777777778,
              "#fb9f3a"
             ],
             [
              0.8888888888888888,
              "#fdca26"
             ],
             [
              1,
              "#f0f921"
             ]
            ],
            "type": "histogram2dcontour"
           }
          ],
          "mesh3d": [
           {
            "colorbar": {
             "outlinewidth": 0,
             "ticks": ""
            },
            "type": "mesh3d"
           }
          ],
          "parcoords": [
           {
            "line": {
             "colorbar": {
              "outlinewidth": 0,
              "ticks": ""
             }
            },
            "type": "parcoords"
           }
          ],
          "pie": [
           {
            "automargin": true,
            "type": "pie"
           }
          ],
          "scatter": [
           {
            "marker": {
             "colorbar": {
              "outlinewidth": 0,
              "ticks": ""
             }
            },
            "type": "scatter"
           }
          ],
          "scatter3d": [
           {
            "line": {
             "colorbar": {
              "outlinewidth": 0,
              "ticks": ""
             }
            },
            "marker": {
             "colorbar": {
              "outlinewidth": 0,
              "ticks": ""
             }
            },
            "type": "scatter3d"
           }
          ],
          "scattercarpet": [
           {
            "marker": {
             "colorbar": {
              "outlinewidth": 0,
              "ticks": ""
             }
            },
            "type": "scattercarpet"
           }
          ],
          "scattergeo": [
           {
            "marker": {
             "colorbar": {
              "outlinewidth": 0,
              "ticks": ""
             }
            },
            "type": "scattergeo"
           }
          ],
          "scattergl": [
           {
            "marker": {
             "colorbar": {
              "outlinewidth": 0,
              "ticks": ""
             }
            },
            "type": "scattergl"
           }
          ],
          "scattermapbox": [
           {
            "marker": {
             "colorbar": {
              "outlinewidth": 0,
              "ticks": ""
             }
            },
            "type": "scattermapbox"
           }
          ],
          "scatterpolar": [
           {
            "marker": {
             "colorbar": {
              "outlinewidth": 0,
              "ticks": ""
             }
            },
            "type": "scatterpolar"
           }
          ],
          "scatterpolargl": [
           {
            "marker": {
             "colorbar": {
              "outlinewidth": 0,
              "ticks": ""
             }
            },
            "type": "scatterpolargl"
           }
          ],
          "scatterternary": [
           {
            "marker": {
             "colorbar": {
              "outlinewidth": 0,
              "ticks": ""
             }
            },
            "type": "scatterternary"
           }
          ],
          "surface": [
           {
            "colorbar": {
             "outlinewidth": 0,
             "ticks": ""
            },
            "colorscale": [
             [
              0,
              "#0d0887"
             ],
             [
              0.1111111111111111,
              "#46039f"
             ],
             [
              0.2222222222222222,
              "#7201a8"
             ],
             [
              0.3333333333333333,
              "#9c179e"
             ],
             [
              0.4444444444444444,
              "#bd3786"
             ],
             [
              0.5555555555555556,
              "#d8576b"
             ],
             [
              0.6666666666666666,
              "#ed7953"
             ],
             [
              0.7777777777777778,
              "#fb9f3a"
             ],
             [
              0.8888888888888888,
              "#fdca26"
             ],
             [
              1,
              "#f0f921"
             ]
            ],
            "type": "surface"
           }
          ],
          "table": [
           {
            "cells": {
             "fill": {
              "color": "#EBF0F8"
             },
             "line": {
              "color": "white"
             }
            },
            "header": {
             "fill": {
              "color": "#C8D4E3"
             },
             "line": {
              "color": "white"
             }
            },
            "type": "table"
           }
          ]
         },
         "layout": {
          "annotationdefaults": {
           "arrowcolor": "#2a3f5f",
           "arrowhead": 0,
           "arrowwidth": 1
          },
          "coloraxis": {
           "colorbar": {
            "outlinewidth": 0,
            "ticks": ""
           }
          },
          "colorscale": {
           "diverging": [
            [
             0,
             "#8e0152"
            ],
            [
             0.1,
             "#c51b7d"
            ],
            [
             0.2,
             "#de77ae"
            ],
            [
             0.3,
             "#f1b6da"
            ],
            [
             0.4,
             "#fde0ef"
            ],
            [
             0.5,
             "#f7f7f7"
            ],
            [
             0.6,
             "#e6f5d0"
            ],
            [
             0.7,
             "#b8e186"
            ],
            [
             0.8,
             "#7fbc41"
            ],
            [
             0.9,
             "#4d9221"
            ],
            [
             1,
             "#276419"
            ]
           ],
           "sequential": [
            [
             0,
             "#0d0887"
            ],
            [
             0.1111111111111111,
             "#46039f"
            ],
            [
             0.2222222222222222,
             "#7201a8"
            ],
            [
             0.3333333333333333,
             "#9c179e"
            ],
            [
             0.4444444444444444,
             "#bd3786"
            ],
            [
             0.5555555555555556,
             "#d8576b"
            ],
            [
             0.6666666666666666,
             "#ed7953"
            ],
            [
             0.7777777777777778,
             "#fb9f3a"
            ],
            [
             0.8888888888888888,
             "#fdca26"
            ],
            [
             1,
             "#f0f921"
            ]
           ],
           "sequentialminus": [
            [
             0,
             "#0d0887"
            ],
            [
             0.1111111111111111,
             "#46039f"
            ],
            [
             0.2222222222222222,
             "#7201a8"
            ],
            [
             0.3333333333333333,
             "#9c179e"
            ],
            [
             0.4444444444444444,
             "#bd3786"
            ],
            [
             0.5555555555555556,
             "#d8576b"
            ],
            [
             0.6666666666666666,
             "#ed7953"
            ],
            [
             0.7777777777777778,
             "#fb9f3a"
            ],
            [
             0.8888888888888888,
             "#fdca26"
            ],
            [
             1,
             "#f0f921"
            ]
           ]
          },
          "colorway": [
           "#636efa",
           "#EF553B",
           "#00cc96",
           "#ab63fa",
           "#FFA15A",
           "#19d3f3",
           "#FF6692",
           "#B6E880",
           "#FF97FF",
           "#FECB52"
          ],
          "font": {
           "color": "#2a3f5f"
          },
          "geo": {
           "bgcolor": "white",
           "lakecolor": "white",
           "landcolor": "#E5ECF6",
           "showlakes": true,
           "showland": true,
           "subunitcolor": "white"
          },
          "hoverlabel": {
           "align": "left"
          },
          "hovermode": "closest",
          "mapbox": {
           "style": "light"
          },
          "paper_bgcolor": "white",
          "plot_bgcolor": "#E5ECF6",
          "polar": {
           "angularaxis": {
            "gridcolor": "white",
            "linecolor": "white",
            "ticks": ""
           },
           "bgcolor": "#E5ECF6",
           "radialaxis": {
            "gridcolor": "white",
            "linecolor": "white",
            "ticks": ""
           }
          },
          "scene": {
           "xaxis": {
            "backgroundcolor": "#E5ECF6",
            "gridcolor": "white",
            "gridwidth": 2,
            "linecolor": "white",
            "showbackground": true,
            "ticks": "",
            "zerolinecolor": "white"
           },
           "yaxis": {
            "backgroundcolor": "#E5ECF6",
            "gridcolor": "white",
            "gridwidth": 2,
            "linecolor": "white",
            "showbackground": true,
            "ticks": "",
            "zerolinecolor": "white"
           },
           "zaxis": {
            "backgroundcolor": "#E5ECF6",
            "gridcolor": "white",
            "gridwidth": 2,
            "linecolor": "white",
            "showbackground": true,
            "ticks": "",
            "zerolinecolor": "white"
           }
          },
          "shapedefaults": {
           "line": {
            "color": "#2a3f5f"
           }
          },
          "ternary": {
           "aaxis": {
            "gridcolor": "white",
            "linecolor": "white",
            "ticks": ""
           },
           "baxis": {
            "gridcolor": "white",
            "linecolor": "white",
            "ticks": ""
           },
           "bgcolor": "#E5ECF6",
           "caxis": {
            "gridcolor": "white",
            "linecolor": "white",
            "ticks": ""
           }
          },
          "title": {
           "x": 0.05
          },
          "xaxis": {
           "automargin": true,
           "gridcolor": "white",
           "linecolor": "white",
           "ticks": "",
           "title": {
            "standoff": 15
           },
           "zerolinecolor": "white",
           "zerolinewidth": 2
          },
          "yaxis": {
           "automargin": true,
           "gridcolor": "white",
           "linecolor": "white",
           "ticks": "",
           "title": {
            "standoff": 15
           },
           "zerolinecolor": "white",
           "zerolinewidth": 2
          }
         }
        },
        "width": 900,
        "xaxis": {
         "rangeselector": {
          "buttons": [
           {
            "count": 7,
            "label": "1w",
            "step": "day",
            "stepmode": "backward"
           },
           {
            "count": 1,
            "label": "1m",
            "step": "month",
            "stepmode": "backward"
           },
           {
            "count": 6,
            "label": "6m",
            "step": "month",
            "stepmode": "backward"
           },
           {
            "count": 1,
            "label": "1y",
            "step": "year",
            "stepmode": "backward"
           },
           {
            "step": "all"
           }
          ]
         },
         "rangeslider": {
          "visible": true
         },
         "title": {
          "text": "ds"
         },
         "type": "date"
        },
        "yaxis": {
         "title": {
          "text": "y"
         }
        }
       }
      },
      "text/html": [
       "<div>\n",
       "        \n",
       "        \n",
       "            <div id=\"f80c300e-44c7-4175-aea8-6dd3ef622c24\" class=\"plotly-graph-div\" style=\"height:600px; width:900px;\"></div>\n",
       "            <script type=\"text/javascript\">\n",
       "                require([\"plotly\"], function(Plotly) {\n",
       "                    window.PLOTLYENV=window.PLOTLYENV || {};\n",
       "                    \n",
       "                if (document.getElementById(\"f80c300e-44c7-4175-aea8-6dd3ef622c24\")) {\n",
       "                    Plotly.newPlot(\n",
       "                        'f80c300e-44c7-4175-aea8-6dd3ef622c24',\n",
       "                        [{\"marker\": {\"color\": \"black\", \"size\": 4}, \"mode\": \"markers\", \"name\": \"Actual\", \"type\": \"scatter\", \"x\": [\"2013-01-01T00:00:00\", \"2013-02-01T00:00:00\", \"2013-03-01T00:00:00\", \"2013-04-01T00:00:00\", \"2013-05-01T00:00:00\", \"2013-06-01T00:00:00\", \"2013-07-01T00:00:00\", \"2013-08-01T00:00:00\", \"2013-09-01T00:00:00\", \"2013-10-01T00:00:00\", \"2013-11-01T00:00:00\", \"2013-12-01T00:00:00\", \"2014-01-01T00:00:00\", \"2014-02-01T00:00:00\", \"2014-03-01T00:00:00\", \"2014-04-01T00:00:00\", \"2014-05-01T00:00:00\", \"2014-06-01T00:00:00\", \"2014-07-01T00:00:00\", \"2014-08-01T00:00:00\", \"2014-09-01T00:00:00\", \"2014-10-01T00:00:00\", \"2014-11-01T00:00:00\", \"2014-12-01T00:00:00\", \"2015-01-01T00:00:00\", \"2015-02-01T00:00:00\", \"2015-03-01T00:00:00\", \"2015-04-01T00:00:00\", \"2015-05-01T00:00:00\", \"2015-06-01T00:00:00\", \"2015-07-01T00:00:00\", \"2015-08-01T00:00:00\", \"2015-09-01T00:00:00\", \"2015-10-01T00:00:00\", \"2015-11-01T00:00:00\", \"2015-12-01T00:00:00\", \"2016-01-01T00:00:00\", \"2016-02-01T00:00:00\", \"2016-03-01T00:00:00\", \"2016-04-01T00:00:00\", \"2016-05-01T00:00:00\", \"2016-06-01T00:00:00\", \"2016-07-01T00:00:00\", \"2016-08-01T00:00:00\", \"2016-09-01T00:00:00\", \"2016-10-01T00:00:00\", \"2016-11-01T00:00:00\", \"2016-12-01T00:00:00\", \"2017-01-01T00:00:00\", \"2017-02-01T00:00:00\", \"2017-03-01T00:00:00\", \"2017-04-01T00:00:00\", \"2017-05-01T00:00:00\", \"2017-06-01T00:00:00\", \"2017-07-01T00:00:00\", \"2017-08-01T00:00:00\", \"2017-09-01T00:00:00\", \"2017-10-01T00:00:00\", \"2017-11-01T00:00:00\", \"2017-12-01T00:00:00\", \"2018-01-01T00:00:00\", \"2018-02-01T00:00:00\", \"2018-03-01T00:00:00\", \"2018-04-01T00:00:00\", \"2018-05-01T00:00:00\", \"2018-06-01T00:00:00\", \"2018-07-01T00:00:00\", \"2018-08-01T00:00:00\", \"2018-09-01T00:00:00\", \"2018-10-01T00:00:00\", \"2018-11-01T00:00:00\", \"2018-12-01T00:00:00\"], \"y\": [224, 217, 238, 324, 456, 660, 784, 410, 199, 180, 224, 266, 65, 72, 60, 75, 96, 134, 118, 142, 134, 189, 144, 107, 63, 45, 58, 40, 54, 97, 170, 94, 66, 113, 66, 122, 135, 112, 127, 77, 114, 156, 201, 389, 241, 206, 141, 164, 558, 316, 587, 778, 1295, 1605, 1627, 718, 412, 372, 323, 366, 28, 9, 32, 18, 20, 38, 31, 27, 24, 23, 32, 29]}, {\"hoverinfo\": \"skip\", \"line\": {\"width\": 0}, \"mode\": \"lines\", \"type\": \"scatter\", \"x\": [\"2013-01-01T00:00:00\", \"2013-02-01T00:00:00\", \"2013-03-01T00:00:00\", \"2013-04-01T00:00:00\", \"2013-05-01T00:00:00\", \"2013-06-01T00:00:00\", \"2013-07-01T00:00:00\", \"2013-08-01T00:00:00\", \"2013-09-01T00:00:00\", \"2013-10-01T00:00:00\", \"2013-11-01T00:00:00\", \"2013-12-01T00:00:00\", \"2014-01-01T00:00:00\", \"2014-02-01T00:00:00\", \"2014-03-01T00:00:00\", \"2014-04-01T00:00:00\", \"2014-05-01T00:00:00\", \"2014-06-01T00:00:00\", \"2014-07-01T00:00:00\", \"2014-08-01T00:00:00\", \"2014-09-01T00:00:00\", \"2014-10-01T00:00:00\", \"2014-11-01T00:00:00\", \"2014-12-01T00:00:00\", \"2015-01-01T00:00:00\", \"2015-02-01T00:00:00\", \"2015-03-01T00:00:00\", \"2015-04-01T00:00:00\", \"2015-05-01T00:00:00\", \"2015-06-01T00:00:00\", \"2015-07-01T00:00:00\", \"2015-08-01T00:00:00\", \"2015-09-01T00:00:00\", \"2015-10-01T00:00:00\", \"2015-11-01T00:00:00\", \"2015-12-01T00:00:00\", \"2016-01-01T00:00:00\", \"2016-02-01T00:00:00\", \"2016-03-01T00:00:00\", \"2016-04-01T00:00:00\", \"2016-05-01T00:00:00\", \"2016-06-01T00:00:00\", \"2016-07-01T00:00:00\", \"2016-08-01T00:00:00\", \"2016-09-01T00:00:00\", \"2016-10-01T00:00:00\", \"2016-11-01T00:00:00\", \"2016-12-01T00:00:00\", \"2017-01-01T00:00:00\", \"2017-02-01T00:00:00\", \"2017-03-01T00:00:00\", \"2017-04-01T00:00:00\", \"2017-05-01T00:00:00\", \"2017-06-01T00:00:00\", \"2017-07-01T00:00:00\", \"2017-08-01T00:00:00\", \"2017-09-01T00:00:00\", \"2017-10-01T00:00:00\", \"2017-11-01T00:00:00\", \"2017-12-01T00:00:00\", \"2018-01-01T00:00:00\", \"2018-02-01T00:00:00\", \"2018-03-01T00:00:00\", \"2018-04-01T00:00:00\", \"2018-05-01T00:00:00\", \"2018-06-01T00:00:00\", \"2018-07-01T00:00:00\", \"2018-08-01T00:00:00\", \"2018-09-01T00:00:00\", \"2018-10-01T00:00:00\", \"2018-11-01T00:00:00\", \"2018-12-01T00:00:00\", \"2019-01-01T00:00:00\", \"2019-02-01T00:00:00\", \"2019-03-01T00:00:00\", \"2019-04-01T00:00:00\", \"2019-05-01T00:00:00\", \"2019-06-01T00:00:00\", \"2019-07-01T00:00:00\", \"2019-08-01T00:00:00\", \"2019-09-01T00:00:00\", \"2019-10-01T00:00:00\", \"2019-11-01T00:00:00\", \"2019-12-01T00:00:00\", \"2020-01-01T00:00:00\", \"2020-02-01T00:00:00\", \"2020-03-01T00:00:00\", \"2020-04-01T00:00:00\", \"2020-05-01T00:00:00\", \"2020-06-01T00:00:00\", \"2020-07-01T00:00:00\", \"2020-08-01T00:00:00\", \"2020-09-01T00:00:00\", \"2020-10-01T00:00:00\", \"2020-11-01T00:00:00\", \"2020-12-01T00:00:00\", \"2021-01-01T00:00:00\", \"2021-02-01T00:00:00\", \"2021-03-01T00:00:00\", \"2021-04-01T00:00:00\", \"2021-05-01T00:00:00\", \"2021-06-01T00:00:00\", \"2021-07-01T00:00:00\", \"2021-08-01T00:00:00\", \"2021-09-01T00:00:00\", \"2021-10-01T00:00:00\", \"2021-11-01T00:00:00\", \"2021-12-01T00:00:00\"], \"y\": [-342.0708725721624, -468.5372256598903, -431.6855943614916, -413.4847958185901, -265.48038177432517, -165.87652404636282, -97.53098385405151, -315.37580918479256, -477.9531008611369, -455.8921175661214, -467.3093892134607, -433.38646872581876, -445.69838590431885, -511.20073552816547, -420.1046698516457, -399.07949418113503, -261.96091564417634, -172.33172048001904, -127.25443952532864, -308.9668073649894, -408.9195852664926, -407.26038629509713, -442.81532404288487, -424.2253736259641, -448.7757977980627, -521.1273197109571, -352.354241096077, -278.4710927265878, -311.0678791245171, -223.87637874194056, -176.25637637501194, -340.276363237453, -385.09052482193573, -355.5978214160328, -436.81773836827875, -459.04201672878304, -548.4646646824623, -448.5181517815094, -448.81172840652675, -388.5808657502881, -251.66242020898662, -108.71277667663652, -64.72419528989602, -273.89840886036666, -450.4240045125376, -524.967995712491, -470.42531432594103, -377.7220976306806, -326.7139841561057, -471.1813148360528, -359.5915753713528, -385.40127355107217, -238.70661515727204, -93.24775483459631, -34.727115419897075, -229.28266219173634, -397.9952228672889, -397.63733937476815, -475.67311944566165, -396.3528786722762, -368.3964750706401, -419.4432640109292, -339.7524315080283, -307.9476537498492, -239.49505352143683, -92.52011759952681, -76.03971246839126, -256.9619461477597, -317.799093818389, -310.8415106399323, -337.11186358506916, -384.654369243518, -424.4988051658893, -396.34097939526896, -318.36257513443456, -262.1614260961487, -170.58263537951336, -101.97021675744944, -182.44766561707561, -258.08128156045785, -284.0268490545944, -298.4412371577748, -406.34579279747857, -386.7125044449174, -434.6733940464514, -408.4543630165755, -387.14118748415706, -366.2790287638087, -178.5305631328492, -38.37220859296361, 48.74856624597295, -212.8182143632535, -419.57496907464036, -422.48975948596154, -413.4906304436979, -338.4885274885728, -254.96477420120402, -361.3633361668394, -387.57105607123873, -286.00539927196934, -215.83416229171291, -121.31839386638832, 14.286439989716301, -260.47734599077614, -373.99247415045244, -340.83704578923016, -376.5446892318056, -314.4653166722346]}, {\"fill\": \"tonexty\", \"fillcolor\": \"rgba(0, 114, 178, 0.2)\", \"line\": {\"color\": \"#0072B2\", \"width\": 2}, \"mode\": \"lines\", \"name\": \"Predicted\", \"type\": \"scatter\", \"x\": [\"2013-01-01T00:00:00\", \"2013-02-01T00:00:00\", \"2013-03-01T00:00:00\", \"2013-04-01T00:00:00\", \"2013-05-01T00:00:00\", \"2013-06-01T00:00:00\", \"2013-07-01T00:00:00\", \"2013-08-01T00:00:00\", \"2013-09-01T00:00:00\", \"2013-10-01T00:00:00\", \"2013-11-01T00:00:00\", \"2013-12-01T00:00:00\", \"2014-01-01T00:00:00\", \"2014-02-01T00:00:00\", \"2014-03-01T00:00:00\", \"2014-04-01T00:00:00\", \"2014-05-01T00:00:00\", \"2014-06-01T00:00:00\", \"2014-07-01T00:00:00\", \"2014-08-01T00:00:00\", \"2014-09-01T00:00:00\", \"2014-10-01T00:00:00\", \"2014-11-01T00:00:00\", \"2014-12-01T00:00:00\", \"2015-01-01T00:00:00\", \"2015-02-01T00:00:00\", \"2015-03-01T00:00:00\", \"2015-04-01T00:00:00\", \"2015-05-01T00:00:00\", \"2015-06-01T00:00:00\", \"2015-07-01T00:00:00\", \"2015-08-01T00:00:00\", \"2015-09-01T00:00:00\", \"2015-10-01T00:00:00\", \"2015-11-01T00:00:00\", \"2015-12-01T00:00:00\", \"2016-01-01T00:00:00\", \"2016-02-01T00:00:00\", \"2016-03-01T00:00:00\", \"2016-04-01T00:00:00\", \"2016-05-01T00:00:00\", \"2016-06-01T00:00:00\", \"2016-07-01T00:00:00\", \"2016-08-01T00:00:00\", \"2016-09-01T00:00:00\", \"2016-10-01T00:00:00\", \"2016-11-01T00:00:00\", \"2016-12-01T00:00:00\", \"2017-01-01T00:00:00\", \"2017-02-01T00:00:00\", \"2017-03-01T00:00:00\", \"2017-04-01T00:00:00\", \"2017-05-01T00:00:00\", \"2017-06-01T00:00:00\", \"2017-07-01T00:00:00\", \"2017-08-01T00:00:00\", \"2017-09-01T00:00:00\", \"2017-10-01T00:00:00\", \"2017-11-01T00:00:00\", \"2017-12-01T00:00:00\", \"2018-01-01T00:00:00\", \"2018-02-01T00:00:00\", \"2018-03-01T00:00:00\", \"2018-04-01T00:00:00\", \"2018-05-01T00:00:00\", \"2018-06-01T00:00:00\", \"2018-07-01T00:00:00\", \"2018-08-01T00:00:00\", \"2018-09-01T00:00:00\", \"2018-10-01T00:00:00\", \"2018-11-01T00:00:00\", \"2018-12-01T00:00:00\", \"2019-01-01T00:00:00\", \"2019-02-01T00:00:00\", \"2019-03-01T00:00:00\", \"2019-04-01T00:00:00\", \"2019-05-01T00:00:00\", \"2019-06-01T00:00:00\", \"2019-07-01T00:00:00\", \"2019-08-01T00:00:00\", \"2019-09-01T00:00:00\", \"2019-10-01T00:00:00\", \"2019-11-01T00:00:00\", \"2019-12-01T00:00:00\", \"2020-01-01T00:00:00\", \"2020-02-01T00:00:00\", \"2020-03-01T00:00:00\", \"2020-04-01T00:00:00\", \"2020-05-01T00:00:00\", \"2020-06-01T00:00:00\", \"2020-07-01T00:00:00\", \"2020-08-01T00:00:00\", \"2020-09-01T00:00:00\", \"2020-10-01T00:00:00\", \"2020-11-01T00:00:00\", \"2020-12-01T00:00:00\", \"2021-01-01T00:00:00\", \"2021-02-01T00:00:00\", \"2021-03-01T00:00:00\", \"2021-04-01T00:00:00\", \"2021-05-01T00:00:00\", \"2021-06-01T00:00:00\", \"2021-07-01T00:00:00\", \"2021-08-01T00:00:00\", \"2021-09-01T00:00:00\", \"2021-10-01T00:00:00\", \"2021-11-01T00:00:00\", \"2021-12-01T00:00:00\"], \"y\": [221.22307288296722, 101.63351813485555, 141.3991463679843, 170.07740319578838, 309.2578682526908, 432.1638592354873, 478.9689506942604, 276.1824722952163, 131.19860820721823, 133.0339339147248, 122.50204368725902, 154.19808817376946, 171.3618425816214, 110.19399740198229, 178.76072990855553, 220.40393738187112, 323.3003645068719, 418.27651709375766, 451.6728943136304, 269.9948207011269, 180.61147511895453, 182.55338766300315, 142.29549162295612, 151.81189548485378, 121.69595159356513, 120.17759802198306, 216.78821560083796, 270.278211769736, 336.00566760024026, 403.45423837768567, 424.7280492624009, 265.35565685253016, 231.17562909915566, 231.54481189771795, 160.86954193326562, 148.24230103321258, 72.30514124212058, 131.60193556929448, 151.2542237158105, 165.86078844680344, 340.38796603288824, 491.5780947264649, 553.0572011342904, 330.39763552473784, 129.49024247512415, 129.55012666334034, 148.0111443913302, 201.8687725831358, 267.72598951350534, 148.13643472462454, 187.9020629062829, 216.58031967762986, 355.76078467934894, 478.6667755795356, 525.4718669592598, 322.6853884588452, 177.7015242600204, 179.53684984058054, 169.0049594701441, 200.701003818628, 217.86475808334768, 156.69691275936395, 225.26364514028242, 266.90685247510794, 369.8032794652198, 464.77943192765053, 498.1758090270547, 316.4977352921879, 227.11438958759896, 229.0563020271713, 188.798405879129, 198.31480964057747, 168.19886564513428, 166.6805119700798, 263.2911294576613, 316.78112552499067, 382.5085812691767, 449.957151957478, 471.2309627595965, 311.8585702639346, 277.67854240621045, 278.04772510372345, 207.37245503494086, 194.74521404750817, 118.80805416672365, 178.1048484049859, 197.7571364684805, 212.36370110019664, 386.8908785908125, 538.0810071963949, 599.560113519226, 376.9005478225481, 175.99315467171073, 176.0530387619226, 194.51405640292978, 248.3716845104965, 314.2289013623034, 194.63934649582856, 234.4049746217855, 263.083231331231, 402.26369627376795, 525.1696871355166, 571.9747784772908, 369.18829995678556, 224.204435738128, 226.03976131830336, 215.50787094800532, 247.20391529614088]}, {\"fill\": \"tonexty\", \"fillcolor\": \"rgba(0, 114, 178, 0.2)\", \"hoverinfo\": \"skip\", \"line\": {\"width\": 0}, \"mode\": \"lines\", \"type\": \"scatter\", \"x\": [\"2013-01-01T00:00:00\", \"2013-02-01T00:00:00\", \"2013-03-01T00:00:00\", \"2013-04-01T00:00:00\", \"2013-05-01T00:00:00\", \"2013-06-01T00:00:00\", \"2013-07-01T00:00:00\", \"2013-08-01T00:00:00\", \"2013-09-01T00:00:00\", \"2013-10-01T00:00:00\", \"2013-11-01T00:00:00\", \"2013-12-01T00:00:00\", \"2014-01-01T00:00:00\", \"2014-02-01T00:00:00\", \"2014-03-01T00:00:00\", \"2014-04-01T00:00:00\", \"2014-05-01T00:00:00\", \"2014-06-01T00:00:00\", \"2014-07-01T00:00:00\", \"2014-08-01T00:00:00\", \"2014-09-01T00:00:00\", \"2014-10-01T00:00:00\", \"2014-11-01T00:00:00\", \"2014-12-01T00:00:00\", \"2015-01-01T00:00:00\", \"2015-02-01T00:00:00\", \"2015-03-01T00:00:00\", \"2015-04-01T00:00:00\", \"2015-05-01T00:00:00\", \"2015-06-01T00:00:00\", \"2015-07-01T00:00:00\", \"2015-08-01T00:00:00\", \"2015-09-01T00:00:00\", \"2015-10-01T00:00:00\", \"2015-11-01T00:00:00\", \"2015-12-01T00:00:00\", \"2016-01-01T00:00:00\", \"2016-02-01T00:00:00\", \"2016-03-01T00:00:00\", \"2016-04-01T00:00:00\", \"2016-05-01T00:00:00\", \"2016-06-01T00:00:00\", \"2016-07-01T00:00:00\", \"2016-08-01T00:00:00\", \"2016-09-01T00:00:00\", \"2016-10-01T00:00:00\", \"2016-11-01T00:00:00\", \"2016-12-01T00:00:00\", \"2017-01-01T00:00:00\", \"2017-02-01T00:00:00\", \"2017-03-01T00:00:00\", \"2017-04-01T00:00:00\", \"2017-05-01T00:00:00\", \"2017-06-01T00:00:00\", \"2017-07-01T00:00:00\", \"2017-08-01T00:00:00\", \"2017-09-01T00:00:00\", \"2017-10-01T00:00:00\", \"2017-11-01T00:00:00\", \"2017-12-01T00:00:00\", \"2018-01-01T00:00:00\", \"2018-02-01T00:00:00\", \"2018-03-01T00:00:00\", \"2018-04-01T00:00:00\", \"2018-05-01T00:00:00\", \"2018-06-01T00:00:00\", \"2018-07-01T00:00:00\", \"2018-08-01T00:00:00\", \"2018-09-01T00:00:00\", \"2018-10-01T00:00:00\", \"2018-11-01T00:00:00\", \"2018-12-01T00:00:00\", \"2019-01-01T00:00:00\", \"2019-02-01T00:00:00\", \"2019-03-01T00:00:00\", \"2019-04-01T00:00:00\", \"2019-05-01T00:00:00\", \"2019-06-01T00:00:00\", \"2019-07-01T00:00:00\", \"2019-08-01T00:00:00\", \"2019-09-01T00:00:00\", \"2019-10-01T00:00:00\", \"2019-11-01T00:00:00\", \"2019-12-01T00:00:00\", \"2020-01-01T00:00:00\", \"2020-02-01T00:00:00\", \"2020-03-01T00:00:00\", \"2020-04-01T00:00:00\", \"2020-05-01T00:00:00\", \"2020-06-01T00:00:00\", \"2020-07-01T00:00:00\", \"2020-08-01T00:00:00\", \"2020-09-01T00:00:00\", \"2020-10-01T00:00:00\", \"2020-11-01T00:00:00\", \"2020-12-01T00:00:00\", \"2021-01-01T00:00:00\", \"2021-02-01T00:00:00\", \"2021-03-01T00:00:00\", \"2021-04-01T00:00:00\", \"2021-05-01T00:00:00\", \"2021-06-01T00:00:00\", \"2021-07-01T00:00:00\", \"2021-08-01T00:00:00\", \"2021-09-01T00:00:00\", \"2021-10-01T00:00:00\", \"2021-11-01T00:00:00\", \"2021-12-01T00:00:00\"], \"y\": [786.2982521082404, 693.8510622734926, 706.3091103315045, 773.8044302906216, 864.8477671997862, 995.0053907978404, 1064.2572746254068, 867.5409710234428, 731.2059486139709, 736.9155050475861, 672.6807082348112, 729.1241655413439, 746.8711423307751, 681.5786632233308, 703.3768429045693, 795.4272080543182, 906.7600693040738, 998.2802312587086, 1026.7853161987039, 854.5012492892492, 792.9735762472236, 768.7522152306966, 736.8705919220849, 752.3364089653298, 712.142369167193, 706.7997631925866, 818.6051638229828, 846.0196410825974, 930.0935667068758, 1010.9941602264189, 1000.3013735950968, 826.1447587328304, 813.825836080577, 838.0139744677015, 781.2451304391083, 753.0837522917311, 657.1802363397132, 728.5251792858783, 722.1276351382264, 750.5280347847224, 898.7221495802108, 1082.401079351499, 1154.7203445445198, 870.6620863915166, 681.817088687917, 701.0848769664609, 742.1787878874817, 843.6956405305839, 885.4727406256474, 722.1430505332085, 776.185913190939, 797.1865300490756, 947.1985323270774, 1039.5179693899931, 1043.7266857331701, 911.1125548540999, 753.1453219935528, 731.8033411887901, 730.1740672167618, 807.2490773619875, 777.0296071842205, 746.7687525349916, 827.1021033330996, 847.3779053776913, 964.5961561738028, 1082.5928389175476, 1066.3881856689293, 878.6932333411683, 752.9980536155634, 838.693068709117, 764.9078890065128, 782.9952126382135, 774.8694997872045, 729.3801344284162, 844.1733257840143, 906.6702526754032, 940.7247082062435, 1064.9599410717874, 1009.5858901362254, 875.0490484754855, 867.3421908571013, 876.843397346955, 819.4101843745381, 754.8894303081496, 705.3030810455555, 743.4919495201722, 783.2233027170296, 789.7983281642111, 995.5230426430066, 1092.3419491066943, 1165.6153983014285, 981.6441238937964, 775.1204018006288, 774.5076410635734, 807.8880757985025, 850.238486987591, 909.672747908646, 795.6866954711755, 835.995187107141, 853.6779694761123, 1003.0240097674491, 1100.2095663805692, 1165.8037906691775, 952.3449543111498, 837.5918200162871, 840.5191807714638, 774.1583930401652, 820.4106413837173]}],\n",
       "                        {\"height\": 600, \"showlegend\": false, \"template\": {\"data\": {\"bar\": [{\"error_x\": {\"color\": \"#2a3f5f\"}, \"error_y\": {\"color\": \"#2a3f5f\"}, \"marker\": {\"line\": {\"color\": \"#E5ECF6\", \"width\": 0.5}}, \"type\": \"bar\"}], \"barpolar\": [{\"marker\": {\"line\": {\"color\": \"#E5ECF6\", \"width\": 0.5}}, \"type\": \"barpolar\"}], \"carpet\": [{\"aaxis\": {\"endlinecolor\": \"#2a3f5f\", \"gridcolor\": \"white\", \"linecolor\": \"white\", \"minorgridcolor\": \"white\", \"startlinecolor\": \"#2a3f5f\"}, \"baxis\": {\"endlinecolor\": \"#2a3f5f\", \"gridcolor\": \"white\", \"linecolor\": \"white\", \"minorgridcolor\": \"white\", \"startlinecolor\": \"#2a3f5f\"}, \"type\": \"carpet\"}], \"choropleth\": [{\"colorbar\": {\"outlinewidth\": 0, \"ticks\": \"\"}, \"type\": \"choropleth\"}], \"contour\": [{\"colorbar\": {\"outlinewidth\": 0, \"ticks\": \"\"}, \"colorscale\": [[0.0, \"#0d0887\"], [0.1111111111111111, \"#46039f\"], [0.2222222222222222, \"#7201a8\"], [0.3333333333333333, \"#9c179e\"], [0.4444444444444444, \"#bd3786\"], [0.5555555555555556, \"#d8576b\"], [0.6666666666666666, \"#ed7953\"], [0.7777777777777778, \"#fb9f3a\"], [0.8888888888888888, \"#fdca26\"], [1.0, \"#f0f921\"]], \"type\": \"contour\"}], \"contourcarpet\": [{\"colorbar\": {\"outlinewidth\": 0, \"ticks\": \"\"}, \"type\": \"contourcarpet\"}], \"heatmap\": [{\"colorbar\": {\"outlinewidth\": 0, \"ticks\": \"\"}, \"colorscale\": [[0.0, \"#0d0887\"], [0.1111111111111111, \"#46039f\"], [0.2222222222222222, \"#7201a8\"], [0.3333333333333333, \"#9c179e\"], [0.4444444444444444, \"#bd3786\"], [0.5555555555555556, \"#d8576b\"], [0.6666666666666666, \"#ed7953\"], [0.7777777777777778, \"#fb9f3a\"], [0.8888888888888888, \"#fdca26\"], [1.0, \"#f0f921\"]], \"type\": \"heatmap\"}], \"heatmapgl\": [{\"colorbar\": {\"outlinewidth\": 0, \"ticks\": \"\"}, \"colorscale\": [[0.0, \"#0d0887\"], [0.1111111111111111, \"#46039f\"], [0.2222222222222222, \"#7201a8\"], [0.3333333333333333, \"#9c179e\"], [0.4444444444444444, \"#bd3786\"], [0.5555555555555556, \"#d8576b\"], [0.6666666666666666, \"#ed7953\"], [0.7777777777777778, \"#fb9f3a\"], [0.8888888888888888, \"#fdca26\"], [1.0, \"#f0f921\"]], \"type\": \"heatmapgl\"}], \"histogram\": [{\"marker\": {\"colorbar\": {\"outlinewidth\": 0, \"ticks\": \"\"}}, \"type\": \"histogram\"}], \"histogram2d\": [{\"colorbar\": {\"outlinewidth\": 0, \"ticks\": \"\"}, \"colorscale\": [[0.0, \"#0d0887\"], [0.1111111111111111, \"#46039f\"], [0.2222222222222222, \"#7201a8\"], [0.3333333333333333, \"#9c179e\"], [0.4444444444444444, \"#bd3786\"], [0.5555555555555556, \"#d8576b\"], [0.6666666666666666, \"#ed7953\"], [0.7777777777777778, \"#fb9f3a\"], [0.8888888888888888, \"#fdca26\"], [1.0, \"#f0f921\"]], \"type\": \"histogram2d\"}], \"histogram2dcontour\": [{\"colorbar\": {\"outlinewidth\": 0, \"ticks\": \"\"}, \"colorscale\": [[0.0, \"#0d0887\"], [0.1111111111111111, \"#46039f\"], [0.2222222222222222, \"#7201a8\"], [0.3333333333333333, \"#9c179e\"], [0.4444444444444444, \"#bd3786\"], [0.5555555555555556, \"#d8576b\"], [0.6666666666666666, \"#ed7953\"], [0.7777777777777778, \"#fb9f3a\"], [0.8888888888888888, \"#fdca26\"], [1.0, \"#f0f921\"]], \"type\": \"histogram2dcontour\"}], \"mesh3d\": [{\"colorbar\": {\"outlinewidth\": 0, \"ticks\": \"\"}, \"type\": \"mesh3d\"}], \"parcoords\": [{\"line\": {\"colorbar\": {\"outlinewidth\": 0, \"ticks\": \"\"}}, \"type\": \"parcoords\"}], \"pie\": [{\"automargin\": true, \"type\": \"pie\"}], \"scatter\": [{\"marker\": {\"colorbar\": {\"outlinewidth\": 0, \"ticks\": \"\"}}, \"type\": \"scatter\"}], \"scatter3d\": [{\"line\": {\"colorbar\": {\"outlinewidth\": 0, \"ticks\": \"\"}}, \"marker\": {\"colorbar\": {\"outlinewidth\": 0, \"ticks\": \"\"}}, \"type\": \"scatter3d\"}], \"scattercarpet\": [{\"marker\": {\"colorbar\": {\"outlinewidth\": 0, \"ticks\": \"\"}}, \"type\": \"scattercarpet\"}], \"scattergeo\": [{\"marker\": {\"colorbar\": {\"outlinewidth\": 0, \"ticks\": \"\"}}, \"type\": \"scattergeo\"}], \"scattergl\": [{\"marker\": {\"colorbar\": {\"outlinewidth\": 0, \"ticks\": \"\"}}, \"type\": \"scattergl\"}], \"scattermapbox\": [{\"marker\": {\"colorbar\": {\"outlinewidth\": 0, \"ticks\": \"\"}}, \"type\": \"scattermapbox\"}], \"scatterpolar\": [{\"marker\": {\"colorbar\": {\"outlinewidth\": 0, \"ticks\": \"\"}}, \"type\": \"scatterpolar\"}], \"scatterpolargl\": [{\"marker\": {\"colorbar\": {\"outlinewidth\": 0, \"ticks\": \"\"}}, \"type\": \"scatterpolargl\"}], \"scatterternary\": [{\"marker\": {\"colorbar\": {\"outlinewidth\": 0, \"ticks\": \"\"}}, \"type\": \"scatterternary\"}], \"surface\": [{\"colorbar\": {\"outlinewidth\": 0, \"ticks\": \"\"}, \"colorscale\": [[0.0, \"#0d0887\"], [0.1111111111111111, \"#46039f\"], [0.2222222222222222, \"#7201a8\"], [0.3333333333333333, \"#9c179e\"], [0.4444444444444444, \"#bd3786\"], [0.5555555555555556, \"#d8576b\"], [0.6666666666666666, \"#ed7953\"], [0.7777777777777778, \"#fb9f3a\"], [0.8888888888888888, \"#fdca26\"], [1.0, \"#f0f921\"]], \"type\": \"surface\"}], \"table\": [{\"cells\": {\"fill\": {\"color\": \"#EBF0F8\"}, \"line\": {\"color\": \"white\"}}, \"header\": {\"fill\": {\"color\": \"#C8D4E3\"}, \"line\": {\"color\": \"white\"}}, \"type\": \"table\"}]}, \"layout\": {\"annotationdefaults\": {\"arrowcolor\": \"#2a3f5f\", \"arrowhead\": 0, \"arrowwidth\": 1}, \"coloraxis\": {\"colorbar\": {\"outlinewidth\": 0, \"ticks\": \"\"}}, \"colorscale\": {\"diverging\": [[0, \"#8e0152\"], [0.1, \"#c51b7d\"], [0.2, \"#de77ae\"], [0.3, \"#f1b6da\"], [0.4, \"#fde0ef\"], [0.5, \"#f7f7f7\"], [0.6, \"#e6f5d0\"], [0.7, \"#b8e186\"], [0.8, \"#7fbc41\"], [0.9, \"#4d9221\"], [1, \"#276419\"]], \"sequential\": [[0.0, \"#0d0887\"], [0.1111111111111111, \"#46039f\"], [0.2222222222222222, \"#7201a8\"], [0.3333333333333333, \"#9c179e\"], [0.4444444444444444, \"#bd3786\"], [0.5555555555555556, \"#d8576b\"], [0.6666666666666666, \"#ed7953\"], [0.7777777777777778, \"#fb9f3a\"], [0.8888888888888888, \"#fdca26\"], [1.0, \"#f0f921\"]], \"sequentialminus\": [[0.0, \"#0d0887\"], [0.1111111111111111, \"#46039f\"], [0.2222222222222222, \"#7201a8\"], [0.3333333333333333, \"#9c179e\"], [0.4444444444444444, \"#bd3786\"], [0.5555555555555556, \"#d8576b\"], [0.6666666666666666, \"#ed7953\"], [0.7777777777777778, \"#fb9f3a\"], [0.8888888888888888, \"#fdca26\"], [1.0, \"#f0f921\"]]}, \"colorway\": [\"#636efa\", \"#EF553B\", \"#00cc96\", \"#ab63fa\", \"#FFA15A\", \"#19d3f3\", \"#FF6692\", \"#B6E880\", \"#FF97FF\", \"#FECB52\"], \"font\": {\"color\": \"#2a3f5f\"}, \"geo\": {\"bgcolor\": \"white\", \"lakecolor\": \"white\", \"landcolor\": \"#E5ECF6\", \"showlakes\": true, \"showland\": true, \"subunitcolor\": \"white\"}, \"hoverlabel\": {\"align\": \"left\"}, \"hovermode\": \"closest\", \"mapbox\": {\"style\": \"light\"}, \"paper_bgcolor\": \"white\", \"plot_bgcolor\": \"#E5ECF6\", \"polar\": {\"angularaxis\": {\"gridcolor\": \"white\", \"linecolor\": \"white\", \"ticks\": \"\"}, \"bgcolor\": \"#E5ECF6\", \"radialaxis\": {\"gridcolor\": \"white\", \"linecolor\": \"white\", \"ticks\": \"\"}}, \"scene\": {\"xaxis\": {\"backgroundcolor\": \"#E5ECF6\", \"gridcolor\": \"white\", \"gridwidth\": 2, \"linecolor\": \"white\", \"showbackground\": true, \"ticks\": \"\", \"zerolinecolor\": \"white\"}, \"yaxis\": {\"backgroundcolor\": \"#E5ECF6\", \"gridcolor\": \"white\", \"gridwidth\": 2, \"linecolor\": \"white\", \"showbackground\": true, \"ticks\": \"\", \"zerolinecolor\": \"white\"}, \"zaxis\": {\"backgroundcolor\": \"#E5ECF6\", \"gridcolor\": \"white\", \"gridwidth\": 2, \"linecolor\": \"white\", \"showbackground\": true, \"ticks\": \"\", \"zerolinecolor\": \"white\"}}, \"shapedefaults\": {\"line\": {\"color\": \"#2a3f5f\"}}, \"ternary\": {\"aaxis\": {\"gridcolor\": \"white\", \"linecolor\": \"white\", \"ticks\": \"\"}, \"baxis\": {\"gridcolor\": \"white\", \"linecolor\": \"white\", \"ticks\": \"\"}, \"bgcolor\": \"#E5ECF6\", \"caxis\": {\"gridcolor\": \"white\", \"linecolor\": \"white\", \"ticks\": \"\"}}, \"title\": {\"x\": 0.05}, \"xaxis\": {\"automargin\": true, \"gridcolor\": \"white\", \"linecolor\": \"white\", \"ticks\": \"\", \"title\": {\"standoff\": 15}, \"zerolinecolor\": \"white\", \"zerolinewidth\": 2}, \"yaxis\": {\"automargin\": true, \"gridcolor\": \"white\", \"linecolor\": \"white\", \"ticks\": \"\", \"title\": {\"standoff\": 15}, \"zerolinecolor\": \"white\", \"zerolinewidth\": 2}}}, \"width\": 900, \"xaxis\": {\"rangeselector\": {\"buttons\": [{\"count\": 7, \"label\": \"1w\", \"step\": \"day\", \"stepmode\": \"backward\"}, {\"count\": 1, \"label\": \"1m\", \"step\": \"month\", \"stepmode\": \"backward\"}, {\"count\": 6, \"label\": \"6m\", \"step\": \"month\", \"stepmode\": \"backward\"}, {\"count\": 1, \"label\": \"1y\", \"step\": \"year\", \"stepmode\": \"backward\"}, {\"step\": \"all\"}]}, \"rangeslider\": {\"visible\": true}, \"title\": {\"text\": \"ds\"}, \"type\": \"date\"}, \"yaxis\": {\"title\": {\"text\": \"y\"}}},\n",
       "                        {\"responsive\": true}\n",
       "                    ).then(function(){\n",
       "                            \n",
       "var gd = document.getElementById('f80c300e-44c7-4175-aea8-6dd3ef622c24');\n",
       "var x = new MutationObserver(function (mutations, observer) {{\n",
       "        var display = window.getComputedStyle(gd).display;\n",
       "        if (!display || display === 'none') {{\n",
       "            console.log([gd, 'removed!']);\n",
       "            Plotly.purge(gd);\n",
       "            observer.disconnect();\n",
       "        }}\n",
       "}});\n",
       "\n",
       "// Listen for the removal of the full notebook cells\n",
       "var notebookContainer = gd.closest('#notebook-container');\n",
       "if (notebookContainer) {{\n",
       "    x.observe(notebookContainer, {childList: true});\n",
       "}}\n",
       "\n",
       "// Listen for the clearing of the current output cell\n",
       "var outputEl = gd.closest('.output');\n",
       "if (outputEl) {{\n",
       "    x.observe(outputEl, {childList: true});\n",
       "}}\n",
       "\n",
       "                        })\n",
       "                };\n",
       "                });\n",
       "            </script>\n",
       "        </div>"
      ]
     },
     "metadata": {},
     "output_type": "display_data"
    }
   ],
   "source": [
    "plot_plotly(ts_model, ts_forecast)"
   ]
  },
  {
   "cell_type": "code",
   "execution_count": 40,
   "metadata": {},
   "outputs": [
    {
     "data": {
      "application/vnd.plotly.v1+json": {
       "config": {
        "plotlyServerURL": "https://plot.ly"
       },
       "data": [
        {
         "line": {
          "color": "#0072B2",
          "width": 2
         },
         "mode": "lines",
         "name": "trend",
         "type": "scatter",
         "x": [
          "2013-01-01T00:00:00",
          "2013-02-01T00:00:00",
          "2013-03-01T00:00:00",
          "2013-04-01T00:00:00",
          "2013-05-01T00:00:00",
          "2013-06-01T00:00:00",
          "2013-07-01T00:00:00",
          "2013-08-01T00:00:00",
          "2013-09-01T00:00:00",
          "2013-10-01T00:00:00",
          "2013-11-01T00:00:00",
          "2013-12-01T00:00:00",
          "2014-01-01T00:00:00",
          "2014-02-01T00:00:00",
          "2014-03-01T00:00:00",
          "2014-04-01T00:00:00",
          "2014-05-01T00:00:00",
          "2014-06-01T00:00:00",
          "2014-07-01T00:00:00",
          "2014-08-01T00:00:00",
          "2014-09-01T00:00:00",
          "2014-10-01T00:00:00",
          "2014-11-01T00:00:00",
          "2014-12-01T00:00:00",
          "2015-01-01T00:00:00",
          "2015-02-01T00:00:00",
          "2015-03-01T00:00:00",
          "2015-04-01T00:00:00",
          "2015-05-01T00:00:00",
          "2015-06-01T00:00:00",
          "2015-07-01T00:00:00",
          "2015-08-01T00:00:00",
          "2015-09-01T00:00:00",
          "2015-10-01T00:00:00",
          "2015-11-01T00:00:00",
          "2015-12-01T00:00:00",
          "2016-01-01T00:00:00",
          "2016-02-01T00:00:00",
          "2016-03-01T00:00:00",
          "2016-04-01T00:00:00",
          "2016-05-01T00:00:00",
          "2016-06-01T00:00:00",
          "2016-07-01T00:00:00",
          "2016-08-01T00:00:00",
          "2016-09-01T00:00:00",
          "2016-10-01T00:00:00",
          "2016-11-01T00:00:00",
          "2016-12-01T00:00:00",
          "2017-01-01T00:00:00",
          "2017-02-01T00:00:00",
          "2017-03-01T00:00:00",
          "2017-04-01T00:00:00",
          "2017-05-01T00:00:00",
          "2017-06-01T00:00:00",
          "2017-07-01T00:00:00",
          "2017-08-01T00:00:00",
          "2017-09-01T00:00:00",
          "2017-10-01T00:00:00",
          "2017-11-01T00:00:00",
          "2017-12-01T00:00:00",
          "2018-01-01T00:00:00",
          "2018-02-01T00:00:00",
          "2018-03-01T00:00:00",
          "2018-04-01T00:00:00",
          "2018-05-01T00:00:00",
          "2018-06-01T00:00:00",
          "2018-07-01T00:00:00",
          "2018-08-01T00:00:00",
          "2018-09-01T00:00:00",
          "2018-10-01T00:00:00",
          "2018-11-01T00:00:00",
          "2018-12-01T00:00:00",
          "2019-01-01T00:00:00",
          "2019-02-01T00:00:00",
          "2019-03-01T00:00:00",
          "2019-04-01T00:00:00",
          "2019-05-01T00:00:00",
          "2019-06-01T00:00:00",
          "2019-07-01T00:00:00",
          "2019-08-01T00:00:00",
          "2019-09-01T00:00:00",
          "2019-10-01T00:00:00",
          "2019-11-01T00:00:00",
          "2019-12-01T00:00:00",
          "2020-01-01T00:00:00",
          "2020-02-01T00:00:00",
          "2020-03-01T00:00:00",
          "2020-04-01T00:00:00",
          "2020-05-01T00:00:00",
          "2020-06-01T00:00:00",
          "2020-07-01T00:00:00",
          "2020-08-01T00:00:00",
          "2020-09-01T00:00:00",
          "2020-10-01T00:00:00",
          "2020-11-01T00:00:00",
          "2020-12-01T00:00:00",
          "2021-01-01T00:00:00",
          "2021-02-01T00:00:00",
          "2021-03-01T00:00:00",
          "2021-04-01T00:00:00",
          "2021-05-01T00:00:00",
          "2021-06-01T00:00:00",
          "2021-07-01T00:00:00",
          "2021-08-01T00:00:00",
          "2021-09-01T00:00:00",
          "2021-10-01T00:00:00",
          "2021-11-01T00:00:00",
          "2021-12-01T00:00:00"
         ],
         "xaxis": "x",
         "y": [
          202.97510261104304,
          203.9618174838065,
          204.85304382049605,
          205.8397586929309,
          206.79464405335173,
          207.78135892860138,
          208.73624429174617,
          209.72295916699582,
          210.709674052277,
          211.66455942512974,
          212.65127432210443,
          213.60615970627347,
          214.59287460404587,
          215.57958950181833,
          216.4708158569854,
          217.45753075020613,
          218.4124161307423,
          219.39913100931628,
          220.35401637567819,
          221.34073125216898,
          222.32744612865972,
          223.28233147916146,
          224.26904634134664,
          225.2239316877696,
          226.21064654574002,
          227.19736140371043,
          228.0885877247492,
          229.075302580185,
          230.0301879124659,
          231.01690275582277,
          231.97178808452537,
          232.95850292418464,
          233.945217782749,
          234.9001031297468,
          235.8868179883112,
          236.84170332134883,
          237.8284181654877,
          238.81513300858242,
          239.73818882954197,
          240.7249036825413,
          241.67978902415356,
          242.66650386598033,
          243.62138919678037,
          244.60810403860714,
          245.59481889388096,
          246.54970423769436,
          247.53641907902903,
          248.49130440935292,
          249.47801924146273,
          250.46473407357252,
          251.35596035874804,
          252.3426751744781,
          253.29756048002332,
          254.284275272878,
          255.23916055628575,
          256.22587533066684,
          257.212590105048,
          258.1674753509974,
          259.1541901051451,
          260.10907535109453,
          261.09579010524226,
          262.08250485939004,
          262.9737310889428,
          263.96044584309055,
          264.91533108903997,
          265.90204584318775,
          266.85693108913716,
          267.84364584328495,
          268.8303605974327,
          269.7852458433821,
          270.7719605975298,
          271.7268458434792,
          272.713560597627,
          273.70027535177474,
          274.5915015813275,
          275.5782163354753,
          276.5331015814247,
          277.5198163355725,
          278.4747015815219,
          279.46141633566964,
          280.44813108981737,
          281.4030163357668,
          282.38973108991456,
          283.344616335864,
          284.3313310900117,
          285.3180458441595,
          286.2411015819106,
          287.2278163360583,
          288.1827015820077,
          289.16941633615545,
          290.1243015821049,
          291.11101633625265,
          292.09773109040043,
          293.05261633634984,
          294.03933109049757,
          294.994216336447,
          295.9809310905947,
          296.9676458447425,
          297.8588720742953,
          298.845586828443,
          299.8004720743925,
          300.7871868285402,
          301.7420720744896,
          302.7287868286374,
          303.7155015827851,
          304.67038682873454,
          305.65710158288226,
          306.61198682883173
         ],
         "yaxis": "y"
        },
        {
         "line": {
          "color": "rgba(0, 114, 178, 0.2)",
          "width": 0
         },
         "mode": "lines",
         "name": "trend_upper",
         "type": "scatter",
         "x": [
          "2013-01-01T00:00:00",
          "2013-02-01T00:00:00",
          "2013-03-01T00:00:00",
          "2013-04-01T00:00:00",
          "2013-05-01T00:00:00",
          "2013-06-01T00:00:00",
          "2013-07-01T00:00:00",
          "2013-08-01T00:00:00",
          "2013-09-01T00:00:00",
          "2013-10-01T00:00:00",
          "2013-11-01T00:00:00",
          "2013-12-01T00:00:00",
          "2014-01-01T00:00:00",
          "2014-02-01T00:00:00",
          "2014-03-01T00:00:00",
          "2014-04-01T00:00:00",
          "2014-05-01T00:00:00",
          "2014-06-01T00:00:00",
          "2014-07-01T00:00:00",
          "2014-08-01T00:00:00",
          "2014-09-01T00:00:00",
          "2014-10-01T00:00:00",
          "2014-11-01T00:00:00",
          "2014-12-01T00:00:00",
          "2015-01-01T00:00:00",
          "2015-02-01T00:00:00",
          "2015-03-01T00:00:00",
          "2015-04-01T00:00:00",
          "2015-05-01T00:00:00",
          "2015-06-01T00:00:00",
          "2015-07-01T00:00:00",
          "2015-08-01T00:00:00",
          "2015-09-01T00:00:00",
          "2015-10-01T00:00:00",
          "2015-11-01T00:00:00",
          "2015-12-01T00:00:00",
          "2016-01-01T00:00:00",
          "2016-02-01T00:00:00",
          "2016-03-01T00:00:00",
          "2016-04-01T00:00:00",
          "2016-05-01T00:00:00",
          "2016-06-01T00:00:00",
          "2016-07-01T00:00:00",
          "2016-08-01T00:00:00",
          "2016-09-01T00:00:00",
          "2016-10-01T00:00:00",
          "2016-11-01T00:00:00",
          "2016-12-01T00:00:00",
          "2017-01-01T00:00:00",
          "2017-02-01T00:00:00",
          "2017-03-01T00:00:00",
          "2017-04-01T00:00:00",
          "2017-05-01T00:00:00",
          "2017-06-01T00:00:00",
          "2017-07-01T00:00:00",
          "2017-08-01T00:00:00",
          "2017-09-01T00:00:00",
          "2017-10-01T00:00:00",
          "2017-11-01T00:00:00",
          "2017-12-01T00:00:00",
          "2018-01-01T00:00:00",
          "2018-02-01T00:00:00",
          "2018-03-01T00:00:00",
          "2018-04-01T00:00:00",
          "2018-05-01T00:00:00",
          "2018-06-01T00:00:00",
          "2018-07-01T00:00:00",
          "2018-08-01T00:00:00",
          "2018-09-01T00:00:00",
          "2018-10-01T00:00:00",
          "2018-11-01T00:00:00",
          "2018-12-01T00:00:00",
          "2019-01-01T00:00:00",
          "2019-02-01T00:00:00",
          "2019-03-01T00:00:00",
          "2019-04-01T00:00:00",
          "2019-05-01T00:00:00",
          "2019-06-01T00:00:00",
          "2019-07-01T00:00:00",
          "2019-08-01T00:00:00",
          "2019-09-01T00:00:00",
          "2019-10-01T00:00:00",
          "2019-11-01T00:00:00",
          "2019-12-01T00:00:00",
          "2020-01-01T00:00:00",
          "2020-02-01T00:00:00",
          "2020-03-01T00:00:00",
          "2020-04-01T00:00:00",
          "2020-05-01T00:00:00",
          "2020-06-01T00:00:00",
          "2020-07-01T00:00:00",
          "2020-08-01T00:00:00",
          "2020-09-01T00:00:00",
          "2020-10-01T00:00:00",
          "2020-11-01T00:00:00",
          "2020-12-01T00:00:00",
          "2021-01-01T00:00:00",
          "2021-02-01T00:00:00",
          "2021-03-01T00:00:00",
          "2021-04-01T00:00:00",
          "2021-05-01T00:00:00",
          "2021-06-01T00:00:00",
          "2021-07-01T00:00:00",
          "2021-08-01T00:00:00",
          "2021-09-01T00:00:00",
          "2021-10-01T00:00:00",
          "2021-11-01T00:00:00",
          "2021-12-01T00:00:00"
         ],
         "xaxis": "x",
         "y": [
          202.97510261104304,
          203.9618174838065,
          204.85304382049605,
          205.8397586929309,
          206.79464405335173,
          207.78135892860138,
          208.73624429174617,
          209.72295916699582,
          210.709674052277,
          211.66455942512974,
          212.65127432210443,
          213.60615970627347,
          214.59287460404587,
          215.57958950181833,
          216.4708158569854,
          217.45753075020613,
          218.41241613074232,
          219.39913100931628,
          220.35401637567819,
          221.34073125216898,
          222.32744612865972,
          223.28233147916146,
          224.26904634134664,
          225.2239316877696,
          226.21064654574002,
          227.19736140371043,
          228.0885877247492,
          229.075302580185,
          230.0301879124659,
          231.01690275582277,
          231.97178808452537,
          232.95850292418464,
          233.945217782749,
          234.9001031297468,
          235.8868179883112,
          236.84170332134883,
          237.8284181654877,
          238.81513300858242,
          239.73818882954197,
          240.7249036825413,
          241.67978902415356,
          242.66650386598033,
          243.62138919678037,
          244.60810403860714,
          245.59481889388096,
          246.54970423769436,
          247.53641907902903,
          248.49130440935292,
          249.47801924146273,
          250.46473407357252,
          251.35596035874804,
          252.3426751744781,
          253.29756048002332,
          254.284275272878,
          255.23916055628575,
          256.22587533066684,
          257.212590105048,
          258.1674753509974,
          259.1541901051451,
          260.10907535109453,
          261.09579010524226,
          262.08250485939004,
          262.9737310889428,
          263.96044584309055,
          264.91533108903997,
          265.90204584318775,
          266.85693108913716,
          267.84364584328495,
          268.8303605974327,
          269.7852458433821,
          270.7719605975298,
          271.7268458434792,
          272.7135608698075,
          273.70027619440003,
          274.5915030239662,
          275.57821850553694,
          276.5331046048445,
          277.5198202254331,
          278.4747064588522,
          279.4614222323346,
          280.4481381310015,
          281.4030243731272,
          282.3897400056713,
          283.34462611916695,
          284.33134221661675,
          285.31805815342057,
          286.2411150255088,
          287.2278310802166,
          288.18271759096433,
          289.16943391285656,
          290.1243205967279,
          291.1110370160669,
          292.09775353426926,
          293.0526400372951,
          294.03935662222216,
          294.9942434211004,
          295.9809602471857,
          296.9676765596629,
          297.8589040743794,
          298.84562060039593,
          299.8005078794999,
          300.78722402266044,
          301.7421110848355,
          302.7288277569092,
          303.71554445674604,
          304.6704315869458,
          305.657148280608,
          306.61203500035856
         ],
         "yaxis": "y"
        },
        {
         "fill": "tonexty",
         "fillcolor": "rgba(0, 114, 178, 0.2)",
         "line": {
          "color": "rgba(0, 114, 178, 0.2)",
          "width": 0
         },
         "mode": "lines",
         "name": "trend_lower",
         "type": "scatter",
         "x": [
          "2013-01-01T00:00:00",
          "2013-02-01T00:00:00",
          "2013-03-01T00:00:00",
          "2013-04-01T00:00:00",
          "2013-05-01T00:00:00",
          "2013-06-01T00:00:00",
          "2013-07-01T00:00:00",
          "2013-08-01T00:00:00",
          "2013-09-01T00:00:00",
          "2013-10-01T00:00:00",
          "2013-11-01T00:00:00",
          "2013-12-01T00:00:00",
          "2014-01-01T00:00:00",
          "2014-02-01T00:00:00",
          "2014-03-01T00:00:00",
          "2014-04-01T00:00:00",
          "2014-05-01T00:00:00",
          "2014-06-01T00:00:00",
          "2014-07-01T00:00:00",
          "2014-08-01T00:00:00",
          "2014-09-01T00:00:00",
          "2014-10-01T00:00:00",
          "2014-11-01T00:00:00",
          "2014-12-01T00:00:00",
          "2015-01-01T00:00:00",
          "2015-02-01T00:00:00",
          "2015-03-01T00:00:00",
          "2015-04-01T00:00:00",
          "2015-05-01T00:00:00",
          "2015-06-01T00:00:00",
          "2015-07-01T00:00:00",
          "2015-08-01T00:00:00",
          "2015-09-01T00:00:00",
          "2015-10-01T00:00:00",
          "2015-11-01T00:00:00",
          "2015-12-01T00:00:00",
          "2016-01-01T00:00:00",
          "2016-02-01T00:00:00",
          "2016-03-01T00:00:00",
          "2016-04-01T00:00:00",
          "2016-05-01T00:00:00",
          "2016-06-01T00:00:00",
          "2016-07-01T00:00:00",
          "2016-08-01T00:00:00",
          "2016-09-01T00:00:00",
          "2016-10-01T00:00:00",
          "2016-11-01T00:00:00",
          "2016-12-01T00:00:00",
          "2017-01-01T00:00:00",
          "2017-02-01T00:00:00",
          "2017-03-01T00:00:00",
          "2017-04-01T00:00:00",
          "2017-05-01T00:00:00",
          "2017-06-01T00:00:00",
          "2017-07-01T00:00:00",
          "2017-08-01T00:00:00",
          "2017-09-01T00:00:00",
          "2017-10-01T00:00:00",
          "2017-11-01T00:00:00",
          "2017-12-01T00:00:00",
          "2018-01-01T00:00:00",
          "2018-02-01T00:00:00",
          "2018-03-01T00:00:00",
          "2018-04-01T00:00:00",
          "2018-05-01T00:00:00",
          "2018-06-01T00:00:00",
          "2018-07-01T00:00:00",
          "2018-08-01T00:00:00",
          "2018-09-01T00:00:00",
          "2018-10-01T00:00:00",
          "2018-11-01T00:00:00",
          "2018-12-01T00:00:00",
          "2019-01-01T00:00:00",
          "2019-02-01T00:00:00",
          "2019-03-01T00:00:00",
          "2019-04-01T00:00:00",
          "2019-05-01T00:00:00",
          "2019-06-01T00:00:00",
          "2019-07-01T00:00:00",
          "2019-08-01T00:00:00",
          "2019-09-01T00:00:00",
          "2019-10-01T00:00:00",
          "2019-11-01T00:00:00",
          "2019-12-01T00:00:00",
          "2020-01-01T00:00:00",
          "2020-02-01T00:00:00",
          "2020-03-01T00:00:00",
          "2020-04-01T00:00:00",
          "2020-05-01T00:00:00",
          "2020-06-01T00:00:00",
          "2020-07-01T00:00:00",
          "2020-08-01T00:00:00",
          "2020-09-01T00:00:00",
          "2020-10-01T00:00:00",
          "2020-11-01T00:00:00",
          "2020-12-01T00:00:00",
          "2021-01-01T00:00:00",
          "2021-02-01T00:00:00",
          "2021-03-01T00:00:00",
          "2021-04-01T00:00:00",
          "2021-05-01T00:00:00",
          "2021-06-01T00:00:00",
          "2021-07-01T00:00:00",
          "2021-08-01T00:00:00",
          "2021-09-01T00:00:00",
          "2021-10-01T00:00:00",
          "2021-11-01T00:00:00",
          "2021-12-01T00:00:00"
         ],
         "xaxis": "x",
         "y": [
          202.97510261104304,
          203.9618174838065,
          204.85304382049605,
          205.8397586929309,
          206.79464405335173,
          207.78135892860138,
          208.73624429174617,
          209.72295916699582,
          210.709674052277,
          211.66455942512974,
          212.65127432210443,
          213.60615970627347,
          214.59287460404587,
          215.57958950181833,
          216.4708158569854,
          217.45753075020613,
          218.41241613074232,
          219.39913100931628,
          220.35401637567819,
          221.34073125216898,
          222.32744612865972,
          223.28233147916146,
          224.26904634134664,
          225.2239316877696,
          226.21064654574002,
          227.19736140371043,
          228.0885877247492,
          229.075302580185,
          230.0301879124659,
          231.01690275582277,
          231.97178808452537,
          232.95850292418464,
          233.945217782749,
          234.9001031297468,
          235.8868179883112,
          236.84170332134883,
          237.8284181654877,
          238.81513300858242,
          239.73818882954197,
          240.7249036825413,
          241.67978902415356,
          242.66650386598033,
          243.62138919678037,
          244.60810403860714,
          245.59481889388096,
          246.54970423769436,
          247.53641907902903,
          248.49130440935292,
          249.47801924146273,
          250.46473407357252,
          251.35596035874804,
          252.3426751744781,
          253.29756048002332,
          254.284275272878,
          255.23916055628575,
          256.22587533066684,
          257.212590105048,
          258.1674753509974,
          259.1541901051451,
          260.10907535109453,
          261.09579010524226,
          262.08250485939004,
          262.9737310889428,
          263.96044584309055,
          264.91533108903997,
          265.90204584318775,
          266.85693108913716,
          267.84364584328495,
          268.8303605974327,
          269.7852458433821,
          270.7719605975298,
          271.7268458434792,
          272.7135603535558,
          273.7002746011362,
          274.59150023653496,
          275.5782141133157,
          276.53309842696177,
          277.519812372007,
          278.4746966953401,
          279.4614105020678,
          280.4481244134066,
          281.40300871023794,
          282.3897223860012,
          283.344606383787,
          284.33132005611947,
          285.31803338584297,
          286.24108792839087,
          287.22780139571705,
          288.1826852651985,
          289.1693984681757,
          290.12428219075827,
          291.1109946815034,
          292.0977077548769,
          293.05259169474016,
          294.03930496802815,
          294.9941890447463,
          295.98090141260997,
          296.9676145720959,
          297.8588393613089,
          298.8455526160889,
          299.80043651316623,
          300.7871496535439,
          301.7420328280226,
          302.7287456288474,
          303.71545903408133,
          304.6703418271409,
          305.6570550103629,
          306.61193841280243
         ],
         "yaxis": "y"
        },
        {
         "line": {
          "color": "#0072B2",
          "width": 2
         },
         "mode": "lines",
         "name": "yearly",
         "type": "scatter",
         "x": [
          "2017-01-01T00:00:00",
          "2017-01-02T00:00:59.178082",
          "2017-01-03T00:01:58.356164",
          "2017-01-04T00:02:57.534246",
          "2017-01-05T00:03:56.712328",
          "2017-01-06T00:04:55.890411",
          "2017-01-07T00:05:55.068493",
          "2017-01-08T00:06:54.246575",
          "2017-01-09T00:07:53.424657",
          "2017-01-10T00:08:52.602739",
          "2017-01-11T00:09:51.780822",
          "2017-01-12T00:10:50.958904",
          "2017-01-13T00:11:50.136986",
          "2017-01-14T00:12:49.315068",
          "2017-01-15T00:13:48.493150",
          "2017-01-16T00:14:47.671232",
          "2017-01-17T00:15:46.849315",
          "2017-01-18T00:16:46.027397",
          "2017-01-19T00:17:45.205479",
          "2017-01-20T00:18:44.383561",
          "2017-01-21T00:19:43.561643",
          "2017-01-22T00:20:42.739726",
          "2017-01-23T00:21:41.917808",
          "2017-01-24T00:22:41.095890",
          "2017-01-25T00:23:40.273972",
          "2017-01-26T00:24:39.452054",
          "2017-01-27T00:25:38.630137",
          "2017-01-28T00:26:37.808219",
          "2017-01-29T00:27:36.986301",
          "2017-01-30T00:28:36.164383",
          "2017-01-31T00:29:35.342465",
          "2017-02-01T00:30:34.520547",
          "2017-02-02T00:31:33.698630",
          "2017-02-03T00:32:32.876712",
          "2017-02-04T00:33:32.054794",
          "2017-02-05T00:34:31.232876",
          "2017-02-06T00:35:30.410958",
          "2017-02-07T00:36:29.589041",
          "2017-02-08T00:37:28.767123",
          "2017-02-09T00:38:27.945205",
          "2017-02-10T00:39:27.123287",
          "2017-02-11T00:40:26.301369",
          "2017-02-12T00:41:25.479452",
          "2017-02-13T00:42:24.657534",
          "2017-02-14T00:43:23.835616",
          "2017-02-15T00:44:23.013698",
          "2017-02-16T00:45:22.191780",
          "2017-02-17T00:46:21.369862",
          "2017-02-18T00:47:20.547945",
          "2017-02-19T00:48:19.726027",
          "2017-02-20T00:49:18.904109",
          "2017-02-21T00:50:18.082191",
          "2017-02-22T00:51:17.260273",
          "2017-02-23T00:52:16.438356",
          "2017-02-24T00:53:15.616438",
          "2017-02-25T00:54:14.794520",
          "2017-02-26T00:55:13.972602",
          "2017-02-27T00:56:13.150684",
          "2017-02-28T00:57:12.328767",
          "2017-03-01T00:58:11.506849",
          "2017-03-02T00:59:10.684931",
          "2017-03-03T01:00:09.863013",
          "2017-03-04T01:01:09.041095",
          "2017-03-05T01:02:08.219177",
          "2017-03-06T01:03:07.397260",
          "2017-03-07T01:04:06.575342",
          "2017-03-08T01:05:05.753424",
          "2017-03-09T01:06:04.931506",
          "2017-03-10T01:07:04.109588",
          "2017-03-11T01:08:03.287671",
          "2017-03-12T01:09:02.465753",
          "2017-03-13T01:10:01.643835",
          "2017-03-14T01:11:00.821917",
          "2017-03-15T01:12:00",
          "2017-03-16T01:12:59.178082",
          "2017-03-17T01:13:58.356164",
          "2017-03-18T01:14:57.534246",
          "2017-03-19T01:15:56.712328",
          "2017-03-20T01:16:55.890411",
          "2017-03-21T01:17:55.068493",
          "2017-03-22T01:18:54.246575",
          "2017-03-23T01:19:53.424657",
          "2017-03-24T01:20:52.602739",
          "2017-03-25T01:21:51.780822",
          "2017-03-26T01:22:50.958904",
          "2017-03-27T01:23:50.136986",
          "2017-03-28T01:24:49.315068",
          "2017-03-29T01:25:48.493150",
          "2017-03-30T01:26:47.671232",
          "2017-03-31T01:27:46.849315",
          "2017-04-01T01:28:46.027397",
          "2017-04-02T01:29:45.205479",
          "2017-04-03T01:30:44.383561",
          "2017-04-04T01:31:43.561643",
          "2017-04-05T01:32:42.739726",
          "2017-04-06T01:33:41.917808",
          "2017-04-07T01:34:41.095890",
          "2017-04-08T01:35:40.273972",
          "2017-04-09T01:36:39.452054",
          "2017-04-10T01:37:38.630137",
          "2017-04-11T01:38:37.808219",
          "2017-04-12T01:39:36.986301",
          "2017-04-13T01:40:36.164383",
          "2017-04-14T01:41:35.342465",
          "2017-04-15T01:42:34.520547",
          "2017-04-16T01:43:33.698630",
          "2017-04-17T01:44:32.876712",
          "2017-04-18T01:45:32.054794",
          "2017-04-19T01:46:31.232876",
          "2017-04-20T01:47:30.410958",
          "2017-04-21T01:48:29.589041",
          "2017-04-22T01:49:28.767123",
          "2017-04-23T01:50:27.945205",
          "2017-04-24T01:51:27.123287",
          "2017-04-25T01:52:26.301369",
          "2017-04-26T01:53:25.479452",
          "2017-04-27T01:54:24.657534",
          "2017-04-28T01:55:23.835616",
          "2017-04-29T01:56:23.013698",
          "2017-04-30T01:57:22.191780",
          "2017-05-01T01:58:21.369862",
          "2017-05-02T01:59:20.547945",
          "2017-05-03T02:00:19.726027",
          "2017-05-04T02:01:18.904109",
          "2017-05-05T02:02:18.082191",
          "2017-05-06T02:03:17.260273",
          "2017-05-07T02:04:16.438356",
          "2017-05-08T02:05:15.616438",
          "2017-05-09T02:06:14.794520",
          "2017-05-10T02:07:13.972602",
          "2017-05-11T02:08:13.150684",
          "2017-05-12T02:09:12.328767",
          "2017-05-13T02:10:11.506849",
          "2017-05-14T02:11:10.684931",
          "2017-05-15T02:12:09.863013",
          "2017-05-16T02:13:09.041095",
          "2017-05-17T02:14:08.219177",
          "2017-05-18T02:15:07.397260",
          "2017-05-19T02:16:06.575342",
          "2017-05-20T02:17:05.753424",
          "2017-05-21T02:18:04.931506",
          "2017-05-22T02:19:04.109588",
          "2017-05-23T02:20:03.287671",
          "2017-05-24T02:21:02.465753",
          "2017-05-25T02:22:01.643835",
          "2017-05-26T02:23:00.821917",
          "2017-05-27T02:24:00",
          "2017-05-28T02:24:59.178082",
          "2017-05-29T02:25:58.356164",
          "2017-05-30T02:26:57.534246",
          "2017-05-31T02:27:56.712328",
          "2017-06-01T02:28:55.890411",
          "2017-06-02T02:29:55.068493",
          "2017-06-03T02:30:54.246575",
          "2017-06-04T02:31:53.424657",
          "2017-06-05T02:32:52.602739",
          "2017-06-06T02:33:51.780822",
          "2017-06-07T02:34:50.958904",
          "2017-06-08T02:35:50.136986",
          "2017-06-09T02:36:49.315068",
          "2017-06-10T02:37:48.493150",
          "2017-06-11T02:38:47.671232",
          "2017-06-12T02:39:46.849315",
          "2017-06-13T02:40:46.027397",
          "2017-06-14T02:41:45.205479",
          "2017-06-15T02:42:44.383561",
          "2017-06-16T02:43:43.561643",
          "2017-06-17T02:44:42.739726",
          "2017-06-18T02:45:41.917808",
          "2017-06-19T02:46:41.095890",
          "2017-06-20T02:47:40.273972",
          "2017-06-21T02:48:39.452054",
          "2017-06-22T02:49:38.630137",
          "2017-06-23T02:50:37.808219",
          "2017-06-24T02:51:36.986301",
          "2017-06-25T02:52:36.164383",
          "2017-06-26T02:53:35.342465",
          "2017-06-27T02:54:34.520547",
          "2017-06-28T02:55:33.698630",
          "2017-06-29T02:56:32.876712",
          "2017-06-30T02:57:32.054794",
          "2017-07-01T02:58:31.232876",
          "2017-07-02T02:59:30.410958",
          "2017-07-03T03:00:29.589041",
          "2017-07-04T03:01:28.767123",
          "2017-07-05T03:02:27.945205",
          "2017-07-06T03:03:27.123287",
          "2017-07-07T03:04:26.301369",
          "2017-07-08T03:05:25.479452",
          "2017-07-09T03:06:24.657534",
          "2017-07-10T03:07:23.835616",
          "2017-07-11T03:08:23.013698",
          "2017-07-12T03:09:22.191780",
          "2017-07-13T03:10:21.369862",
          "2017-07-14T03:11:20.547945",
          "2017-07-15T03:12:19.726027",
          "2017-07-16T03:13:18.904109",
          "2017-07-17T03:14:18.082191",
          "2017-07-18T03:15:17.260273",
          "2017-07-19T03:16:16.438356",
          "2017-07-20T03:17:15.616438",
          "2017-07-21T03:18:14.794520",
          "2017-07-22T03:19:13.972602",
          "2017-07-23T03:20:13.150684",
          "2017-07-24T03:21:12.328767",
          "2017-07-25T03:22:11.506849",
          "2017-07-26T03:23:10.684931",
          "2017-07-27T03:24:09.863013",
          "2017-07-28T03:25:09.041095",
          "2017-07-29T03:26:08.219177",
          "2017-07-30T03:27:07.397260",
          "2017-07-31T03:28:06.575342",
          "2017-08-01T03:29:05.753424",
          "2017-08-02T03:30:04.931506",
          "2017-08-03T03:31:04.109588",
          "2017-08-04T03:32:03.287671",
          "2017-08-05T03:33:02.465753",
          "2017-08-06T03:34:01.643835",
          "2017-08-07T03:35:00.821917",
          "2017-08-08T03:36:00",
          "2017-08-09T03:36:59.178082",
          "2017-08-10T03:37:58.356164",
          "2017-08-11T03:38:57.534246",
          "2017-08-12T03:39:56.712328",
          "2017-08-13T03:40:55.890411",
          "2017-08-14T03:41:55.068493",
          "2017-08-15T03:42:54.246575",
          "2017-08-16T03:43:53.424657",
          "2017-08-17T03:44:52.602739",
          "2017-08-18T03:45:51.780822",
          "2017-08-19T03:46:50.958904",
          "2017-08-20T03:47:50.136986",
          "2017-08-21T03:48:49.315068",
          "2017-08-22T03:49:48.493150",
          "2017-08-23T03:50:47.671232",
          "2017-08-24T03:51:46.849315",
          "2017-08-25T03:52:46.027397",
          "2017-08-26T03:53:45.205479",
          "2017-08-27T03:54:44.383561",
          "2017-08-28T03:55:43.561643",
          "2017-08-29T03:56:42.739726",
          "2017-08-30T03:57:41.917808",
          "2017-08-31T03:58:41.095890",
          "2017-09-01T03:59:40.273972",
          "2017-09-02T04:00:39.452054",
          "2017-09-03T04:01:38.630137",
          "2017-09-04T04:02:37.808219",
          "2017-09-05T04:03:36.986301",
          "2017-09-06T04:04:36.164383",
          "2017-09-07T04:05:35.342465",
          "2017-09-08T04:06:34.520547",
          "2017-09-09T04:07:33.698630",
          "2017-09-10T04:08:32.876712",
          "2017-09-11T04:09:32.054794",
          "2017-09-12T04:10:31.232876",
          "2017-09-13T04:11:30.410958",
          "2017-09-14T04:12:29.589041",
          "2017-09-15T04:13:28.767123",
          "2017-09-16T04:14:27.945205",
          "2017-09-17T04:15:27.123287",
          "2017-09-18T04:16:26.301369",
          "2017-09-19T04:17:25.479452",
          "2017-09-20T04:18:24.657534",
          "2017-09-21T04:19:23.835616",
          "2017-09-22T04:20:23.013698",
          "2017-09-23T04:21:22.191780",
          "2017-09-24T04:22:21.369862",
          "2017-09-25T04:23:20.547945",
          "2017-09-26T04:24:19.726027",
          "2017-09-27T04:25:18.904109",
          "2017-09-28T04:26:18.082191",
          "2017-09-29T04:27:17.260273",
          "2017-09-30T04:28:16.438356",
          "2017-10-01T04:29:15.616438",
          "2017-10-02T04:30:14.794520",
          "2017-10-03T04:31:13.972602",
          "2017-10-04T04:32:13.150684",
          "2017-10-05T04:33:12.328767",
          "2017-10-06T04:34:11.506849",
          "2017-10-07T04:35:10.684931",
          "2017-10-08T04:36:09.863013",
          "2017-10-09T04:37:09.041095",
          "2017-10-10T04:38:08.219177",
          "2017-10-11T04:39:07.397260",
          "2017-10-12T04:40:06.575342",
          "2017-10-13T04:41:05.753424",
          "2017-10-14T04:42:04.931506",
          "2017-10-15T04:43:04.109588",
          "2017-10-16T04:44:03.287671",
          "2017-10-17T04:45:02.465753",
          "2017-10-18T04:46:01.643835",
          "2017-10-19T04:47:00.821917",
          "2017-10-20T04:48:00",
          "2017-10-21T04:48:59.178082",
          "2017-10-22T04:49:58.356164",
          "2017-10-23T04:50:57.534246",
          "2017-10-24T04:51:56.712328",
          "2017-10-25T04:52:55.890411",
          "2017-10-26T04:53:55.068493",
          "2017-10-27T04:54:54.246575",
          "2017-10-28T04:55:53.424657",
          "2017-10-29T04:56:52.602739",
          "2017-10-30T04:57:51.780822",
          "2017-10-31T04:58:50.958904",
          "2017-11-01T04:59:50.136986",
          "2017-11-02T05:00:49.315068",
          "2017-11-03T05:01:48.493150",
          "2017-11-04T05:02:47.671232",
          "2017-11-05T05:03:46.849315",
          "2017-11-06T05:04:46.027397",
          "2017-11-07T05:05:45.205479",
          "2017-11-08T05:06:44.383561",
          "2017-11-09T05:07:43.561643",
          "2017-11-10T05:08:42.739726",
          "2017-11-11T05:09:41.917808",
          "2017-11-12T05:10:41.095890",
          "2017-11-13T05:11:40.273972",
          "2017-11-14T05:12:39.452054",
          "2017-11-15T05:13:38.630137",
          "2017-11-16T05:14:37.808219",
          "2017-11-17T05:15:36.986301",
          "2017-11-18T05:16:36.164383",
          "2017-11-19T05:17:35.342465",
          "2017-11-20T05:18:34.520547",
          "2017-11-21T05:19:33.698630",
          "2017-11-22T05:20:32.876712",
          "2017-11-23T05:21:32.054794",
          "2017-11-24T05:22:31.232876",
          "2017-11-25T05:23:30.410958",
          "2017-11-26T05:24:29.589041",
          "2017-11-27T05:25:28.767123",
          "2017-11-28T05:26:27.945205",
          "2017-11-29T05:27:27.123287",
          "2017-11-30T05:28:26.301369",
          "2017-12-01T05:29:25.479452",
          "2017-12-02T05:30:24.657534",
          "2017-12-03T05:31:23.835616",
          "2017-12-04T05:32:23.013698",
          "2017-12-05T05:33:22.191780",
          "2017-12-06T05:34:21.369862",
          "2017-12-07T05:35:20.547945",
          "2017-12-08T05:36:19.726027",
          "2017-12-09T05:37:18.904109",
          "2017-12-10T05:38:18.082191",
          "2017-12-11T05:39:17.260273",
          "2017-12-12T05:40:16.438356",
          "2017-12-13T05:41:15.616438",
          "2017-12-14T05:42:14.794520",
          "2017-12-15T05:43:13.972602",
          "2017-12-16T05:44:13.150684",
          "2017-12-17T05:45:12.328767",
          "2017-12-18T05:46:11.506849",
          "2017-12-19T05:47:10.684931",
          "2017-12-20T05:48:09.863013",
          "2017-12-21T05:49:09.041095",
          "2017-12-22T05:50:08.219177",
          "2017-12-23T05:51:07.397260",
          "2017-12-24T05:52:06.575342",
          "2017-12-25T05:53:05.753424",
          "2017-12-26T05:54:04.931506",
          "2017-12-27T05:55:04.109588",
          "2017-12-28T05:56:03.287671",
          "2017-12-29T05:57:02.465753",
          "2017-12-30T05:58:01.643835",
          "2017-12-31T05:59:00.821917"
         ],
         "xaxis": "x2",
         "y": [
          18.24797027204259,
          264.6802610716095,
          507.80834604341595,
          742.5603111639059,
          964.0716604569734,
          1167.8135440962274,
          1349.7116449698462,
          1506.2523903935182,
          1634.5735200251308,
          1732.5364908443917,
          1798.778721946899,
          1832.7442608340289,
          1834.692071945227,
          1805.6817893337422,
          1747.5374200408683,
          1662.7901141132345,
          1554.601713096756,
          1426.6713339401592,
          1283.1277238204639,
          1128.410519667586,
          967.143852627556,
          804.0059437514453,
          643.5984369141241,
          490.319205755997,
          348.2422538636807,
          221.00810504943797,
          111.72776029906281,
          22.90288929363208,
          -43.63556043906459,
          -86.76870035043437,
          -106.10993959716899,
          -102.00370206745178,
          -75.50282852622838,
          -28.325492531136412,
          37.206946197970076,
          118.24917640377396,
          211.52579272510457,
          313.43689457767783,
          420.1722153977951,
          527.8303373944468,
          632.5394156055745,
          730.5758098679356,
          818.4771044884236,
          893.1461804043934,
          951.943287577401,
          992.7634375955843,
          1014.0968868019273,
          1015.0709950083061,
          995.4723087082357,
          955.7483137126746,
          896.9889126040762,
          820.888289149603,
          729.6884068323369,
          626.1059346706348,
          513.244884309365,
          394.4976635654917,
          273.43759088698084,
          153.70616247268688,
          38.898512168984354,
          -67.54945069439138,
          -162.46879964676873,
          -243.05698134807938,
          -306.965832615235,
          -352.37556745768103,
          -378.0525047853195,
          -383.3888008312425,
          -368.4229949091956,
          -333.8407565510429,
          -280.9558190013191,
          -211.6716806355633,
          -128.42523430957218,
          -34.114027685106464,
          67.99065094735431,
          174.34224156362515,
          281.22596974820055,
          384.87126887396977,
          481.56618281849853,
          567.7703056318924,
          640.2228584249838,
          696.0426492674172,
          732.816904718121,
          748.676294446698,
          742.3538832056764,
          713.2262248761176,
          661.3353470190177,
          587.3909453797528,
          492.75269908004293,
          379.39321110297266,
          249.8426574668847,
          107.11677486567106,
          -45.369685668926444,
          -203.90147728651587,
          -364.5704283573348,
          -523.3888755954447,
          -676.4055931730285,
          -819.8207764125201,
          -950.0966658896092,
          -1064.060526769118,
          -1158.996925056845,
          -1232.7265604085537,
          -1283.6693147465892,
          -1310.8896451945348,
          -1314.1229748659366,
          -1293.7823001121565,
          -1250.944821137936,
          -1187.3189969129694,
          -1105.1930073412373,
          -1007.3661583497217,
          -897.0652724954903,
          -777.8485537489507,
          -653.4997869933303,
          -527.9160194730654,
          -404.9920643226202,
          -288.50525972719595,
          -182.0039083884066,
          -88.70271112379052,
          -11.388298815937267,
          47.66233506173444,
          86.74808461159812,
          104.79270508394609,
          101.37506632902443,
          76.73980135437591,
          31.78805025022825,
          -31.951406333633464,
          -112.36974488807613,
          -206.84298984100616,
          -312.31224350500474,
          -425.37684368157204,
          -542.3976518917763,
          -659.6073731142192,
          -773.2245984038822,
          -879.5681509793493,
          -975.1683078008516,
          -1056.871562385599,
          -1121.9357880780292,
          -1168.1129483354628,
          -1193.7168732634154,
          -1197.674068656703,
          -1179.5560317449585,
          -1139.5921016495497,
          -1078.6624556847307,
          -998.2714577238112,
          -900.5021540857259,
          -787.9532782519866,
          -663.6606512255396,
          -531.0053337929921,
          -393.6112863025601,
          -255.23560881127165,
          -119.65466002919867,
          9.450519377250272,
          128.60602879952089,
          234.6508032026828,
          324.83298972843636,
          396.89408822313277,
          449.1383013441732,
          480.4849797142044,
          490.50255126664655,
          479.42287657860646,
          448.1355571898287,
          398.1623242192069,
          331.6122321586813,
          251.11895970018847,
          159.7620585964904,
          60.97447676598619,
          -41.560901524302615,
          -144.02261990632752,
          -242.56659576558604,
          -333.4431790931666,
          -413.1118132044313,
          -478.3498483252004,
          -526.3522241191698,
          -554.8190007231733,
          -562.0280719327396,
          -546.8908286323359,
          -508.9890426062284,
          -448.5917956865785,
          -366.6518704984053,
          -264.78162928286434,
          -145.20901840690084,
          -10.714930025901962,
          135.4462887115175,
          289.64088114167413,
          447.9615429041835,
          606.3420010723861,
          760.6769417938056,
          906.943746875333,
          1041.3224333199155,
          1160.3102299946838,
          1260.8273713677575,
          1340.3109356079894,
          1396.793896229498,
          1428.9669829406585,
          1436.2214461633564,
          1418.6713761381754,
          1377.1548254509344,
          1313.2136056251181,
          1229.0522558591326,
          1127.477296578678,
          1011.8184641128219,
          885.8341581837724,
          753.603805245378,
          619.4102339063272,
          487.61546211981204,
          362.5335002727067,
          248.30387365504131,
          148.76955882858346,
          67.36291121619111,
          7.002939015147965,
          -29.993042417628853,
          -41.98075198041275,
          -28.041144396558177,
          11.988112150509936,
          77.50286740622956,
          167.14478554712528,
          278.8354222519643,
          409.8311642321509,
          556.7975051605436,
          715.9005674101031,
          882.9132744367643,
          1053.3331488702395,
          1222.5083690084207,
          1385.7684715813305,
          1538.555948565032,
          1676.5549547058458,
          1795.8134212512452,
          1892.8550579654354,
          1964.7780144561723,
          2009.3373548277038,
          2025.0089655514416,
          2011.0330516779081,
          1967.4359655437777,
          1895.0297377631882,
          1795.3893243472958,
          1670.8082274598216,
          1524.2337718633328,
          1359.1839063145626,
          1179.6479319220534,
          989.9740222892199,
          794.7467796155926,
          598.6583558536689,
          406.37685019647563,
          222.4157683788455,
          51.00829342750721,
          -104.01002731913532,
          -239.3068235572049,
          -352.14366303606283,
          -440.4494573859058,
          -502.8744458977176,
          -538.8232579125994,
          -548.4661646690115,
          -532.728266540499,
          -493.2570029664577,
          -432.3690012554479,
          -352.9778784796789,
          -258.50516041919695,
          -152.77696694657521,
          -39.90952025536187,
          75.8131508549172,
          190.06571994749183,
          298.6085825459142,
          397.41168044212344,
          482.7715300023068,
          551.4180642566973,
          600.6082078827585,
          628.2035031309636,
          632.7295813825045,
          613.4158151845634,
          570.2140733065094,
          503.7961191772532,
          415.52982277935973,
          307.4349790750776,
          182.12012405463386,
          42.70229484590474,
          -107.2878232115464,
          -264.01249657258234,
          -423.44208742589126,
          -581.4752967084457,
          -734.0609222071896,
          -877.3175150848097,
          -1007.6473925844979,
          -1121.841643987312,
          -1217.1730454077904,
          -1291.4741683343782,
          -1343.1984159338926,
          -1371.46223638055,
          -1376.067328636286,
          -1357.502256130567,
          -1316.9234999148978,
          -1256.1165966596673,
          -1177.4386001517146,
          -1083.7436600649,
          -978.2940122734916,
          -864.6591060657307,
          -746.6059424505197,
          -627.9839541682433,
          -512.6079143716091,
          -404.14241277961065,
          -305.991383865803,
          -221.19601320221926,
          -152.3440900943658,
          -101.49352501626419,
          -70.11231951452103,
          -59.036777154986105,
          -68.44919166954394,
          -97.8756592426502,
          -146.20405350661036,
          -211.72159245808152,
          -292.1708344089025,
          -384.8223829273197,
          -486.56207520265383,
          -593.9899894949427,
          -703.5282484513837,
          -811.5343268790892,
          -914.4164031259421,
          -1008.7472276085673,
          -1091.373022441045,
          -1159.5140712309694,
          -1210.8539038890567,
          -1243.6143203839533,
          -1256.6139197891857,
          -1249.3082942205406,
          -1221.8105966891012,
          -1174.8917811979543,
          -1109.9604250700027,
          -1029.0226592892793,
          -934.6233342318234,
          -829.7701175652841,
          -717.8427413467039,
          -602.4900707708823,
          -487.51804399313164,
          -376.77181958247564,
          -274.0156566668236,
          -182.81413696481437,
          -106.41831483879763,
          -47.66025174634664,
          -8.859158551721098,
          8.257960242410421,
          2.6186826597986457,
          -26.15142060777536,
          -77.70577669363531,
          -150.97504009547652,
          -244.18677654399085,
          -354.90618476628737,
          -480.09681798267377,
          -616.1996735521017,
          -759.2284716615177,
          -904.8784584406974,
          -1048.6456599149103,
          -1185.9531928347776,
          -1312.2810163793454,
          -1423.295391637429,
          -1514.974307335038,
          -1583.7252309912528,
          -1626.4917517589151,
          -1640.8459888620896,
          -1625.0640389283908,
          -1578.1822151519293,
          -1500.0323772504967,
          -1391.255247774956,
          -1253.2912401614649,
          -1088.3489687412825,
          -899.3522518771682,
          -689.8670379760027,
          -464.0102621455676,
          -226.3431620481281
         ],
         "yaxis": "y2"
        }
       ],
       "layout": {
        "height": 400,
        "showlegend": false,
        "template": {
         "data": {
          "bar": [
           {
            "error_x": {
             "color": "#2a3f5f"
            },
            "error_y": {
             "color": "#2a3f5f"
            },
            "marker": {
             "line": {
              "color": "#E5ECF6",
              "width": 0.5
             }
            },
            "type": "bar"
           }
          ],
          "barpolar": [
           {
            "marker": {
             "line": {
              "color": "#E5ECF6",
              "width": 0.5
             }
            },
            "type": "barpolar"
           }
          ],
          "carpet": [
           {
            "aaxis": {
             "endlinecolor": "#2a3f5f",
             "gridcolor": "white",
             "linecolor": "white",
             "minorgridcolor": "white",
             "startlinecolor": "#2a3f5f"
            },
            "baxis": {
             "endlinecolor": "#2a3f5f",
             "gridcolor": "white",
             "linecolor": "white",
             "minorgridcolor": "white",
             "startlinecolor": "#2a3f5f"
            },
            "type": "carpet"
           }
          ],
          "choropleth": [
           {
            "colorbar": {
             "outlinewidth": 0,
             "ticks": ""
            },
            "type": "choropleth"
           }
          ],
          "contour": [
           {
            "colorbar": {
             "outlinewidth": 0,
             "ticks": ""
            },
            "colorscale": [
             [
              0,
              "#0d0887"
             ],
             [
              0.1111111111111111,
              "#46039f"
             ],
             [
              0.2222222222222222,
              "#7201a8"
             ],
             [
              0.3333333333333333,
              "#9c179e"
             ],
             [
              0.4444444444444444,
              "#bd3786"
             ],
             [
              0.5555555555555556,
              "#d8576b"
             ],
             [
              0.6666666666666666,
              "#ed7953"
             ],
             [
              0.7777777777777778,
              "#fb9f3a"
             ],
             [
              0.8888888888888888,
              "#fdca26"
             ],
             [
              1,
              "#f0f921"
             ]
            ],
            "type": "contour"
           }
          ],
          "contourcarpet": [
           {
            "colorbar": {
             "outlinewidth": 0,
             "ticks": ""
            },
            "type": "contourcarpet"
           }
          ],
          "heatmap": [
           {
            "colorbar": {
             "outlinewidth": 0,
             "ticks": ""
            },
            "colorscale": [
             [
              0,
              "#0d0887"
             ],
             [
              0.1111111111111111,
              "#46039f"
             ],
             [
              0.2222222222222222,
              "#7201a8"
             ],
             [
              0.3333333333333333,
              "#9c179e"
             ],
             [
              0.4444444444444444,
              "#bd3786"
             ],
             [
              0.5555555555555556,
              "#d8576b"
             ],
             [
              0.6666666666666666,
              "#ed7953"
             ],
             [
              0.7777777777777778,
              "#fb9f3a"
             ],
             [
              0.8888888888888888,
              "#fdca26"
             ],
             [
              1,
              "#f0f921"
             ]
            ],
            "type": "heatmap"
           }
          ],
          "heatmapgl": [
           {
            "colorbar": {
             "outlinewidth": 0,
             "ticks": ""
            },
            "colorscale": [
             [
              0,
              "#0d0887"
             ],
             [
              0.1111111111111111,
              "#46039f"
             ],
             [
              0.2222222222222222,
              "#7201a8"
             ],
             [
              0.3333333333333333,
              "#9c179e"
             ],
             [
              0.4444444444444444,
              "#bd3786"
             ],
             [
              0.5555555555555556,
              "#d8576b"
             ],
             [
              0.6666666666666666,
              "#ed7953"
             ],
             [
              0.7777777777777778,
              "#fb9f3a"
             ],
             [
              0.8888888888888888,
              "#fdca26"
             ],
             [
              1,
              "#f0f921"
             ]
            ],
            "type": "heatmapgl"
           }
          ],
          "histogram": [
           {
            "marker": {
             "colorbar": {
              "outlinewidth": 0,
              "ticks": ""
             }
            },
            "type": "histogram"
           }
          ],
          "histogram2d": [
           {
            "colorbar": {
             "outlinewidth": 0,
             "ticks": ""
            },
            "colorscale": [
             [
              0,
              "#0d0887"
             ],
             [
              0.1111111111111111,
              "#46039f"
             ],
             [
              0.2222222222222222,
              "#7201a8"
             ],
             [
              0.3333333333333333,
              "#9c179e"
             ],
             [
              0.4444444444444444,
              "#bd3786"
             ],
             [
              0.5555555555555556,
              "#d8576b"
             ],
             [
              0.6666666666666666,
              "#ed7953"
             ],
             [
              0.7777777777777778,
              "#fb9f3a"
             ],
             [
              0.8888888888888888,
              "#fdca26"
             ],
             [
              1,
              "#f0f921"
             ]
            ],
            "type": "histogram2d"
           }
          ],
          "histogram2dcontour": [
           {
            "colorbar": {
             "outlinewidth": 0,
             "ticks": ""
            },
            "colorscale": [
             [
              0,
              "#0d0887"
             ],
             [
              0.1111111111111111,
              "#46039f"
             ],
             [
              0.2222222222222222,
              "#7201a8"
             ],
             [
              0.3333333333333333,
              "#9c179e"
             ],
             [
              0.4444444444444444,
              "#bd3786"
             ],
             [
              0.5555555555555556,
              "#d8576b"
             ],
             [
              0.6666666666666666,
              "#ed7953"
             ],
             [
              0.7777777777777778,
              "#fb9f3a"
             ],
             [
              0.8888888888888888,
              "#fdca26"
             ],
             [
              1,
              "#f0f921"
             ]
            ],
            "type": "histogram2dcontour"
           }
          ],
          "mesh3d": [
           {
            "colorbar": {
             "outlinewidth": 0,
             "ticks": ""
            },
            "type": "mesh3d"
           }
          ],
          "parcoords": [
           {
            "line": {
             "colorbar": {
              "outlinewidth": 0,
              "ticks": ""
             }
            },
            "type": "parcoords"
           }
          ],
          "pie": [
           {
            "automargin": true,
            "type": "pie"
           }
          ],
          "scatter": [
           {
            "marker": {
             "colorbar": {
              "outlinewidth": 0,
              "ticks": ""
             }
            },
            "type": "scatter"
           }
          ],
          "scatter3d": [
           {
            "line": {
             "colorbar": {
              "outlinewidth": 0,
              "ticks": ""
             }
            },
            "marker": {
             "colorbar": {
              "outlinewidth": 0,
              "ticks": ""
             }
            },
            "type": "scatter3d"
           }
          ],
          "scattercarpet": [
           {
            "marker": {
             "colorbar": {
              "outlinewidth": 0,
              "ticks": ""
             }
            },
            "type": "scattercarpet"
           }
          ],
          "scattergeo": [
           {
            "marker": {
             "colorbar": {
              "outlinewidth": 0,
              "ticks": ""
             }
            },
            "type": "scattergeo"
           }
          ],
          "scattergl": [
           {
            "marker": {
             "colorbar": {
              "outlinewidth": 0,
              "ticks": ""
             }
            },
            "type": "scattergl"
           }
          ],
          "scattermapbox": [
           {
            "marker": {
             "colorbar": {
              "outlinewidth": 0,
              "ticks": ""
             }
            },
            "type": "scattermapbox"
           }
          ],
          "scatterpolar": [
           {
            "marker": {
             "colorbar": {
              "outlinewidth": 0,
              "ticks": ""
             }
            },
            "type": "scatterpolar"
           }
          ],
          "scatterpolargl": [
           {
            "marker": {
             "colorbar": {
              "outlinewidth": 0,
              "ticks": ""
             }
            },
            "type": "scatterpolargl"
           }
          ],
          "scatterternary": [
           {
            "marker": {
             "colorbar": {
              "outlinewidth": 0,
              "ticks": ""
             }
            },
            "type": "scatterternary"
           }
          ],
          "surface": [
           {
            "colorbar": {
             "outlinewidth": 0,
             "ticks": ""
            },
            "colorscale": [
             [
              0,
              "#0d0887"
             ],
             [
              0.1111111111111111,
              "#46039f"
             ],
             [
              0.2222222222222222,
              "#7201a8"
             ],
             [
              0.3333333333333333,
              "#9c179e"
             ],
             [
              0.4444444444444444,
              "#bd3786"
             ],
             [
              0.5555555555555556,
              "#d8576b"
             ],
             [
              0.6666666666666666,
              "#ed7953"
             ],
             [
              0.7777777777777778,
              "#fb9f3a"
             ],
             [
              0.8888888888888888,
              "#fdca26"
             ],
             [
              1,
              "#f0f921"
             ]
            ],
            "type": "surface"
           }
          ],
          "table": [
           {
            "cells": {
             "fill": {
              "color": "#EBF0F8"
             },
             "line": {
              "color": "white"
             }
            },
            "header": {
             "fill": {
              "color": "#C8D4E3"
             },
             "line": {
              "color": "white"
             }
            },
            "type": "table"
           }
          ]
         },
         "layout": {
          "annotationdefaults": {
           "arrowcolor": "#2a3f5f",
           "arrowhead": 0,
           "arrowwidth": 1
          },
          "coloraxis": {
           "colorbar": {
            "outlinewidth": 0,
            "ticks": ""
           }
          },
          "colorscale": {
           "diverging": [
            [
             0,
             "#8e0152"
            ],
            [
             0.1,
             "#c51b7d"
            ],
            [
             0.2,
             "#de77ae"
            ],
            [
             0.3,
             "#f1b6da"
            ],
            [
             0.4,
             "#fde0ef"
            ],
            [
             0.5,
             "#f7f7f7"
            ],
            [
             0.6,
             "#e6f5d0"
            ],
            [
             0.7,
             "#b8e186"
            ],
            [
             0.8,
             "#7fbc41"
            ],
            [
             0.9,
             "#4d9221"
            ],
            [
             1,
             "#276419"
            ]
           ],
           "sequential": [
            [
             0,
             "#0d0887"
            ],
            [
             0.1111111111111111,
             "#46039f"
            ],
            [
             0.2222222222222222,
             "#7201a8"
            ],
            [
             0.3333333333333333,
             "#9c179e"
            ],
            [
             0.4444444444444444,
             "#bd3786"
            ],
            [
             0.5555555555555556,
             "#d8576b"
            ],
            [
             0.6666666666666666,
             "#ed7953"
            ],
            [
             0.7777777777777778,
             "#fb9f3a"
            ],
            [
             0.8888888888888888,
             "#fdca26"
            ],
            [
             1,
             "#f0f921"
            ]
           ],
           "sequentialminus": [
            [
             0,
             "#0d0887"
            ],
            [
             0.1111111111111111,
             "#46039f"
            ],
            [
             0.2222222222222222,
             "#7201a8"
            ],
            [
             0.3333333333333333,
             "#9c179e"
            ],
            [
             0.4444444444444444,
             "#bd3786"
            ],
            [
             0.5555555555555556,
             "#d8576b"
            ],
            [
             0.6666666666666666,
             "#ed7953"
            ],
            [
             0.7777777777777778,
             "#fb9f3a"
            ],
            [
             0.8888888888888888,
             "#fdca26"
            ],
            [
             1,
             "#f0f921"
            ]
           ]
          },
          "colorway": [
           "#636efa",
           "#EF553B",
           "#00cc96",
           "#ab63fa",
           "#FFA15A",
           "#19d3f3",
           "#FF6692",
           "#B6E880",
           "#FF97FF",
           "#FECB52"
          ],
          "font": {
           "color": "#2a3f5f"
          },
          "geo": {
           "bgcolor": "white",
           "lakecolor": "white",
           "landcolor": "#E5ECF6",
           "showlakes": true,
           "showland": true,
           "subunitcolor": "white"
          },
          "hoverlabel": {
           "align": "left"
          },
          "hovermode": "closest",
          "mapbox": {
           "style": "light"
          },
          "paper_bgcolor": "white",
          "plot_bgcolor": "#E5ECF6",
          "polar": {
           "angularaxis": {
            "gridcolor": "white",
            "linecolor": "white",
            "ticks": ""
           },
           "bgcolor": "#E5ECF6",
           "radialaxis": {
            "gridcolor": "white",
            "linecolor": "white",
            "ticks": ""
           }
          },
          "scene": {
           "xaxis": {
            "backgroundcolor": "#E5ECF6",
            "gridcolor": "white",
            "gridwidth": 2,
            "linecolor": "white",
            "showbackground": true,
            "ticks": "",
            "zerolinecolor": "white"
           },
           "yaxis": {
            "backgroundcolor": "#E5ECF6",
            "gridcolor": "white",
            "gridwidth": 2,
            "linecolor": "white",
            "showbackground": true,
            "ticks": "",
            "zerolinecolor": "white"
           },
           "zaxis": {
            "backgroundcolor": "#E5ECF6",
            "gridcolor": "white",
            "gridwidth": 2,
            "linecolor": "white",
            "showbackground": true,
            "ticks": "",
            "zerolinecolor": "white"
           }
          },
          "shapedefaults": {
           "line": {
            "color": "#2a3f5f"
           }
          },
          "ternary": {
           "aaxis": {
            "gridcolor": "white",
            "linecolor": "white",
            "ticks": ""
           },
           "baxis": {
            "gridcolor": "white",
            "linecolor": "white",
            "ticks": ""
           },
           "bgcolor": "#E5ECF6",
           "caxis": {
            "gridcolor": "white",
            "linecolor": "white",
            "ticks": ""
           }
          },
          "title": {
           "x": 0.05
          },
          "xaxis": {
           "automargin": true,
           "gridcolor": "white",
           "linecolor": "white",
           "ticks": "",
           "title": {
            "standoff": 15
           },
           "zerolinecolor": "white",
           "zerolinewidth": 2
          },
          "yaxis": {
           "automargin": true,
           "gridcolor": "white",
           "linecolor": "white",
           "ticks": "",
           "title": {
            "standoff": 15
           },
           "zerolinecolor": "white",
           "zerolinewidth": 2
          }
         }
        },
        "width": 900,
        "xaxis": {
         "anchor": "y",
         "domain": [
          0,
          1
         ],
         "range": [
          "2012-07-22T04:48:00",
          "2022-05-12T19:12:00"
         ],
         "type": "date"
        },
        "xaxis2": {
         "anchor": "y2",
         "domain": [
          0,
          1
         ],
         "range": [
          "2016-12-13T18:54:02.958904115",
          "2018-01-18T11:04:57.863013581"
         ],
         "tickformat": "%B %e",
         "type": "date"
        },
        "yaxis": {
         "anchor": "x",
         "domain": [
          0.575,
          1
         ],
         "rangemode": "normal",
         "title": {
          "text": "trend"
         },
         "zerolinecolor": "#AAA"
        },
        "yaxis2": {
         "anchor": "x2",
         "domain": [
          0,
          0.425
         ],
         "title": {
          "text": "yearly"
         },
         "zerolinecolor": "#AAA"
        }
       }
      },
      "text/html": [
       "<div>\n",
       "        \n",
       "        \n",
       "            <div id=\"ee47da5d-e568-4a48-a544-67b5d1dfc664\" class=\"plotly-graph-div\" style=\"height:400px; width:900px;\"></div>\n",
       "            <script type=\"text/javascript\">\n",
       "                require([\"plotly\"], function(Plotly) {\n",
       "                    window.PLOTLYENV=window.PLOTLYENV || {};\n",
       "                    \n",
       "                if (document.getElementById(\"ee47da5d-e568-4a48-a544-67b5d1dfc664\")) {\n",
       "                    Plotly.newPlot(\n",
       "                        'ee47da5d-e568-4a48-a544-67b5d1dfc664',\n",
       "                        [{\"line\": {\"color\": \"#0072B2\", \"width\": 2}, \"mode\": \"lines\", \"name\": \"trend\", \"type\": \"scatter\", \"x\": [\"2013-01-01T00:00:00\", \"2013-02-01T00:00:00\", \"2013-03-01T00:00:00\", \"2013-04-01T00:00:00\", \"2013-05-01T00:00:00\", \"2013-06-01T00:00:00\", \"2013-07-01T00:00:00\", \"2013-08-01T00:00:00\", \"2013-09-01T00:00:00\", \"2013-10-01T00:00:00\", \"2013-11-01T00:00:00\", \"2013-12-01T00:00:00\", \"2014-01-01T00:00:00\", \"2014-02-01T00:00:00\", \"2014-03-01T00:00:00\", \"2014-04-01T00:00:00\", \"2014-05-01T00:00:00\", \"2014-06-01T00:00:00\", \"2014-07-01T00:00:00\", \"2014-08-01T00:00:00\", \"2014-09-01T00:00:00\", \"2014-10-01T00:00:00\", \"2014-11-01T00:00:00\", \"2014-12-01T00:00:00\", \"2015-01-01T00:00:00\", \"2015-02-01T00:00:00\", \"2015-03-01T00:00:00\", \"2015-04-01T00:00:00\", \"2015-05-01T00:00:00\", \"2015-06-01T00:00:00\", \"2015-07-01T00:00:00\", \"2015-08-01T00:00:00\", \"2015-09-01T00:00:00\", \"2015-10-01T00:00:00\", \"2015-11-01T00:00:00\", \"2015-12-01T00:00:00\", \"2016-01-01T00:00:00\", \"2016-02-01T00:00:00\", \"2016-03-01T00:00:00\", \"2016-04-01T00:00:00\", \"2016-05-01T00:00:00\", \"2016-06-01T00:00:00\", \"2016-07-01T00:00:00\", \"2016-08-01T00:00:00\", \"2016-09-01T00:00:00\", \"2016-10-01T00:00:00\", \"2016-11-01T00:00:00\", \"2016-12-01T00:00:00\", \"2017-01-01T00:00:00\", \"2017-02-01T00:00:00\", \"2017-03-01T00:00:00\", \"2017-04-01T00:00:00\", \"2017-05-01T00:00:00\", \"2017-06-01T00:00:00\", \"2017-07-01T00:00:00\", \"2017-08-01T00:00:00\", \"2017-09-01T00:00:00\", \"2017-10-01T00:00:00\", \"2017-11-01T00:00:00\", \"2017-12-01T00:00:00\", \"2018-01-01T00:00:00\", \"2018-02-01T00:00:00\", \"2018-03-01T00:00:00\", \"2018-04-01T00:00:00\", \"2018-05-01T00:00:00\", \"2018-06-01T00:00:00\", \"2018-07-01T00:00:00\", \"2018-08-01T00:00:00\", \"2018-09-01T00:00:00\", \"2018-10-01T00:00:00\", \"2018-11-01T00:00:00\", \"2018-12-01T00:00:00\", \"2019-01-01T00:00:00\", \"2019-02-01T00:00:00\", \"2019-03-01T00:00:00\", \"2019-04-01T00:00:00\", \"2019-05-01T00:00:00\", \"2019-06-01T00:00:00\", \"2019-07-01T00:00:00\", \"2019-08-01T00:00:00\", \"2019-09-01T00:00:00\", \"2019-10-01T00:00:00\", \"2019-11-01T00:00:00\", \"2019-12-01T00:00:00\", \"2020-01-01T00:00:00\", \"2020-02-01T00:00:00\", \"2020-03-01T00:00:00\", \"2020-04-01T00:00:00\", \"2020-05-01T00:00:00\", \"2020-06-01T00:00:00\", \"2020-07-01T00:00:00\", \"2020-08-01T00:00:00\", \"2020-09-01T00:00:00\", \"2020-10-01T00:00:00\", \"2020-11-01T00:00:00\", \"2020-12-01T00:00:00\", \"2021-01-01T00:00:00\", \"2021-02-01T00:00:00\", \"2021-03-01T00:00:00\", \"2021-04-01T00:00:00\", \"2021-05-01T00:00:00\", \"2021-06-01T00:00:00\", \"2021-07-01T00:00:00\", \"2021-08-01T00:00:00\", \"2021-09-01T00:00:00\", \"2021-10-01T00:00:00\", \"2021-11-01T00:00:00\", \"2021-12-01T00:00:00\"], \"xaxis\": \"x\", \"y\": [202.97510261104304, 203.9618174838065, 204.85304382049605, 205.8397586929309, 206.79464405335173, 207.78135892860138, 208.73624429174617, 209.72295916699582, 210.709674052277, 211.66455942512974, 212.65127432210443, 213.60615970627347, 214.59287460404587, 215.57958950181833, 216.4708158569854, 217.45753075020613, 218.4124161307423, 219.39913100931628, 220.35401637567819, 221.34073125216898, 222.32744612865972, 223.28233147916146, 224.26904634134664, 225.2239316877696, 226.21064654574002, 227.19736140371043, 228.0885877247492, 229.075302580185, 230.0301879124659, 231.01690275582277, 231.97178808452537, 232.95850292418464, 233.945217782749, 234.9001031297468, 235.8868179883112, 236.84170332134883, 237.8284181654877, 238.81513300858242, 239.73818882954197, 240.7249036825413, 241.67978902415356, 242.66650386598033, 243.62138919678037, 244.60810403860714, 245.59481889388096, 246.54970423769436, 247.53641907902903, 248.49130440935292, 249.47801924146273, 250.46473407357252, 251.35596035874804, 252.3426751744781, 253.29756048002332, 254.284275272878, 255.23916055628575, 256.22587533066684, 257.212590105048, 258.1674753509974, 259.1541901051451, 260.10907535109453, 261.09579010524226, 262.08250485939004, 262.9737310889428, 263.96044584309055, 264.91533108903997, 265.90204584318775, 266.85693108913716, 267.84364584328495, 268.8303605974327, 269.7852458433821, 270.7719605975298, 271.7268458434792, 272.713560597627, 273.70027535177474, 274.5915015813275, 275.5782163354753, 276.5331015814247, 277.5198163355725, 278.4747015815219, 279.46141633566964, 280.44813108981737, 281.4030163357668, 282.38973108991456, 283.344616335864, 284.3313310900117, 285.3180458441595, 286.2411015819106, 287.2278163360583, 288.1827015820077, 289.16941633615545, 290.1243015821049, 291.11101633625265, 292.09773109040043, 293.05261633634984, 294.03933109049757, 294.994216336447, 295.9809310905947, 296.9676458447425, 297.8588720742953, 298.845586828443, 299.8004720743925, 300.7871868285402, 301.7420720744896, 302.7287868286374, 303.7155015827851, 304.67038682873454, 305.65710158288226, 306.61198682883173], \"yaxis\": \"y\"}, {\"line\": {\"color\": \"rgba(0, 114, 178, 0.2)\", \"width\": 0}, \"mode\": \"lines\", \"name\": \"trend_upper\", \"type\": \"scatter\", \"x\": [\"2013-01-01T00:00:00\", \"2013-02-01T00:00:00\", \"2013-03-01T00:00:00\", \"2013-04-01T00:00:00\", \"2013-05-01T00:00:00\", \"2013-06-01T00:00:00\", \"2013-07-01T00:00:00\", \"2013-08-01T00:00:00\", \"2013-09-01T00:00:00\", \"2013-10-01T00:00:00\", \"2013-11-01T00:00:00\", \"2013-12-01T00:00:00\", \"2014-01-01T00:00:00\", \"2014-02-01T00:00:00\", \"2014-03-01T00:00:00\", \"2014-04-01T00:00:00\", \"2014-05-01T00:00:00\", \"2014-06-01T00:00:00\", \"2014-07-01T00:00:00\", \"2014-08-01T00:00:00\", \"2014-09-01T00:00:00\", \"2014-10-01T00:00:00\", \"2014-11-01T00:00:00\", \"2014-12-01T00:00:00\", \"2015-01-01T00:00:00\", \"2015-02-01T00:00:00\", \"2015-03-01T00:00:00\", \"2015-04-01T00:00:00\", \"2015-05-01T00:00:00\", \"2015-06-01T00:00:00\", \"2015-07-01T00:00:00\", \"2015-08-01T00:00:00\", \"2015-09-01T00:00:00\", \"2015-10-01T00:00:00\", \"2015-11-01T00:00:00\", \"2015-12-01T00:00:00\", \"2016-01-01T00:00:00\", \"2016-02-01T00:00:00\", \"2016-03-01T00:00:00\", \"2016-04-01T00:00:00\", \"2016-05-01T00:00:00\", \"2016-06-01T00:00:00\", \"2016-07-01T00:00:00\", \"2016-08-01T00:00:00\", \"2016-09-01T00:00:00\", \"2016-10-01T00:00:00\", \"2016-11-01T00:00:00\", \"2016-12-01T00:00:00\", \"2017-01-01T00:00:00\", \"2017-02-01T00:00:00\", \"2017-03-01T00:00:00\", \"2017-04-01T00:00:00\", \"2017-05-01T00:00:00\", \"2017-06-01T00:00:00\", \"2017-07-01T00:00:00\", \"2017-08-01T00:00:00\", \"2017-09-01T00:00:00\", \"2017-10-01T00:00:00\", \"2017-11-01T00:00:00\", \"2017-12-01T00:00:00\", \"2018-01-01T00:00:00\", \"2018-02-01T00:00:00\", \"2018-03-01T00:00:00\", \"2018-04-01T00:00:00\", \"2018-05-01T00:00:00\", \"2018-06-01T00:00:00\", \"2018-07-01T00:00:00\", \"2018-08-01T00:00:00\", \"2018-09-01T00:00:00\", \"2018-10-01T00:00:00\", \"2018-11-01T00:00:00\", \"2018-12-01T00:00:00\", \"2019-01-01T00:00:00\", \"2019-02-01T00:00:00\", \"2019-03-01T00:00:00\", \"2019-04-01T00:00:00\", \"2019-05-01T00:00:00\", \"2019-06-01T00:00:00\", \"2019-07-01T00:00:00\", \"2019-08-01T00:00:00\", \"2019-09-01T00:00:00\", \"2019-10-01T00:00:00\", \"2019-11-01T00:00:00\", \"2019-12-01T00:00:00\", \"2020-01-01T00:00:00\", \"2020-02-01T00:00:00\", \"2020-03-01T00:00:00\", \"2020-04-01T00:00:00\", \"2020-05-01T00:00:00\", \"2020-06-01T00:00:00\", \"2020-07-01T00:00:00\", \"2020-08-01T00:00:00\", \"2020-09-01T00:00:00\", \"2020-10-01T00:00:00\", \"2020-11-01T00:00:00\", \"2020-12-01T00:00:00\", \"2021-01-01T00:00:00\", \"2021-02-01T00:00:00\", \"2021-03-01T00:00:00\", \"2021-04-01T00:00:00\", \"2021-05-01T00:00:00\", \"2021-06-01T00:00:00\", \"2021-07-01T00:00:00\", \"2021-08-01T00:00:00\", \"2021-09-01T00:00:00\", \"2021-10-01T00:00:00\", \"2021-11-01T00:00:00\", \"2021-12-01T00:00:00\"], \"xaxis\": \"x\", \"y\": [202.97510261104304, 203.9618174838065, 204.85304382049605, 205.8397586929309, 206.79464405335173, 207.78135892860138, 208.73624429174617, 209.72295916699582, 210.709674052277, 211.66455942512974, 212.65127432210443, 213.60615970627347, 214.59287460404587, 215.57958950181833, 216.4708158569854, 217.45753075020613, 218.41241613074232, 219.39913100931628, 220.35401637567819, 221.34073125216898, 222.32744612865972, 223.28233147916146, 224.26904634134664, 225.2239316877696, 226.21064654574002, 227.19736140371043, 228.0885877247492, 229.075302580185, 230.0301879124659, 231.01690275582277, 231.97178808452537, 232.95850292418464, 233.945217782749, 234.9001031297468, 235.8868179883112, 236.84170332134883, 237.8284181654877, 238.81513300858242, 239.73818882954197, 240.7249036825413, 241.67978902415356, 242.66650386598033, 243.62138919678037, 244.60810403860714, 245.59481889388096, 246.54970423769436, 247.53641907902903, 248.49130440935292, 249.47801924146273, 250.46473407357252, 251.35596035874804, 252.3426751744781, 253.29756048002332, 254.284275272878, 255.23916055628575, 256.22587533066684, 257.212590105048, 258.1674753509974, 259.1541901051451, 260.10907535109453, 261.09579010524226, 262.08250485939004, 262.9737310889428, 263.96044584309055, 264.91533108903997, 265.90204584318775, 266.85693108913716, 267.84364584328495, 268.8303605974327, 269.7852458433821, 270.7719605975298, 271.7268458434792, 272.7135608698075, 273.70027619440003, 274.5915030239662, 275.57821850553694, 276.5331046048445, 277.5198202254331, 278.4747064588522, 279.4614222323346, 280.4481381310015, 281.4030243731272, 282.3897400056713, 283.34462611916695, 284.33134221661675, 285.31805815342057, 286.2411150255088, 287.2278310802166, 288.18271759096433, 289.16943391285656, 290.1243205967279, 291.1110370160669, 292.09775353426926, 293.0526400372951, 294.03935662222216, 294.9942434211004, 295.9809602471857, 296.9676765596629, 297.8589040743794, 298.84562060039593, 299.8005078794999, 300.78722402266044, 301.7421110848355, 302.7288277569092, 303.71554445674604, 304.6704315869458, 305.657148280608, 306.61203500035856], \"yaxis\": \"y\"}, {\"fill\": \"tonexty\", \"fillcolor\": \"rgba(0, 114, 178, 0.2)\", \"line\": {\"color\": \"rgba(0, 114, 178, 0.2)\", \"width\": 0}, \"mode\": \"lines\", \"name\": \"trend_lower\", \"type\": \"scatter\", \"x\": [\"2013-01-01T00:00:00\", \"2013-02-01T00:00:00\", \"2013-03-01T00:00:00\", \"2013-04-01T00:00:00\", \"2013-05-01T00:00:00\", \"2013-06-01T00:00:00\", \"2013-07-01T00:00:00\", \"2013-08-01T00:00:00\", \"2013-09-01T00:00:00\", \"2013-10-01T00:00:00\", \"2013-11-01T00:00:00\", \"2013-12-01T00:00:00\", \"2014-01-01T00:00:00\", \"2014-02-01T00:00:00\", \"2014-03-01T00:00:00\", \"2014-04-01T00:00:00\", \"2014-05-01T00:00:00\", \"2014-06-01T00:00:00\", \"2014-07-01T00:00:00\", \"2014-08-01T00:00:00\", \"2014-09-01T00:00:00\", \"2014-10-01T00:00:00\", \"2014-11-01T00:00:00\", \"2014-12-01T00:00:00\", \"2015-01-01T00:00:00\", \"2015-02-01T00:00:00\", \"2015-03-01T00:00:00\", \"2015-04-01T00:00:00\", \"2015-05-01T00:00:00\", \"2015-06-01T00:00:00\", \"2015-07-01T00:00:00\", \"2015-08-01T00:00:00\", \"2015-09-01T00:00:00\", \"2015-10-01T00:00:00\", \"2015-11-01T00:00:00\", \"2015-12-01T00:00:00\", \"2016-01-01T00:00:00\", \"2016-02-01T00:00:00\", \"2016-03-01T00:00:00\", \"2016-04-01T00:00:00\", \"2016-05-01T00:00:00\", \"2016-06-01T00:00:00\", \"2016-07-01T00:00:00\", \"2016-08-01T00:00:00\", \"2016-09-01T00:00:00\", \"2016-10-01T00:00:00\", \"2016-11-01T00:00:00\", \"2016-12-01T00:00:00\", \"2017-01-01T00:00:00\", \"2017-02-01T00:00:00\", \"2017-03-01T00:00:00\", \"2017-04-01T00:00:00\", \"2017-05-01T00:00:00\", \"2017-06-01T00:00:00\", \"2017-07-01T00:00:00\", \"2017-08-01T00:00:00\", \"2017-09-01T00:00:00\", \"2017-10-01T00:00:00\", \"2017-11-01T00:00:00\", \"2017-12-01T00:00:00\", \"2018-01-01T00:00:00\", \"2018-02-01T00:00:00\", \"2018-03-01T00:00:00\", \"2018-04-01T00:00:00\", \"2018-05-01T00:00:00\", \"2018-06-01T00:00:00\", \"2018-07-01T00:00:00\", \"2018-08-01T00:00:00\", \"2018-09-01T00:00:00\", \"2018-10-01T00:00:00\", \"2018-11-01T00:00:00\", \"2018-12-01T00:00:00\", \"2019-01-01T00:00:00\", \"2019-02-01T00:00:00\", \"2019-03-01T00:00:00\", \"2019-04-01T00:00:00\", \"2019-05-01T00:00:00\", \"2019-06-01T00:00:00\", \"2019-07-01T00:00:00\", \"2019-08-01T00:00:00\", \"2019-09-01T00:00:00\", \"2019-10-01T00:00:00\", \"2019-11-01T00:00:00\", \"2019-12-01T00:00:00\", \"2020-01-01T00:00:00\", \"2020-02-01T00:00:00\", \"2020-03-01T00:00:00\", \"2020-04-01T00:00:00\", \"2020-05-01T00:00:00\", \"2020-06-01T00:00:00\", \"2020-07-01T00:00:00\", \"2020-08-01T00:00:00\", \"2020-09-01T00:00:00\", \"2020-10-01T00:00:00\", \"2020-11-01T00:00:00\", \"2020-12-01T00:00:00\", \"2021-01-01T00:00:00\", \"2021-02-01T00:00:00\", \"2021-03-01T00:00:00\", \"2021-04-01T00:00:00\", \"2021-05-01T00:00:00\", \"2021-06-01T00:00:00\", \"2021-07-01T00:00:00\", \"2021-08-01T00:00:00\", \"2021-09-01T00:00:00\", \"2021-10-01T00:00:00\", \"2021-11-01T00:00:00\", \"2021-12-01T00:00:00\"], \"xaxis\": \"x\", \"y\": [202.97510261104304, 203.9618174838065, 204.85304382049605, 205.8397586929309, 206.79464405335173, 207.78135892860138, 208.73624429174617, 209.72295916699582, 210.709674052277, 211.66455942512974, 212.65127432210443, 213.60615970627347, 214.59287460404587, 215.57958950181833, 216.4708158569854, 217.45753075020613, 218.41241613074232, 219.39913100931628, 220.35401637567819, 221.34073125216898, 222.32744612865972, 223.28233147916146, 224.26904634134664, 225.2239316877696, 226.21064654574002, 227.19736140371043, 228.0885877247492, 229.075302580185, 230.0301879124659, 231.01690275582277, 231.97178808452537, 232.95850292418464, 233.945217782749, 234.9001031297468, 235.8868179883112, 236.84170332134883, 237.8284181654877, 238.81513300858242, 239.73818882954197, 240.7249036825413, 241.67978902415356, 242.66650386598033, 243.62138919678037, 244.60810403860714, 245.59481889388096, 246.54970423769436, 247.53641907902903, 248.49130440935292, 249.47801924146273, 250.46473407357252, 251.35596035874804, 252.3426751744781, 253.29756048002332, 254.284275272878, 255.23916055628575, 256.22587533066684, 257.212590105048, 258.1674753509974, 259.1541901051451, 260.10907535109453, 261.09579010524226, 262.08250485939004, 262.9737310889428, 263.96044584309055, 264.91533108903997, 265.90204584318775, 266.85693108913716, 267.84364584328495, 268.8303605974327, 269.7852458433821, 270.7719605975298, 271.7268458434792, 272.7135603535558, 273.7002746011362, 274.59150023653496, 275.5782141133157, 276.53309842696177, 277.519812372007, 278.4746966953401, 279.4614105020678, 280.4481244134066, 281.40300871023794, 282.3897223860012, 283.344606383787, 284.33132005611947, 285.31803338584297, 286.24108792839087, 287.22780139571705, 288.1826852651985, 289.1693984681757, 290.12428219075827, 291.1109946815034, 292.0977077548769, 293.05259169474016, 294.03930496802815, 294.9941890447463, 295.98090141260997, 296.9676145720959, 297.8588393613089, 298.8455526160889, 299.80043651316623, 300.7871496535439, 301.7420328280226, 302.7287456288474, 303.71545903408133, 304.6703418271409, 305.6570550103629, 306.61193841280243], \"yaxis\": \"y\"}, {\"line\": {\"color\": \"#0072B2\", \"width\": 2}, \"mode\": \"lines\", \"name\": \"yearly\", \"type\": \"scatter\", \"x\": [\"2017-01-01T00:00:00\", \"2017-01-02T00:00:59.178082\", \"2017-01-03T00:01:58.356164\", \"2017-01-04T00:02:57.534246\", \"2017-01-05T00:03:56.712328\", \"2017-01-06T00:04:55.890411\", \"2017-01-07T00:05:55.068493\", \"2017-01-08T00:06:54.246575\", \"2017-01-09T00:07:53.424657\", \"2017-01-10T00:08:52.602739\", \"2017-01-11T00:09:51.780822\", \"2017-01-12T00:10:50.958904\", \"2017-01-13T00:11:50.136986\", \"2017-01-14T00:12:49.315068\", \"2017-01-15T00:13:48.493150\", \"2017-01-16T00:14:47.671232\", \"2017-01-17T00:15:46.849315\", \"2017-01-18T00:16:46.027397\", \"2017-01-19T00:17:45.205479\", \"2017-01-20T00:18:44.383561\", \"2017-01-21T00:19:43.561643\", \"2017-01-22T00:20:42.739726\", \"2017-01-23T00:21:41.917808\", \"2017-01-24T00:22:41.095890\", \"2017-01-25T00:23:40.273972\", \"2017-01-26T00:24:39.452054\", \"2017-01-27T00:25:38.630137\", \"2017-01-28T00:26:37.808219\", \"2017-01-29T00:27:36.986301\", \"2017-01-30T00:28:36.164383\", \"2017-01-31T00:29:35.342465\", \"2017-02-01T00:30:34.520547\", \"2017-02-02T00:31:33.698630\", \"2017-02-03T00:32:32.876712\", \"2017-02-04T00:33:32.054794\", \"2017-02-05T00:34:31.232876\", \"2017-02-06T00:35:30.410958\", \"2017-02-07T00:36:29.589041\", \"2017-02-08T00:37:28.767123\", \"2017-02-09T00:38:27.945205\", \"2017-02-10T00:39:27.123287\", \"2017-02-11T00:40:26.301369\", \"2017-02-12T00:41:25.479452\", \"2017-02-13T00:42:24.657534\", \"2017-02-14T00:43:23.835616\", \"2017-02-15T00:44:23.013698\", \"2017-02-16T00:45:22.191780\", \"2017-02-17T00:46:21.369862\", \"2017-02-18T00:47:20.547945\", \"2017-02-19T00:48:19.726027\", \"2017-02-20T00:49:18.904109\", \"2017-02-21T00:50:18.082191\", \"2017-02-22T00:51:17.260273\", \"2017-02-23T00:52:16.438356\", \"2017-02-24T00:53:15.616438\", \"2017-02-25T00:54:14.794520\", \"2017-02-26T00:55:13.972602\", \"2017-02-27T00:56:13.150684\", \"2017-02-28T00:57:12.328767\", \"2017-03-01T00:58:11.506849\", \"2017-03-02T00:59:10.684931\", \"2017-03-03T01:00:09.863013\", \"2017-03-04T01:01:09.041095\", \"2017-03-05T01:02:08.219177\", \"2017-03-06T01:03:07.397260\", \"2017-03-07T01:04:06.575342\", \"2017-03-08T01:05:05.753424\", \"2017-03-09T01:06:04.931506\", \"2017-03-10T01:07:04.109588\", \"2017-03-11T01:08:03.287671\", \"2017-03-12T01:09:02.465753\", \"2017-03-13T01:10:01.643835\", \"2017-03-14T01:11:00.821917\", \"2017-03-15T01:12:00\", \"2017-03-16T01:12:59.178082\", \"2017-03-17T01:13:58.356164\", \"2017-03-18T01:14:57.534246\", \"2017-03-19T01:15:56.712328\", \"2017-03-20T01:16:55.890411\", \"2017-03-21T01:17:55.068493\", \"2017-03-22T01:18:54.246575\", \"2017-03-23T01:19:53.424657\", \"2017-03-24T01:20:52.602739\", \"2017-03-25T01:21:51.780822\", \"2017-03-26T01:22:50.958904\", \"2017-03-27T01:23:50.136986\", \"2017-03-28T01:24:49.315068\", \"2017-03-29T01:25:48.493150\", \"2017-03-30T01:26:47.671232\", \"2017-03-31T01:27:46.849315\", \"2017-04-01T01:28:46.027397\", \"2017-04-02T01:29:45.205479\", \"2017-04-03T01:30:44.383561\", \"2017-04-04T01:31:43.561643\", \"2017-04-05T01:32:42.739726\", \"2017-04-06T01:33:41.917808\", \"2017-04-07T01:34:41.095890\", \"2017-04-08T01:35:40.273972\", \"2017-04-09T01:36:39.452054\", \"2017-04-10T01:37:38.630137\", \"2017-04-11T01:38:37.808219\", \"2017-04-12T01:39:36.986301\", \"2017-04-13T01:40:36.164383\", \"2017-04-14T01:41:35.342465\", \"2017-04-15T01:42:34.520547\", \"2017-04-16T01:43:33.698630\", \"2017-04-17T01:44:32.876712\", \"2017-04-18T01:45:32.054794\", \"2017-04-19T01:46:31.232876\", \"2017-04-20T01:47:30.410958\", \"2017-04-21T01:48:29.589041\", \"2017-04-22T01:49:28.767123\", \"2017-04-23T01:50:27.945205\", \"2017-04-24T01:51:27.123287\", \"2017-04-25T01:52:26.301369\", \"2017-04-26T01:53:25.479452\", \"2017-04-27T01:54:24.657534\", \"2017-04-28T01:55:23.835616\", \"2017-04-29T01:56:23.013698\", \"2017-04-30T01:57:22.191780\", \"2017-05-01T01:58:21.369862\", \"2017-05-02T01:59:20.547945\", \"2017-05-03T02:00:19.726027\", \"2017-05-04T02:01:18.904109\", \"2017-05-05T02:02:18.082191\", \"2017-05-06T02:03:17.260273\", \"2017-05-07T02:04:16.438356\", \"2017-05-08T02:05:15.616438\", \"2017-05-09T02:06:14.794520\", \"2017-05-10T02:07:13.972602\", \"2017-05-11T02:08:13.150684\", \"2017-05-12T02:09:12.328767\", \"2017-05-13T02:10:11.506849\", \"2017-05-14T02:11:10.684931\", \"2017-05-15T02:12:09.863013\", \"2017-05-16T02:13:09.041095\", \"2017-05-17T02:14:08.219177\", \"2017-05-18T02:15:07.397260\", \"2017-05-19T02:16:06.575342\", \"2017-05-20T02:17:05.753424\", \"2017-05-21T02:18:04.931506\", \"2017-05-22T02:19:04.109588\", \"2017-05-23T02:20:03.287671\", \"2017-05-24T02:21:02.465753\", \"2017-05-25T02:22:01.643835\", \"2017-05-26T02:23:00.821917\", \"2017-05-27T02:24:00\", \"2017-05-28T02:24:59.178082\", \"2017-05-29T02:25:58.356164\", \"2017-05-30T02:26:57.534246\", \"2017-05-31T02:27:56.712328\", \"2017-06-01T02:28:55.890411\", \"2017-06-02T02:29:55.068493\", \"2017-06-03T02:30:54.246575\", \"2017-06-04T02:31:53.424657\", \"2017-06-05T02:32:52.602739\", \"2017-06-06T02:33:51.780822\", \"2017-06-07T02:34:50.958904\", \"2017-06-08T02:35:50.136986\", \"2017-06-09T02:36:49.315068\", \"2017-06-10T02:37:48.493150\", \"2017-06-11T02:38:47.671232\", \"2017-06-12T02:39:46.849315\", \"2017-06-13T02:40:46.027397\", \"2017-06-14T02:41:45.205479\", \"2017-06-15T02:42:44.383561\", \"2017-06-16T02:43:43.561643\", \"2017-06-17T02:44:42.739726\", \"2017-06-18T02:45:41.917808\", \"2017-06-19T02:46:41.095890\", \"2017-06-20T02:47:40.273972\", \"2017-06-21T02:48:39.452054\", \"2017-06-22T02:49:38.630137\", \"2017-06-23T02:50:37.808219\", \"2017-06-24T02:51:36.986301\", \"2017-06-25T02:52:36.164383\", \"2017-06-26T02:53:35.342465\", \"2017-06-27T02:54:34.520547\", \"2017-06-28T02:55:33.698630\", \"2017-06-29T02:56:32.876712\", \"2017-06-30T02:57:32.054794\", \"2017-07-01T02:58:31.232876\", \"2017-07-02T02:59:30.410958\", \"2017-07-03T03:00:29.589041\", \"2017-07-04T03:01:28.767123\", \"2017-07-05T03:02:27.945205\", \"2017-07-06T03:03:27.123287\", \"2017-07-07T03:04:26.301369\", \"2017-07-08T03:05:25.479452\", \"2017-07-09T03:06:24.657534\", \"2017-07-10T03:07:23.835616\", \"2017-07-11T03:08:23.013698\", \"2017-07-12T03:09:22.191780\", \"2017-07-13T03:10:21.369862\", \"2017-07-14T03:11:20.547945\", \"2017-07-15T03:12:19.726027\", \"2017-07-16T03:13:18.904109\", \"2017-07-17T03:14:18.082191\", \"2017-07-18T03:15:17.260273\", \"2017-07-19T03:16:16.438356\", \"2017-07-20T03:17:15.616438\", \"2017-07-21T03:18:14.794520\", \"2017-07-22T03:19:13.972602\", \"2017-07-23T03:20:13.150684\", \"2017-07-24T03:21:12.328767\", \"2017-07-25T03:22:11.506849\", \"2017-07-26T03:23:10.684931\", \"2017-07-27T03:24:09.863013\", \"2017-07-28T03:25:09.041095\", \"2017-07-29T03:26:08.219177\", \"2017-07-30T03:27:07.397260\", \"2017-07-31T03:28:06.575342\", \"2017-08-01T03:29:05.753424\", \"2017-08-02T03:30:04.931506\", \"2017-08-03T03:31:04.109588\", \"2017-08-04T03:32:03.287671\", \"2017-08-05T03:33:02.465753\", \"2017-08-06T03:34:01.643835\", \"2017-08-07T03:35:00.821917\", \"2017-08-08T03:36:00\", \"2017-08-09T03:36:59.178082\", \"2017-08-10T03:37:58.356164\", \"2017-08-11T03:38:57.534246\", \"2017-08-12T03:39:56.712328\", \"2017-08-13T03:40:55.890411\", \"2017-08-14T03:41:55.068493\", \"2017-08-15T03:42:54.246575\", \"2017-08-16T03:43:53.424657\", \"2017-08-17T03:44:52.602739\", \"2017-08-18T03:45:51.780822\", \"2017-08-19T03:46:50.958904\", \"2017-08-20T03:47:50.136986\", \"2017-08-21T03:48:49.315068\", \"2017-08-22T03:49:48.493150\", \"2017-08-23T03:50:47.671232\", \"2017-08-24T03:51:46.849315\", \"2017-08-25T03:52:46.027397\", \"2017-08-26T03:53:45.205479\", \"2017-08-27T03:54:44.383561\", \"2017-08-28T03:55:43.561643\", \"2017-08-29T03:56:42.739726\", \"2017-08-30T03:57:41.917808\", \"2017-08-31T03:58:41.095890\", \"2017-09-01T03:59:40.273972\", \"2017-09-02T04:00:39.452054\", \"2017-09-03T04:01:38.630137\", \"2017-09-04T04:02:37.808219\", \"2017-09-05T04:03:36.986301\", \"2017-09-06T04:04:36.164383\", \"2017-09-07T04:05:35.342465\", \"2017-09-08T04:06:34.520547\", \"2017-09-09T04:07:33.698630\", \"2017-09-10T04:08:32.876712\", \"2017-09-11T04:09:32.054794\", \"2017-09-12T04:10:31.232876\", \"2017-09-13T04:11:30.410958\", \"2017-09-14T04:12:29.589041\", \"2017-09-15T04:13:28.767123\", \"2017-09-16T04:14:27.945205\", \"2017-09-17T04:15:27.123287\", \"2017-09-18T04:16:26.301369\", \"2017-09-19T04:17:25.479452\", \"2017-09-20T04:18:24.657534\", \"2017-09-21T04:19:23.835616\", \"2017-09-22T04:20:23.013698\", \"2017-09-23T04:21:22.191780\", \"2017-09-24T04:22:21.369862\", \"2017-09-25T04:23:20.547945\", \"2017-09-26T04:24:19.726027\", \"2017-09-27T04:25:18.904109\", \"2017-09-28T04:26:18.082191\", \"2017-09-29T04:27:17.260273\", \"2017-09-30T04:28:16.438356\", \"2017-10-01T04:29:15.616438\", \"2017-10-02T04:30:14.794520\", \"2017-10-03T04:31:13.972602\", \"2017-10-04T04:32:13.150684\", \"2017-10-05T04:33:12.328767\", \"2017-10-06T04:34:11.506849\", \"2017-10-07T04:35:10.684931\", \"2017-10-08T04:36:09.863013\", \"2017-10-09T04:37:09.041095\", \"2017-10-10T04:38:08.219177\", \"2017-10-11T04:39:07.397260\", \"2017-10-12T04:40:06.575342\", \"2017-10-13T04:41:05.753424\", \"2017-10-14T04:42:04.931506\", \"2017-10-15T04:43:04.109588\", \"2017-10-16T04:44:03.287671\", \"2017-10-17T04:45:02.465753\", \"2017-10-18T04:46:01.643835\", \"2017-10-19T04:47:00.821917\", \"2017-10-20T04:48:00\", \"2017-10-21T04:48:59.178082\", \"2017-10-22T04:49:58.356164\", \"2017-10-23T04:50:57.534246\", \"2017-10-24T04:51:56.712328\", \"2017-10-25T04:52:55.890411\", \"2017-10-26T04:53:55.068493\", \"2017-10-27T04:54:54.246575\", \"2017-10-28T04:55:53.424657\", \"2017-10-29T04:56:52.602739\", \"2017-10-30T04:57:51.780822\", \"2017-10-31T04:58:50.958904\", \"2017-11-01T04:59:50.136986\", \"2017-11-02T05:00:49.315068\", \"2017-11-03T05:01:48.493150\", \"2017-11-04T05:02:47.671232\", \"2017-11-05T05:03:46.849315\", \"2017-11-06T05:04:46.027397\", \"2017-11-07T05:05:45.205479\", \"2017-11-08T05:06:44.383561\", \"2017-11-09T05:07:43.561643\", \"2017-11-10T05:08:42.739726\", \"2017-11-11T05:09:41.917808\", \"2017-11-12T05:10:41.095890\", \"2017-11-13T05:11:40.273972\", \"2017-11-14T05:12:39.452054\", \"2017-11-15T05:13:38.630137\", \"2017-11-16T05:14:37.808219\", \"2017-11-17T05:15:36.986301\", \"2017-11-18T05:16:36.164383\", \"2017-11-19T05:17:35.342465\", \"2017-11-20T05:18:34.520547\", \"2017-11-21T05:19:33.698630\", \"2017-11-22T05:20:32.876712\", \"2017-11-23T05:21:32.054794\", \"2017-11-24T05:22:31.232876\", \"2017-11-25T05:23:30.410958\", \"2017-11-26T05:24:29.589041\", \"2017-11-27T05:25:28.767123\", \"2017-11-28T05:26:27.945205\", \"2017-11-29T05:27:27.123287\", \"2017-11-30T05:28:26.301369\", \"2017-12-01T05:29:25.479452\", \"2017-12-02T05:30:24.657534\", \"2017-12-03T05:31:23.835616\", \"2017-12-04T05:32:23.013698\", \"2017-12-05T05:33:22.191780\", \"2017-12-06T05:34:21.369862\", \"2017-12-07T05:35:20.547945\", \"2017-12-08T05:36:19.726027\", \"2017-12-09T05:37:18.904109\", \"2017-12-10T05:38:18.082191\", \"2017-12-11T05:39:17.260273\", \"2017-12-12T05:40:16.438356\", \"2017-12-13T05:41:15.616438\", \"2017-12-14T05:42:14.794520\", \"2017-12-15T05:43:13.972602\", \"2017-12-16T05:44:13.150684\", \"2017-12-17T05:45:12.328767\", \"2017-12-18T05:46:11.506849\", \"2017-12-19T05:47:10.684931\", \"2017-12-20T05:48:09.863013\", \"2017-12-21T05:49:09.041095\", \"2017-12-22T05:50:08.219177\", \"2017-12-23T05:51:07.397260\", \"2017-12-24T05:52:06.575342\", \"2017-12-25T05:53:05.753424\", \"2017-12-26T05:54:04.931506\", \"2017-12-27T05:55:04.109588\", \"2017-12-28T05:56:03.287671\", \"2017-12-29T05:57:02.465753\", \"2017-12-30T05:58:01.643835\", \"2017-12-31T05:59:00.821917\"], \"xaxis\": \"x2\", \"y\": [18.24797027204259, 264.6802610716095, 507.80834604341595, 742.5603111639059, 964.0716604569734, 1167.8135440962274, 1349.7116449698462, 1506.2523903935182, 1634.5735200251308, 1732.5364908443917, 1798.778721946899, 1832.7442608340289, 1834.692071945227, 1805.6817893337422, 1747.5374200408683, 1662.7901141132345, 1554.601713096756, 1426.6713339401592, 1283.1277238204639, 1128.410519667586, 967.143852627556, 804.0059437514453, 643.5984369141241, 490.319205755997, 348.2422538636807, 221.00810504943797, 111.72776029906281, 22.90288929363208, -43.63556043906459, -86.76870035043437, -106.10993959716899, -102.00370206745178, -75.50282852622838, -28.325492531136412, 37.206946197970076, 118.24917640377396, 211.52579272510457, 313.43689457767783, 420.1722153977951, 527.8303373944468, 632.5394156055745, 730.5758098679356, 818.4771044884236, 893.1461804043934, 951.943287577401, 992.7634375955843, 1014.0968868019273, 1015.0709950083061, 995.4723087082357, 955.7483137126746, 896.9889126040762, 820.888289149603, 729.6884068323369, 626.1059346706348, 513.244884309365, 394.4976635654917, 273.43759088698084, 153.70616247268688, 38.898512168984354, -67.54945069439138, -162.46879964676873, -243.05698134807938, -306.965832615235, -352.37556745768103, -378.0525047853195, -383.3888008312425, -368.4229949091956, -333.8407565510429, -280.9558190013191, -211.6716806355633, -128.42523430957218, -34.114027685106464, 67.99065094735431, 174.34224156362515, 281.22596974820055, 384.87126887396977, 481.56618281849853, 567.7703056318924, 640.2228584249838, 696.0426492674172, 732.816904718121, 748.676294446698, 742.3538832056764, 713.2262248761176, 661.3353470190177, 587.3909453797528, 492.75269908004293, 379.39321110297266, 249.8426574668847, 107.11677486567106, -45.369685668926444, -203.90147728651587, -364.5704283573348, -523.3888755954447, -676.4055931730285, -819.8207764125201, -950.0966658896092, -1064.060526769118, -1158.996925056845, -1232.7265604085537, -1283.6693147465892, -1310.8896451945348, -1314.1229748659366, -1293.7823001121565, -1250.944821137936, -1187.3189969129694, -1105.1930073412373, -1007.3661583497217, -897.0652724954903, -777.8485537489507, -653.4997869933303, -527.9160194730654, -404.9920643226202, -288.50525972719595, -182.0039083884066, -88.70271112379052, -11.388298815937267, 47.66233506173444, 86.74808461159812, 104.79270508394609, 101.37506632902443, 76.73980135437591, 31.78805025022825, -31.951406333633464, -112.36974488807613, -206.84298984100616, -312.31224350500474, -425.37684368157204, -542.3976518917763, -659.6073731142192, -773.2245984038822, -879.5681509793493, -975.1683078008516, -1056.871562385599, -1121.9357880780292, -1168.1129483354628, -1193.7168732634154, -1197.674068656703, -1179.5560317449585, -1139.5921016495497, -1078.6624556847307, -998.2714577238112, -900.5021540857259, -787.9532782519866, -663.6606512255396, -531.0053337929921, -393.6112863025601, -255.23560881127165, -119.65466002919867, 9.450519377250272, 128.60602879952089, 234.6508032026828, 324.83298972843636, 396.89408822313277, 449.1383013441732, 480.4849797142044, 490.50255126664655, 479.42287657860646, 448.1355571898287, 398.1623242192069, 331.6122321586813, 251.11895970018847, 159.7620585964904, 60.97447676598619, -41.560901524302615, -144.02261990632752, -242.56659576558604, -333.4431790931666, -413.1118132044313, -478.3498483252004, -526.3522241191698, -554.8190007231733, -562.0280719327396, -546.8908286323359, -508.9890426062284, -448.5917956865785, -366.6518704984053, -264.78162928286434, -145.20901840690084, -10.714930025901962, 135.4462887115175, 289.64088114167413, 447.9615429041835, 606.3420010723861, 760.6769417938056, 906.943746875333, 1041.3224333199155, 1160.3102299946838, 1260.8273713677575, 1340.3109356079894, 1396.793896229498, 1428.9669829406585, 1436.2214461633564, 1418.6713761381754, 1377.1548254509344, 1313.2136056251181, 1229.0522558591326, 1127.477296578678, 1011.8184641128219, 885.8341581837724, 753.603805245378, 619.4102339063272, 487.61546211981204, 362.5335002727067, 248.30387365504131, 148.76955882858346, 67.36291121619111, 7.002939015147965, -29.993042417628853, -41.98075198041275, -28.041144396558177, 11.988112150509936, 77.50286740622956, 167.14478554712528, 278.8354222519643, 409.8311642321509, 556.7975051605436, 715.9005674101031, 882.9132744367643, 1053.3331488702395, 1222.5083690084207, 1385.7684715813305, 1538.555948565032, 1676.5549547058458, 1795.8134212512452, 1892.8550579654354, 1964.7780144561723, 2009.3373548277038, 2025.0089655514416, 2011.0330516779081, 1967.4359655437777, 1895.0297377631882, 1795.3893243472958, 1670.8082274598216, 1524.2337718633328, 1359.1839063145626, 1179.6479319220534, 989.9740222892199, 794.7467796155926, 598.6583558536689, 406.37685019647563, 222.4157683788455, 51.00829342750721, -104.01002731913532, -239.3068235572049, -352.14366303606283, -440.4494573859058, -502.8744458977176, -538.8232579125994, -548.4661646690115, -532.728266540499, -493.2570029664577, -432.3690012554479, -352.9778784796789, -258.50516041919695, -152.77696694657521, -39.90952025536187, 75.8131508549172, 190.06571994749183, 298.6085825459142, 397.41168044212344, 482.7715300023068, 551.4180642566973, 600.6082078827585, 628.2035031309636, 632.7295813825045, 613.4158151845634, 570.2140733065094, 503.7961191772532, 415.52982277935973, 307.4349790750776, 182.12012405463386, 42.70229484590474, -107.2878232115464, -264.01249657258234, -423.44208742589126, -581.4752967084457, -734.0609222071896, -877.3175150848097, -1007.6473925844979, -1121.841643987312, -1217.1730454077904, -1291.4741683343782, -1343.1984159338926, -1371.46223638055, -1376.067328636286, -1357.502256130567, -1316.9234999148978, -1256.1165966596673, -1177.4386001517146, -1083.7436600649, -978.2940122734916, -864.6591060657307, -746.6059424505197, -627.9839541682433, -512.6079143716091, -404.14241277961065, -305.991383865803, -221.19601320221926, -152.3440900943658, -101.49352501626419, -70.11231951452103, -59.036777154986105, -68.44919166954394, -97.8756592426502, -146.20405350661036, -211.72159245808152, -292.1708344089025, -384.8223829273197, -486.56207520265383, -593.9899894949427, -703.5282484513837, -811.5343268790892, -914.4164031259421, -1008.7472276085673, -1091.373022441045, -1159.5140712309694, -1210.8539038890567, -1243.6143203839533, -1256.6139197891857, -1249.3082942205406, -1221.8105966891012, -1174.8917811979543, -1109.9604250700027, -1029.0226592892793, -934.6233342318234, -829.7701175652841, -717.8427413467039, -602.4900707708823, -487.51804399313164, -376.77181958247564, -274.0156566668236, -182.81413696481437, -106.41831483879763, -47.66025174634664, -8.859158551721098, 8.257960242410421, 2.6186826597986457, -26.15142060777536, -77.70577669363531, -150.97504009547652, -244.18677654399085, -354.90618476628737, -480.09681798267377, -616.1996735521017, -759.2284716615177, -904.8784584406974, -1048.6456599149103, -1185.9531928347776, -1312.2810163793454, -1423.295391637429, -1514.974307335038, -1583.7252309912528, -1626.4917517589151, -1640.8459888620896, -1625.0640389283908, -1578.1822151519293, -1500.0323772504967, -1391.255247774956, -1253.2912401614649, -1088.3489687412825, -899.3522518771682, -689.8670379760027, -464.0102621455676, -226.3431620481281], \"yaxis\": \"y2\"}],\n",
       "                        {\"height\": 400, \"showlegend\": false, \"template\": {\"data\": {\"bar\": [{\"error_x\": {\"color\": \"#2a3f5f\"}, \"error_y\": {\"color\": \"#2a3f5f\"}, \"marker\": {\"line\": {\"color\": \"#E5ECF6\", \"width\": 0.5}}, \"type\": \"bar\"}], \"barpolar\": [{\"marker\": {\"line\": {\"color\": \"#E5ECF6\", \"width\": 0.5}}, \"type\": \"barpolar\"}], \"carpet\": [{\"aaxis\": {\"endlinecolor\": \"#2a3f5f\", \"gridcolor\": \"white\", \"linecolor\": \"white\", \"minorgridcolor\": \"white\", \"startlinecolor\": \"#2a3f5f\"}, \"baxis\": {\"endlinecolor\": \"#2a3f5f\", \"gridcolor\": \"white\", \"linecolor\": \"white\", \"minorgridcolor\": \"white\", \"startlinecolor\": \"#2a3f5f\"}, \"type\": \"carpet\"}], \"choropleth\": [{\"colorbar\": {\"outlinewidth\": 0, \"ticks\": \"\"}, \"type\": \"choropleth\"}], \"contour\": [{\"colorbar\": {\"outlinewidth\": 0, \"ticks\": \"\"}, \"colorscale\": [[0.0, \"#0d0887\"], [0.1111111111111111, \"#46039f\"], [0.2222222222222222, \"#7201a8\"], [0.3333333333333333, \"#9c179e\"], [0.4444444444444444, \"#bd3786\"], [0.5555555555555556, \"#d8576b\"], [0.6666666666666666, \"#ed7953\"], [0.7777777777777778, \"#fb9f3a\"], [0.8888888888888888, \"#fdca26\"], [1.0, \"#f0f921\"]], \"type\": \"contour\"}], \"contourcarpet\": [{\"colorbar\": {\"outlinewidth\": 0, \"ticks\": \"\"}, \"type\": \"contourcarpet\"}], \"heatmap\": [{\"colorbar\": {\"outlinewidth\": 0, \"ticks\": \"\"}, \"colorscale\": [[0.0, \"#0d0887\"], [0.1111111111111111, \"#46039f\"], [0.2222222222222222, \"#7201a8\"], [0.3333333333333333, \"#9c179e\"], [0.4444444444444444, \"#bd3786\"], [0.5555555555555556, \"#d8576b\"], [0.6666666666666666, \"#ed7953\"], [0.7777777777777778, \"#fb9f3a\"], [0.8888888888888888, \"#fdca26\"], [1.0, \"#f0f921\"]], \"type\": \"heatmap\"}], \"heatmapgl\": [{\"colorbar\": {\"outlinewidth\": 0, \"ticks\": \"\"}, \"colorscale\": [[0.0, \"#0d0887\"], [0.1111111111111111, \"#46039f\"], [0.2222222222222222, \"#7201a8\"], [0.3333333333333333, \"#9c179e\"], [0.4444444444444444, \"#bd3786\"], [0.5555555555555556, \"#d8576b\"], [0.6666666666666666, \"#ed7953\"], [0.7777777777777778, \"#fb9f3a\"], [0.8888888888888888, \"#fdca26\"], [1.0, \"#f0f921\"]], \"type\": \"heatmapgl\"}], \"histogram\": [{\"marker\": {\"colorbar\": {\"outlinewidth\": 0, \"ticks\": \"\"}}, \"type\": \"histogram\"}], \"histogram2d\": [{\"colorbar\": {\"outlinewidth\": 0, \"ticks\": \"\"}, \"colorscale\": [[0.0, \"#0d0887\"], [0.1111111111111111, \"#46039f\"], [0.2222222222222222, \"#7201a8\"], [0.3333333333333333, \"#9c179e\"], [0.4444444444444444, \"#bd3786\"], [0.5555555555555556, \"#d8576b\"], [0.6666666666666666, \"#ed7953\"], [0.7777777777777778, \"#fb9f3a\"], [0.8888888888888888, \"#fdca26\"], [1.0, \"#f0f921\"]], \"type\": \"histogram2d\"}], \"histogram2dcontour\": [{\"colorbar\": {\"outlinewidth\": 0, \"ticks\": \"\"}, \"colorscale\": [[0.0, \"#0d0887\"], [0.1111111111111111, \"#46039f\"], [0.2222222222222222, \"#7201a8\"], [0.3333333333333333, \"#9c179e\"], [0.4444444444444444, \"#bd3786\"], [0.5555555555555556, \"#d8576b\"], [0.6666666666666666, \"#ed7953\"], [0.7777777777777778, \"#fb9f3a\"], [0.8888888888888888, \"#fdca26\"], [1.0, \"#f0f921\"]], \"type\": \"histogram2dcontour\"}], \"mesh3d\": [{\"colorbar\": {\"outlinewidth\": 0, \"ticks\": \"\"}, \"type\": \"mesh3d\"}], \"parcoords\": [{\"line\": {\"colorbar\": {\"outlinewidth\": 0, \"ticks\": \"\"}}, \"type\": \"parcoords\"}], \"pie\": [{\"automargin\": true, \"type\": \"pie\"}], \"scatter\": [{\"marker\": {\"colorbar\": {\"outlinewidth\": 0, \"ticks\": \"\"}}, \"type\": \"scatter\"}], \"scatter3d\": [{\"line\": {\"colorbar\": {\"outlinewidth\": 0, \"ticks\": \"\"}}, \"marker\": {\"colorbar\": {\"outlinewidth\": 0, \"ticks\": \"\"}}, \"type\": \"scatter3d\"}], \"scattercarpet\": [{\"marker\": {\"colorbar\": {\"outlinewidth\": 0, \"ticks\": \"\"}}, \"type\": \"scattercarpet\"}], \"scattergeo\": [{\"marker\": {\"colorbar\": {\"outlinewidth\": 0, \"ticks\": \"\"}}, \"type\": \"scattergeo\"}], \"scattergl\": [{\"marker\": {\"colorbar\": {\"outlinewidth\": 0, \"ticks\": \"\"}}, \"type\": \"scattergl\"}], \"scattermapbox\": [{\"marker\": {\"colorbar\": {\"outlinewidth\": 0, \"ticks\": \"\"}}, \"type\": \"scattermapbox\"}], \"scatterpolar\": [{\"marker\": {\"colorbar\": {\"outlinewidth\": 0, \"ticks\": \"\"}}, \"type\": \"scatterpolar\"}], \"scatterpolargl\": [{\"marker\": {\"colorbar\": {\"outlinewidth\": 0, \"ticks\": \"\"}}, \"type\": \"scatterpolargl\"}], \"scatterternary\": [{\"marker\": {\"colorbar\": {\"outlinewidth\": 0, \"ticks\": \"\"}}, \"type\": \"scatterternary\"}], \"surface\": [{\"colorbar\": {\"outlinewidth\": 0, \"ticks\": \"\"}, \"colorscale\": [[0.0, \"#0d0887\"], [0.1111111111111111, \"#46039f\"], [0.2222222222222222, \"#7201a8\"], [0.3333333333333333, \"#9c179e\"], [0.4444444444444444, \"#bd3786\"], [0.5555555555555556, \"#d8576b\"], [0.6666666666666666, \"#ed7953\"], [0.7777777777777778, \"#fb9f3a\"], [0.8888888888888888, \"#fdca26\"], [1.0, \"#f0f921\"]], \"type\": \"surface\"}], \"table\": [{\"cells\": {\"fill\": {\"color\": \"#EBF0F8\"}, \"line\": {\"color\": \"white\"}}, \"header\": {\"fill\": {\"color\": \"#C8D4E3\"}, \"line\": {\"color\": \"white\"}}, \"type\": \"table\"}]}, \"layout\": {\"annotationdefaults\": {\"arrowcolor\": \"#2a3f5f\", \"arrowhead\": 0, \"arrowwidth\": 1}, \"coloraxis\": {\"colorbar\": {\"outlinewidth\": 0, \"ticks\": \"\"}}, \"colorscale\": {\"diverging\": [[0, \"#8e0152\"], [0.1, \"#c51b7d\"], [0.2, \"#de77ae\"], [0.3, \"#f1b6da\"], [0.4, \"#fde0ef\"], [0.5, \"#f7f7f7\"], [0.6, \"#e6f5d0\"], [0.7, \"#b8e186\"], [0.8, \"#7fbc41\"], [0.9, \"#4d9221\"], [1, \"#276419\"]], \"sequential\": [[0.0, \"#0d0887\"], [0.1111111111111111, \"#46039f\"], [0.2222222222222222, \"#7201a8\"], [0.3333333333333333, \"#9c179e\"], [0.4444444444444444, \"#bd3786\"], [0.5555555555555556, \"#d8576b\"], [0.6666666666666666, \"#ed7953\"], [0.7777777777777778, \"#fb9f3a\"], [0.8888888888888888, \"#fdca26\"], [1.0, \"#f0f921\"]], \"sequentialminus\": [[0.0, \"#0d0887\"], [0.1111111111111111, \"#46039f\"], [0.2222222222222222, \"#7201a8\"], [0.3333333333333333, \"#9c179e\"], [0.4444444444444444, \"#bd3786\"], [0.5555555555555556, \"#d8576b\"], [0.6666666666666666, \"#ed7953\"], [0.7777777777777778, \"#fb9f3a\"], [0.8888888888888888, \"#fdca26\"], [1.0, \"#f0f921\"]]}, \"colorway\": [\"#636efa\", \"#EF553B\", \"#00cc96\", \"#ab63fa\", \"#FFA15A\", \"#19d3f3\", \"#FF6692\", \"#B6E880\", \"#FF97FF\", \"#FECB52\"], \"font\": {\"color\": \"#2a3f5f\"}, \"geo\": {\"bgcolor\": \"white\", \"lakecolor\": \"white\", \"landcolor\": \"#E5ECF6\", \"showlakes\": true, \"showland\": true, \"subunitcolor\": \"white\"}, \"hoverlabel\": {\"align\": \"left\"}, \"hovermode\": \"closest\", \"mapbox\": {\"style\": \"light\"}, \"paper_bgcolor\": \"white\", \"plot_bgcolor\": \"#E5ECF6\", \"polar\": {\"angularaxis\": {\"gridcolor\": \"white\", \"linecolor\": \"white\", \"ticks\": \"\"}, \"bgcolor\": \"#E5ECF6\", \"radialaxis\": {\"gridcolor\": \"white\", \"linecolor\": \"white\", \"ticks\": \"\"}}, \"scene\": {\"xaxis\": {\"backgroundcolor\": \"#E5ECF6\", \"gridcolor\": \"white\", \"gridwidth\": 2, \"linecolor\": \"white\", \"showbackground\": true, \"ticks\": \"\", \"zerolinecolor\": \"white\"}, \"yaxis\": {\"backgroundcolor\": \"#E5ECF6\", \"gridcolor\": \"white\", \"gridwidth\": 2, \"linecolor\": \"white\", \"showbackground\": true, \"ticks\": \"\", \"zerolinecolor\": \"white\"}, \"zaxis\": {\"backgroundcolor\": \"#E5ECF6\", \"gridcolor\": \"white\", \"gridwidth\": 2, \"linecolor\": \"white\", \"showbackground\": true, \"ticks\": \"\", \"zerolinecolor\": \"white\"}}, \"shapedefaults\": {\"line\": {\"color\": \"#2a3f5f\"}}, \"ternary\": {\"aaxis\": {\"gridcolor\": \"white\", \"linecolor\": \"white\", \"ticks\": \"\"}, \"baxis\": {\"gridcolor\": \"white\", \"linecolor\": \"white\", \"ticks\": \"\"}, \"bgcolor\": \"#E5ECF6\", \"caxis\": {\"gridcolor\": \"white\", \"linecolor\": \"white\", \"ticks\": \"\"}}, \"title\": {\"x\": 0.05}, \"xaxis\": {\"automargin\": true, \"gridcolor\": \"white\", \"linecolor\": \"white\", \"ticks\": \"\", \"title\": {\"standoff\": 15}, \"zerolinecolor\": \"white\", \"zerolinewidth\": 2}, \"yaxis\": {\"automargin\": true, \"gridcolor\": \"white\", \"linecolor\": \"white\", \"ticks\": \"\", \"title\": {\"standoff\": 15}, \"zerolinecolor\": \"white\", \"zerolinewidth\": 2}}}, \"width\": 900, \"xaxis\": {\"anchor\": \"y\", \"domain\": [0.0, 1.0], \"range\": [\"2012-07-22T04:48:00\", \"2022-05-12T19:12:00\"], \"type\": \"date\"}, \"xaxis2\": {\"anchor\": \"y2\", \"domain\": [0.0, 1.0], \"range\": [\"2016-12-13T18:54:02.958904115\", \"2018-01-18T11:04:57.863013581\"], \"tickformat\": \"%B %e\", \"type\": \"date\"}, \"yaxis\": {\"anchor\": \"x\", \"domain\": [0.575, 1.0], \"rangemode\": \"normal\", \"title\": {\"text\": \"trend\"}, \"zerolinecolor\": \"#AAA\"}, \"yaxis2\": {\"anchor\": \"x2\", \"domain\": [0.0, 0.425], \"title\": {\"text\": \"yearly\"}, \"zerolinecolor\": \"#AAA\"}},\n",
       "                        {\"responsive\": true}\n",
       "                    ).then(function(){\n",
       "                            \n",
       "var gd = document.getElementById('ee47da5d-e568-4a48-a544-67b5d1dfc664');\n",
       "var x = new MutationObserver(function (mutations, observer) {{\n",
       "        var display = window.getComputedStyle(gd).display;\n",
       "        if (!display || display === 'none') {{\n",
       "            console.log([gd, 'removed!']);\n",
       "            Plotly.purge(gd);\n",
       "            observer.disconnect();\n",
       "        }}\n",
       "}});\n",
       "\n",
       "// Listen for the removal of the full notebook cells\n",
       "var notebookContainer = gd.closest('#notebook-container');\n",
       "if (notebookContainer) {{\n",
       "    x.observe(notebookContainer, {childList: true});\n",
       "}}\n",
       "\n",
       "// Listen for the clearing of the current output cell\n",
       "var outputEl = gd.closest('.output');\n",
       "if (outputEl) {{\n",
       "    x.observe(outputEl, {childList: true});\n",
       "}}\n",
       "\n",
       "                        })\n",
       "                };\n",
       "                });\n",
       "            </script>\n",
       "        </div>"
      ]
     },
     "metadata": {},
     "output_type": "display_data"
    }
   ],
   "source": [
    "plot_components_plotly(ts_model, ts_forecast)"
   ]
  },
  {
   "cell_type": "code",
   "execution_count": null,
   "metadata": {},
   "outputs": [],
   "source": []
  }
 ],
 "metadata": {
  "kernelspec": {
   "display_name": "Python 3",
   "language": "python",
   "name": "python3"
  },
  "language_info": {
   "codemirror_mode": {
    "name": "ipython",
    "version": 3
   },
   "file_extension": ".py",
   "mimetype": "text/x-python",
   "name": "python",
   "nbconvert_exporter": "python",
   "pygments_lexer": "ipython3",
   "version": "3.6.9"
  }
 },
 "nbformat": 4,
 "nbformat_minor": 4
}
